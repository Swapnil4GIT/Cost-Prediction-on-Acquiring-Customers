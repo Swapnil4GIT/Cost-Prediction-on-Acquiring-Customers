{
 "cells": [
  {
   "cell_type": "code",
   "execution_count": 1,
   "id": "9093dabb",
   "metadata": {},
   "outputs": [],
   "source": [
    "# Import Libraries\n",
    "\n",
    "import pandas as pd\n",
    "import numpy as np\n",
    "import matplotlib.pyplot as plt\n",
    "import seaborn as sns\n",
    "import warnings\n",
    "from sklearn.preprocessing import StandardScaler\n",
    "import plotly.express as px\n"
   ]
  },
  {
   "cell_type": "code",
   "execution_count": 2,
   "id": "c2fd8eec",
   "metadata": {},
   "outputs": [],
   "source": [
    "# set global parameters\n",
    "\n",
    "pd.set_option('display.max_rows', 500)\n",
    "pd.set_option('display.max_columns', 500)\n",
    "pd.set_option('display.width', 1000)\n",
    "warnings.filterwarnings('ignore')\n",
    "sns.set_style('darkgrid', {'grid.color':'red'})"
   ]
  },
  {
   "cell_type": "code",
   "execution_count": 3,
   "id": "9f933b60",
   "metadata": {},
   "outputs": [],
   "source": [
    "df = pd.read_csv('./Data/media prediction and its cost.csv')"
   ]
  },
  {
   "cell_type": "code",
   "execution_count": 4,
   "id": "187a3ee7",
   "metadata": {},
   "outputs": [],
   "source": [
    "df = df.rename(columns={'store_sales(in millions)':'store_sales',\n",
    "                   'store_cost(in millions)':'store_cost',\n",
    "                   'unit_sales(in millions)':'unit_sales',\n",
    "                   'avg_cars_at home(approx)':'avg_cars_at_home',\n",
    "                   'avg_cars_at home(approx).1':'avg_cars_at_home_1'})"
   ]
  },
  {
   "cell_type": "code",
   "execution_count": 5,
   "id": "dfcfecb0",
   "metadata": {},
   "outputs": [
    {
     "data": {
      "text/html": [
       "<div>\n",
       "<style scoped>\n",
       "    .dataframe tbody tr th:only-of-type {\n",
       "        vertical-align: middle;\n",
       "    }\n",
       "\n",
       "    .dataframe tbody tr th {\n",
       "        vertical-align: top;\n",
       "    }\n",
       "\n",
       "    .dataframe thead th {\n",
       "        text-align: right;\n",
       "    }\n",
       "</style>\n",
       "<table border=\"1\" class=\"dataframe\">\n",
       "  <thead>\n",
       "    <tr style=\"text-align: right;\">\n",
       "      <th></th>\n",
       "      <th>food_category</th>\n",
       "      <th>food_department</th>\n",
       "      <th>food_family</th>\n",
       "      <th>store_sales</th>\n",
       "      <th>store_cost</th>\n",
       "      <th>unit_sales</th>\n",
       "      <th>promotion_name</th>\n",
       "      <th>sales_country</th>\n",
       "      <th>marital_status</th>\n",
       "      <th>gender</th>\n",
       "      <th>total_children</th>\n",
       "      <th>education</th>\n",
       "      <th>member_card</th>\n",
       "      <th>occupation</th>\n",
       "      <th>houseowner</th>\n",
       "      <th>avg_cars_at_home</th>\n",
       "      <th>avg. yearly_income</th>\n",
       "      <th>num_children_at_home</th>\n",
       "      <th>avg_cars_at_home_1</th>\n",
       "      <th>brand_name</th>\n",
       "      <th>SRP</th>\n",
       "      <th>gross_weight</th>\n",
       "      <th>net_weight</th>\n",
       "      <th>recyclable_package</th>\n",
       "      <th>low_fat</th>\n",
       "      <th>units_per_case</th>\n",
       "      <th>store_type</th>\n",
       "      <th>store_city</th>\n",
       "      <th>store_state</th>\n",
       "      <th>store_sqft</th>\n",
       "      <th>grocery_sqft</th>\n",
       "      <th>frozen_sqft</th>\n",
       "      <th>meat_sqft</th>\n",
       "      <th>coffee_bar</th>\n",
       "      <th>video_store</th>\n",
       "      <th>salad_bar</th>\n",
       "      <th>prepared_food</th>\n",
       "      <th>florist</th>\n",
       "      <th>media_type</th>\n",
       "      <th>cost</th>\n",
       "    </tr>\n",
       "  </thead>\n",
       "  <tbody>\n",
       "    <tr>\n",
       "      <th>0</th>\n",
       "      <td>Breakfast Foods</td>\n",
       "      <td>Frozen Foods</td>\n",
       "      <td>Food</td>\n",
       "      <td>7.36</td>\n",
       "      <td>2.7232</td>\n",
       "      <td>4.0</td>\n",
       "      <td>Bag Stuffers</td>\n",
       "      <td>USA</td>\n",
       "      <td>M</td>\n",
       "      <td>F</td>\n",
       "      <td>1.0</td>\n",
       "      <td>Partial High School</td>\n",
       "      <td>Normal</td>\n",
       "      <td>Skilled Manual</td>\n",
       "      <td>Y</td>\n",
       "      <td>1.0</td>\n",
       "      <td>$10K - $30K</td>\n",
       "      <td>1.0</td>\n",
       "      <td>1.0</td>\n",
       "      <td>Carrington</td>\n",
       "      <td>1.84</td>\n",
       "      <td>19.7</td>\n",
       "      <td>17.7</td>\n",
       "      <td>1.0</td>\n",
       "      <td>0.0</td>\n",
       "      <td>17.0</td>\n",
       "      <td>Deluxe Supermarket</td>\n",
       "      <td>Salem</td>\n",
       "      <td>OR</td>\n",
       "      <td>27694.0</td>\n",
       "      <td>18670.0</td>\n",
       "      <td>5415.0</td>\n",
       "      <td>3610.0</td>\n",
       "      <td>1.0</td>\n",
       "      <td>1.0</td>\n",
       "      <td>1.0</td>\n",
       "      <td>1.0</td>\n",
       "      <td>1.0</td>\n",
       "      <td>Daily Paper, Radio</td>\n",
       "      <td>126.62</td>\n",
       "    </tr>\n",
       "    <tr>\n",
       "      <th>1</th>\n",
       "      <td>Breakfast Foods</td>\n",
       "      <td>Frozen Foods</td>\n",
       "      <td>Food</td>\n",
       "      <td>5.52</td>\n",
       "      <td>2.5944</td>\n",
       "      <td>3.0</td>\n",
       "      <td>Cash Register Lottery</td>\n",
       "      <td>USA</td>\n",
       "      <td>M</td>\n",
       "      <td>M</td>\n",
       "      <td>0.0</td>\n",
       "      <td>Bachelors Degree</td>\n",
       "      <td>Silver</td>\n",
       "      <td>Professional</td>\n",
       "      <td>Y</td>\n",
       "      <td>4.0</td>\n",
       "      <td>$50K - $70K</td>\n",
       "      <td>0.0</td>\n",
       "      <td>4.0</td>\n",
       "      <td>Carrington</td>\n",
       "      <td>1.84</td>\n",
       "      <td>19.7</td>\n",
       "      <td>17.7</td>\n",
       "      <td>1.0</td>\n",
       "      <td>0.0</td>\n",
       "      <td>17.0</td>\n",
       "      <td>Deluxe Supermarket</td>\n",
       "      <td>Salem</td>\n",
       "      <td>OR</td>\n",
       "      <td>27694.0</td>\n",
       "      <td>18670.0</td>\n",
       "      <td>5415.0</td>\n",
       "      <td>3610.0</td>\n",
       "      <td>1.0</td>\n",
       "      <td>1.0</td>\n",
       "      <td>1.0</td>\n",
       "      <td>1.0</td>\n",
       "      <td>1.0</td>\n",
       "      <td>Daily Paper, Radio</td>\n",
       "      <td>59.86</td>\n",
       "    </tr>\n",
       "  </tbody>\n",
       "</table>\n",
       "</div>"
      ],
      "text/plain": [
       "     food_category food_department food_family  store_sales  store_cost  unit_sales         promotion_name sales_country marital_status gender  total_children            education member_card      occupation houseowner  avg_cars_at_home avg. yearly_income  num_children_at_home  avg_cars_at_home_1  brand_name   SRP  gross_weight  net_weight  recyclable_package  low_fat  units_per_case          store_type store_city store_state  store_sqft  grocery_sqft  frozen_sqft  meat_sqft  coffee_bar  video_store  salad_bar  prepared_food  florist          media_type    cost\n",
       "0  Breakfast Foods    Frozen Foods        Food         7.36      2.7232         4.0           Bag Stuffers           USA              M      F             1.0  Partial High School      Normal  Skilled Manual          Y               1.0        $10K - $30K                   1.0                 1.0  Carrington  1.84          19.7        17.7                 1.0      0.0            17.0  Deluxe Supermarket      Salem          OR     27694.0       18670.0       5415.0     3610.0         1.0          1.0        1.0            1.0      1.0  Daily Paper, Radio  126.62\n",
       "1  Breakfast Foods    Frozen Foods        Food         5.52      2.5944         3.0  Cash Register Lottery           USA              M      M             0.0     Bachelors Degree      Silver    Professional          Y               4.0        $50K - $70K                   0.0                 4.0  Carrington  1.84          19.7        17.7                 1.0      0.0            17.0  Deluxe Supermarket      Salem          OR     27694.0       18670.0       5415.0     3610.0         1.0          1.0        1.0            1.0      1.0  Daily Paper, Radio   59.86"
      ]
     },
     "execution_count": 5,
     "metadata": {},
     "output_type": "execute_result"
    }
   ],
   "source": [
    "df.head(2)"
   ]
  },
  {
   "cell_type": "code",
   "execution_count": 6,
   "id": "4f5a368f",
   "metadata": {},
   "outputs": [
    {
     "name": "stdout",
     "output_type": "stream",
     "text": [
      "(60428, 40)\n",
      "(0, 40)\n"
     ]
    }
   ],
   "source": [
    "print(df.loc[df['avg_cars_at_home'] == df['avg_cars_at_home_1']].shape)\n",
    "print(df.loc[df['avg_cars_at_home'] != df['avg_cars_at_home_1']].shape)"
   ]
  },
  {
   "cell_type": "code",
   "execution_count": 7,
   "id": "75614177",
   "metadata": {},
   "outputs": [],
   "source": [
    "df = df.drop(['avg_cars_at_home_1'], axis=1)"
   ]
  },
  {
   "cell_type": "code",
   "execution_count": 8,
   "id": "ffbd1426",
   "metadata": {},
   "outputs": [
    {
     "data": {
      "text/html": [
       "<div>\n",
       "<style scoped>\n",
       "    .dataframe tbody tr th:only-of-type {\n",
       "        vertical-align: middle;\n",
       "    }\n",
       "\n",
       "    .dataframe tbody tr th {\n",
       "        vertical-align: top;\n",
       "    }\n",
       "\n",
       "    .dataframe thead th {\n",
       "        text-align: right;\n",
       "    }\n",
       "</style>\n",
       "<table border=\"1\" class=\"dataframe\">\n",
       "  <thead>\n",
       "    <tr style=\"text-align: right;\">\n",
       "      <th></th>\n",
       "      <th>food_category</th>\n",
       "      <th>total_cost</th>\n",
       "    </tr>\n",
       "  </thead>\n",
       "  <tbody>\n",
       "    <tr>\n",
       "      <th>44</th>\n",
       "      <td>Vegetables</td>\n",
       "      <td>737236.10</td>\n",
       "    </tr>\n",
       "    <tr>\n",
       "      <th>41</th>\n",
       "      <td>Snack Foods</td>\n",
       "      <td>689479.67</td>\n",
       "    </tr>\n",
       "    <tr>\n",
       "      <th>17</th>\n",
       "      <td>Dairy</td>\n",
       "      <td>378648.93</td>\n",
       "    </tr>\n",
       "    <tr>\n",
       "      <th>31</th>\n",
       "      <td>Meat</td>\n",
       "      <td>310636.56</td>\n",
       "    </tr>\n",
       "    <tr>\n",
       "      <th>24</th>\n",
       "      <td>Fruit</td>\n",
       "      <td>305382.04</td>\n",
       "    </tr>\n",
       "    <tr>\n",
       "      <th>28</th>\n",
       "      <td>Jams and Jellies</td>\n",
       "      <td>252969.65</td>\n",
       "    </tr>\n",
       "    <tr>\n",
       "      <th>0</th>\n",
       "      <td>Baking Goods</td>\n",
       "      <td>194346.39</td>\n",
       "    </tr>\n",
       "    <tr>\n",
       "      <th>4</th>\n",
       "      <td>Breakfast Foods</td>\n",
       "      <td>193475.48</td>\n",
       "    </tr>\n",
       "    <tr>\n",
       "      <th>3</th>\n",
       "      <td>Bread</td>\n",
       "      <td>178743.99</td>\n",
       "    </tr>\n",
       "    <tr>\n",
       "      <th>12</th>\n",
       "      <td>Canned Soup</td>\n",
       "      <td>173967.15</td>\n",
       "    </tr>\n",
       "  </tbody>\n",
       "</table>\n",
       "</div>"
      ],
      "text/plain": [
       "       food_category  total_cost\n",
       "44        Vegetables   737236.10\n",
       "41       Snack Foods   689479.67\n",
       "17             Dairy   378648.93\n",
       "31              Meat   310636.56\n",
       "24             Fruit   305382.04\n",
       "28  Jams and Jellies   252969.65\n",
       "0       Baking Goods   194346.39\n",
       "4    Breakfast Foods   193475.48\n",
       "3              Bread   178743.99\n",
       "12       Canned Soup   173967.15"
      ]
     },
     "execution_count": 8,
     "metadata": {},
     "output_type": "execute_result"
    }
   ],
   "source": [
    "df_cost_by_food_cat = df.groupby(['food_category']).agg(\n",
    "        total_cost = pd.NamedAgg('cost','sum')\n",
    "        ).reset_index().sort_values('total_cost',ascending=False)\n",
    "\n",
    "df_cost_by_food_cat.loc[df_cost_by_food_cat['total_cost'] >= 100000].head(10)\n",
    "\n",
    "#Non-luxurious items are having higher costs"
   ]
  },
  {
   "cell_type": "code",
   "execution_count": 9,
   "id": "a3f75895",
   "metadata": {},
   "outputs": [],
   "source": [
    "#acop - acquired cost over profit\n",
    "\n",
    "df_acop_by_food_cat = df.groupby(['food_category']).agg(\n",
    "                        total_sales=pd.NamedAgg('store_sales','sum'),\n",
    "                        total_cost=pd.NamedAgg('store_cost','sum'),\n",
    "                        total_units_sales=pd.NamedAgg('unit_sales','sum'),\n",
    "                        total_aq_cost = pd.NamedAgg('cost','sum')\n",
    "                        ).reset_index()"
   ]
  },
  {
   "cell_type": "code",
   "execution_count": 10,
   "id": "2c4091e8",
   "metadata": {},
   "outputs": [
    {
     "data": {
      "text/html": [
       "<div>\n",
       "<style scoped>\n",
       "    .dataframe tbody tr th:only-of-type {\n",
       "        vertical-align: middle;\n",
       "    }\n",
       "\n",
       "    .dataframe tbody tr th {\n",
       "        vertical-align: top;\n",
       "    }\n",
       "\n",
       "    .dataframe thead th {\n",
       "        text-align: right;\n",
       "    }\n",
       "</style>\n",
       "<table border=\"1\" class=\"dataframe\">\n",
       "  <thead>\n",
       "    <tr style=\"text-align: right;\">\n",
       "      <th></th>\n",
       "      <th>food_category</th>\n",
       "      <th>total_sales</th>\n",
       "      <th>total_cost</th>\n",
       "      <th>total_units_sales</th>\n",
       "      <th>total_aq_cost</th>\n",
       "      <th>Net_Profit</th>\n",
       "      <th>Marginal_Profit</th>\n",
       "      <th>acop</th>\n",
       "    </tr>\n",
       "  </thead>\n",
       "  <tbody>\n",
       "    <tr>\n",
       "      <th>0</th>\n",
       "      <td>Baking Goods</td>\n",
       "      <td>11313.59</td>\n",
       "      <td>4523.1481</td>\n",
       "      <td>6037.0</td>\n",
       "      <td>0.194346</td>\n",
       "      <td>6790.4419</td>\n",
       "      <td>1.124804</td>\n",
       "      <td>0.000029</td>\n",
       "    </tr>\n",
       "    <tr>\n",
       "      <th>1</th>\n",
       "      <td>Bathroom Products</td>\n",
       "      <td>9403.80</td>\n",
       "      <td>3763.9007</td>\n",
       "      <td>4794.0</td>\n",
       "      <td>0.155249</td>\n",
       "      <td>5639.8993</td>\n",
       "      <td>1.176450</td>\n",
       "      <td>0.000028</td>\n",
       "    </tr>\n",
       "    <tr>\n",
       "      <th>2</th>\n",
       "      <td>Beer and Wine</td>\n",
       "      <td>10096.61</td>\n",
       "      <td>4048.5488</td>\n",
       "      <td>4951.0</td>\n",
       "      <td>0.157447</td>\n",
       "      <td>6048.0612</td>\n",
       "      <td>1.221584</td>\n",
       "      <td>0.000026</td>\n",
       "    </tr>\n",
       "    <tr>\n",
       "      <th>3</th>\n",
       "      <td>Bread</td>\n",
       "      <td>11813.05</td>\n",
       "      <td>4728.0011</td>\n",
       "      <td>5552.0</td>\n",
       "      <td>0.178744</td>\n",
       "      <td>7085.0489</td>\n",
       "      <td>1.276126</td>\n",
       "      <td>0.000025</td>\n",
       "    </tr>\n",
       "    <tr>\n",
       "      <th>4</th>\n",
       "      <td>Breakfast Foods</td>\n",
       "      <td>11328.06</td>\n",
       "      <td>4535.8428</td>\n",
       "      <td>6025.0</td>\n",
       "      <td>0.193475</td>\n",
       "      <td>6792.2172</td>\n",
       "      <td>1.127339</td>\n",
       "      <td>0.000028</td>\n",
       "    </tr>\n",
       "  </tbody>\n",
       "</table>\n",
       "</div>"
      ],
      "text/plain": [
       "       food_category  total_sales  total_cost  total_units_sales  total_aq_cost  Net_Profit  Marginal_Profit      acop\n",
       "0       Baking Goods     11313.59   4523.1481             6037.0       0.194346   6790.4419         1.124804  0.000029\n",
       "1  Bathroom Products      9403.80   3763.9007             4794.0       0.155249   5639.8993         1.176450  0.000028\n",
       "2      Beer and Wine     10096.61   4048.5488             4951.0       0.157447   6048.0612         1.221584  0.000026\n",
       "3              Bread     11813.05   4728.0011             5552.0       0.178744   7085.0489         1.276126  0.000025\n",
       "4    Breakfast Foods     11328.06   4535.8428             6025.0       0.193475   6792.2172         1.127339  0.000028"
      ]
     },
     "execution_count": 10,
     "metadata": {},
     "output_type": "execute_result"
    }
   ],
   "source": [
    "df_acop_by_food_cat['Net_Profit']      = \\\n",
    "                                df_acop_by_food_cat['total_sales']-df_acop_by_food_cat['total_cost']\n",
    "df_acop_by_food_cat['Marginal_Profit'] = \\\n",
    "                                df_acop_by_food_cat['Net_Profit']/df_acop_by_food_cat['total_units_sales']\n",
    "df_acop_by_food_cat['total_aq_cost']   = \\\n",
    "                                df_acop_by_food_cat['total_aq_cost']/1000000\n",
    "df_acop_by_food_cat['acop']            = \\\n",
    "                                df_acop_by_food_cat['total_aq_cost']/df_acop_by_food_cat['Net_Profit']\n",
    "df_acop_by_food_cat.head()"
   ]
  },
  {
   "cell_type": "code",
   "execution_count": 11,
   "id": "6ab37a43",
   "metadata": {},
   "outputs": [
    {
     "data": {
      "text/plain": [
       "(60428, 39)"
      ]
     },
     "execution_count": 11,
     "metadata": {},
     "output_type": "execute_result"
    }
   ],
   "source": [
    "df.shape"
   ]
  },
  {
   "cell_type": "code",
   "execution_count": 12,
   "id": "800d36ca",
   "metadata": {},
   "outputs": [],
   "source": [
    "#Store Level"
   ]
  },
  {
   "cell_type": "code",
   "execution_count": 13,
   "id": "f19e319d",
   "metadata": {},
   "outputs": [],
   "source": [
    "strlvl_promo_info = df.groupby(['sales_country',\n",
    "                                'store_state',\n",
    "                                'store_city',\n",
    "                                'store_type',\n",
    "                                'promotion_name',\n",
    "                                'media_type',\n",
    "                                'store_sqft',\n",
    "                                'grocery_sqft',\n",
    "                                'frozen_sqft',\n",
    "                                'meat_sqft',\n",
    "                                'coffee_bar',\n",
    "                                'video_store',\n",
    "                                'salad_bar',\n",
    "                                'prepared_food',\n",
    "                                'florist',\n",
    "                                'cost']).agg(\n",
    "                                    total_acq_customers = pd.NamedAgg('gender', 'count'),\n",
    "                                    total_units_sold = pd.NamedAgg('unit_sales', 'sum'),\n",
    "                                    total_store_sales = pd.NamedAgg('store_sales','sum'),\n",
    "                                    total_store_cost = pd.NamedAgg('store_cost', 'sum'),\n",
    "                                    total_acq_cost = pd.NamedAgg('cost', 'sum')\n",
    "                                ).reset_index().sort_values(\n",
    "                                                    ['sales_country',\n",
    "                                                     'store_state',\n",
    "                                                     'store_city',\n",
    "                                                     'store_type'], ascending=False)\n",
    "\n",
    "strlvl_promo_info['CAC'] = ( strlvl_promo_info['total_store_cost'] + \\\n",
    "                             strlvl_promo_info['total_acq_cost']/1000000 \\\n",
    "                           ) / strlvl_promo_info['total_acq_customers']"
   ]
  },
  {
   "cell_type": "code",
   "execution_count": 14,
   "id": "1f31cbe2",
   "metadata": {},
   "outputs": [
    {
     "data": {
      "text/html": [
       "<div>\n",
       "<style scoped>\n",
       "    .dataframe tbody tr th:only-of-type {\n",
       "        vertical-align: middle;\n",
       "    }\n",
       "\n",
       "    .dataframe tbody tr th {\n",
       "        vertical-align: top;\n",
       "    }\n",
       "\n",
       "    .dataframe thead th {\n",
       "        text-align: right;\n",
       "    }\n",
       "</style>\n",
       "<table border=\"1\" class=\"dataframe\">\n",
       "  <thead>\n",
       "    <tr style=\"text-align: right;\">\n",
       "      <th></th>\n",
       "      <th>sales_country</th>\n",
       "      <th>store_state</th>\n",
       "      <th>store_city</th>\n",
       "      <th>store_type</th>\n",
       "      <th>promotion_name</th>\n",
       "      <th>media_type</th>\n",
       "      <th>store_sqft</th>\n",
       "      <th>grocery_sqft</th>\n",
       "      <th>frozen_sqft</th>\n",
       "      <th>meat_sqft</th>\n",
       "      <th>coffee_bar</th>\n",
       "      <th>video_store</th>\n",
       "      <th>salad_bar</th>\n",
       "      <th>prepared_food</th>\n",
       "      <th>florist</th>\n",
       "      <th>cost</th>\n",
       "      <th>total_acq_customers</th>\n",
       "      <th>total_units_sold</th>\n",
       "      <th>total_store_sales</th>\n",
       "      <th>total_store_cost</th>\n",
       "      <th>total_acq_cost</th>\n",
       "      <th>CAC</th>\n",
       "    </tr>\n",
       "  </thead>\n",
       "  <tbody>\n",
       "    <tr>\n",
       "      <th>327</th>\n",
       "      <td>USA</td>\n",
       "      <td>WA</td>\n",
       "      <td>Tacoma</td>\n",
       "      <td>Deluxe Supermarket</td>\n",
       "      <td>Bag Stuffers</td>\n",
       "      <td>Daily Paper</td>\n",
       "      <td>33858.0</td>\n",
       "      <td>22123.0</td>\n",
       "      <td>7041.0</td>\n",
       "      <td>4694.0</td>\n",
       "      <td>1.0</td>\n",
       "      <td>0.0</td>\n",
       "      <td>1.0</td>\n",
       "      <td>1.0</td>\n",
       "      <td>1.0</td>\n",
       "      <td>70.32</td>\n",
       "      <td>221</td>\n",
       "      <td>706.0</td>\n",
       "      <td>1574.16</td>\n",
       "      <td>631.8913</td>\n",
       "      <td>15540.72</td>\n",
       "      <td>2.859307</td>\n",
       "    </tr>\n",
       "    <tr>\n",
       "      <th>328</th>\n",
       "      <td>USA</td>\n",
       "      <td>WA</td>\n",
       "      <td>Tacoma</td>\n",
       "      <td>Deluxe Supermarket</td>\n",
       "      <td>Big Promo</td>\n",
       "      <td>Sunday Paper</td>\n",
       "      <td>33858.0</td>\n",
       "      <td>22123.0</td>\n",
       "      <td>7041.0</td>\n",
       "      <td>4694.0</td>\n",
       "      <td>1.0</td>\n",
       "      <td>0.0</td>\n",
       "      <td>1.0</td>\n",
       "      <td>1.0</td>\n",
       "      <td>1.0</td>\n",
       "      <td>51.12</td>\n",
       "      <td>432</td>\n",
       "      <td>1324.0</td>\n",
       "      <td>2741.12</td>\n",
       "      <td>1112.3838</td>\n",
       "      <td>22083.84</td>\n",
       "      <td>2.575014</td>\n",
       "    </tr>\n",
       "    <tr>\n",
       "      <th>329</th>\n",
       "      <td>USA</td>\n",
       "      <td>WA</td>\n",
       "      <td>Tacoma</td>\n",
       "      <td>Deluxe Supermarket</td>\n",
       "      <td>Dollar Cutters</td>\n",
       "      <td>Sunday Paper, Radio</td>\n",
       "      <td>33858.0</td>\n",
       "      <td>22123.0</td>\n",
       "      <td>7041.0</td>\n",
       "      <td>4694.0</td>\n",
       "      <td>1.0</td>\n",
       "      <td>0.0</td>\n",
       "      <td>1.0</td>\n",
       "      <td>1.0</td>\n",
       "      <td>1.0</td>\n",
       "      <td>136.74</td>\n",
       "      <td>223</td>\n",
       "      <td>695.0</td>\n",
       "      <td>1481.82</td>\n",
       "      <td>593.9065</td>\n",
       "      <td>30493.02</td>\n",
       "      <td>2.663395</td>\n",
       "    </tr>\n",
       "    <tr>\n",
       "      <th>330</th>\n",
       "      <td>USA</td>\n",
       "      <td>WA</td>\n",
       "      <td>Tacoma</td>\n",
       "      <td>Deluxe Supermarket</td>\n",
       "      <td>Dollar Days</td>\n",
       "      <td>Daily Paper, Radio</td>\n",
       "      <td>33858.0</td>\n",
       "      <td>22123.0</td>\n",
       "      <td>7041.0</td>\n",
       "      <td>4694.0</td>\n",
       "      <td>1.0</td>\n",
       "      <td>0.0</td>\n",
       "      <td>1.0</td>\n",
       "      <td>1.0</td>\n",
       "      <td>1.0</td>\n",
       "      <td>138.81</td>\n",
       "      <td>404</td>\n",
       "      <td>1258.0</td>\n",
       "      <td>2593.53</td>\n",
       "      <td>1037.9328</td>\n",
       "      <td>56079.24</td>\n",
       "      <td>2.569279</td>\n",
       "    </tr>\n",
       "    <tr>\n",
       "      <th>331</th>\n",
       "      <td>USA</td>\n",
       "      <td>WA</td>\n",
       "      <td>Tacoma</td>\n",
       "      <td>Deluxe Supermarket</td>\n",
       "      <td>Double Down Sale</td>\n",
       "      <td>TV</td>\n",
       "      <td>33858.0</td>\n",
       "      <td>22123.0</td>\n",
       "      <td>7041.0</td>\n",
       "      <td>4694.0</td>\n",
       "      <td>1.0</td>\n",
       "      <td>0.0</td>\n",
       "      <td>1.0</td>\n",
       "      <td>1.0</td>\n",
       "      <td>1.0</td>\n",
       "      <td>95.74</td>\n",
       "      <td>524</td>\n",
       "      <td>1669.0</td>\n",
       "      <td>3555.20</td>\n",
       "      <td>1422.5316</td>\n",
       "      <td>50167.76</td>\n",
       "      <td>2.714851</td>\n",
       "    </tr>\n",
       "  </tbody>\n",
       "</table>\n",
       "</div>"
      ],
      "text/plain": [
       "    sales_country store_state store_city          store_type    promotion_name           media_type  store_sqft  grocery_sqft  frozen_sqft  meat_sqft  coffee_bar  video_store  salad_bar  prepared_food  florist    cost  total_acq_customers  total_units_sold  total_store_sales  total_store_cost  total_acq_cost       CAC\n",
       "327           USA          WA     Tacoma  Deluxe Supermarket      Bag Stuffers          Daily Paper     33858.0       22123.0       7041.0     4694.0         1.0          0.0        1.0            1.0      1.0   70.32                  221             706.0            1574.16          631.8913        15540.72  2.859307\n",
       "328           USA          WA     Tacoma  Deluxe Supermarket         Big Promo         Sunday Paper     33858.0       22123.0       7041.0     4694.0         1.0          0.0        1.0            1.0      1.0   51.12                  432            1324.0            2741.12         1112.3838        22083.84  2.575014\n",
       "329           USA          WA     Tacoma  Deluxe Supermarket    Dollar Cutters  Sunday Paper, Radio     33858.0       22123.0       7041.0     4694.0         1.0          0.0        1.0            1.0      1.0  136.74                  223             695.0            1481.82          593.9065        30493.02  2.663395\n",
       "330           USA          WA     Tacoma  Deluxe Supermarket       Dollar Days   Daily Paper, Radio     33858.0       22123.0       7041.0     4694.0         1.0          0.0        1.0            1.0      1.0  138.81                  404            1258.0            2593.53         1037.9328        56079.24  2.569279\n",
       "331           USA          WA     Tacoma  Deluxe Supermarket  Double Down Sale                   TV     33858.0       22123.0       7041.0     4694.0         1.0          0.0        1.0            1.0      1.0   95.74                  524            1669.0            3555.20         1422.5316        50167.76  2.714851"
      ]
     },
     "execution_count": 14,
     "metadata": {},
     "output_type": "execute_result"
    }
   ],
   "source": [
    "strlvl_promo_info.head()"
   ]
  },
  {
   "cell_type": "code",
   "execution_count": 15,
   "id": "f8ce8e5d",
   "metadata": {},
   "outputs": [
    {
     "data": {
      "text/plain": [
       "(348, 22)"
      ]
     },
     "execution_count": 15,
     "metadata": {},
     "output_type": "execute_result"
    }
   ],
   "source": [
    "strlvl_promo_info.shape"
   ]
  },
  {
   "cell_type": "code",
   "execution_count": 16,
   "id": "17113f4c",
   "metadata": {},
   "outputs": [
    {
     "data": {
      "image/png": "[encoded data removed]",
      "text/plain": [
       "<Figure size 1500x600 with 2 Axes>"
      ]
     },
     "metadata": {},
     "output_type": "display_data"
    }
   ],
   "source": [
    "plt.figure(figsize=(15,6))\n",
    "plt.subplot(2,1,1,facecolor='grey')\n",
    "sns.boxplot(data=strlvl_promo_info,\n",
    "            y='sales_country',\n",
    "            x='CAC',\n",
    "            palette='crest')\n",
    "\n",
    "plt.subplot(2,1,2,facecolor='grey')\n",
    "pd_df = strlvl_promo_info.groupby(\n",
    "                ['sales_country']\n",
    "                ).agg(\n",
    "                 total_acq_customers = pd.NamedAgg('total_acq_customers', 'sum')\n",
    "                ).reset_index().sort_values('sales_country', ascending=False)\n",
    "\n",
    "sns.barplot(data=pd_df,\n",
    "            y='sales_country',\n",
    "            x='total_acq_customers',\n",
    "            palette='crest')\n",
    "plt.show()"
   ]
  },
  {
   "cell_type": "code",
   "execution_count": 17,
   "id": "eb0671c4",
   "metadata": {},
   "outputs": [
    {
     "data": {
      "image/png": "[encoded data removed]",
      "text/plain": [
       "<Figure size 2000x3000 with 10 Axes>"
      ]
     },
     "metadata": {},
     "output_type": "display_data"
    }
   ],
   "source": [
    "plt.figure(figsize=(20,30))\n",
    "plt.subplot(5,2,1, facecolor='grey')\n",
    "sns.boxplot(data=strlvl_promo_info,\n",
    "             y='CAC',\n",
    "             x='sales_country',\n",
    "             hue='coffee_bar',\n",
    "             palette='crest')\n",
    "pd_df = strlvl_promo_info.groupby(\n",
    "             ['sales_country',\n",
    "              'coffee_bar']\n",
    "            ).agg(total_acq_customers = pd.NamedAgg(\n",
    "                                        'total_acq_customers', 'sum')\n",
    "                                        ).reset_index().sort_values('sales_country',ascending=False)\n",
    "plt.subplot(5,2,2, facecolor='grey')\n",
    "sns.barplot(data=pd_df,\n",
    "            x='sales_country',\n",
    "            y='total_acq_customers',\n",
    "            hue='coffee_bar',\n",
    "            palette='crest')\n",
    "\n",
    "plt.subplot(5,2,3, facecolor='grey')\n",
    "sns.boxplot(data=strlvl_promo_info,\n",
    "             x='sales_country',\n",
    "             y='CAC',\n",
    "             hue='video_store',\n",
    "             palette='crest')\n",
    "pd_df = strlvl_promo_info.groupby(\n",
    "             ['sales_country',\n",
    "              'video_store']\n",
    "            ).agg(total_acq_customers = pd.NamedAgg(\n",
    "                                        'total_acq_customers', 'sum')\n",
    "                                        ).reset_index().sort_values('sales_country',ascending=False)\n",
    "\n",
    "plt.subplot(5,2,4, facecolor='grey')\n",
    "sns.barplot(data=pd_df,\n",
    "            x='sales_country',\n",
    "            y='total_acq_customers',\n",
    "            hue='video_store',\n",
    "            palette='crest')\n",
    "\n",
    "plt.subplot(5,2,5, facecolor='grey')\n",
    "sns.boxplot(data=strlvl_promo_info,\n",
    "             y='CAC',\n",
    "             x='sales_country',\n",
    "             hue='salad_bar',\n",
    "             palette='crest')\n",
    "\n",
    "pd_df = strlvl_promo_info.groupby(\n",
    "             ['sales_country',\n",
    "              'salad_bar']\n",
    "            ).agg(total_acq_customers = pd.NamedAgg(\n",
    "                                        'total_acq_customers', 'sum')\n",
    "                                        ).reset_index().sort_values('sales_country',ascending=False)\n",
    "\n",
    "plt.subplot(5,2,6, facecolor='grey')\n",
    "sns.barplot(data=pd_df,\n",
    "            x='sales_country',\n",
    "            y='total_acq_customers',\n",
    "            hue='salad_bar',\n",
    "            palette='crest')\n",
    "\n",
    "\n",
    "plt.subplot(5,2,7, facecolor='grey')\n",
    "sns.boxplot(data=strlvl_promo_info,\n",
    "             y='CAC',\n",
    "             x='sales_country',\n",
    "             hue='prepared_food',\n",
    "             palette='crest')\n",
    "\n",
    "pd_df = strlvl_promo_info.groupby(\n",
    "             ['sales_country',\n",
    "              'prepared_food']\n",
    "            ).agg(total_acq_customers = pd.NamedAgg(\n",
    "                                        'total_acq_customers', 'sum')\n",
    "                                        ).reset_index().sort_values('sales_country',ascending=False)\n",
    "\n",
    "plt.subplot(5,2,8, facecolor='grey')\n",
    "sns.barplot(data=pd_df,\n",
    "            x='sales_country',\n",
    "            y='total_acq_customers',\n",
    "            hue='prepared_food',\n",
    "            palette='crest')\n",
    "\n",
    "\n",
    "plt.subplot(5,2,9, facecolor='grey')\n",
    "sns.boxplot(data=strlvl_promo_info,\n",
    "             y='CAC',\n",
    "             x='sales_country',\n",
    "             hue='florist',\n",
    "             palette='crest')\n",
    "\n",
    "pd_df = strlvl_promo_info.groupby(\n",
    "             ['sales_country',\n",
    "              'florist']\n",
    "            ).agg(total_acq_customers = pd.NamedAgg(\n",
    "                                        'total_acq_customers', 'sum')\n",
    "                                        ).reset_index().sort_values('sales_country',ascending=False)\n",
    "\n",
    "plt.subplot(5,2,10, facecolor='grey')\n",
    "sns.barplot(data=pd_df,\n",
    "            x='sales_country',\n",
    "            y='total_acq_customers',\n",
    "            hue='florist',\n",
    "            palette='crest')\n",
    "\n",
    "plt.show()"
   ]
  },
  {
   "cell_type": "code",
   "execution_count": 18,
   "id": "6bb246a9",
   "metadata": {},
   "outputs": [
    {
     "data": {
      "image/png": "[encoded data removed]",
      "text/plain": [
       "<Figure size 1500x1000 with 2 Axes>"
      ]
     },
     "metadata": {},
     "output_type": "display_data"
    }
   ],
   "source": [
    "plt.figure(figsize=(15,10))\n",
    "\n",
    "plt.subplot(2,1,1, facecolor='grey')\n",
    "sns.boxplot(data=strlvl_promo_info,\n",
    "            x='store_state',\n",
    "            y='CAC',\n",
    "            hue='sales_country',\n",
    "            palette='crest')\n",
    "plt.xticks(rotation='45')\n",
    "\n",
    "plt.subplot(2,1,2, facecolor='grey')\n",
    "pd_df = strlvl_promo_info.groupby(\n",
    "            ['sales_country',\n",
    "             'store_state']\n",
    "        ).agg(\n",
    "            total_acq_customers = pd.NamedAgg('total_acq_customers', 'sum')\n",
    "        ).reset_index().sort_values(\n",
    "                        ['sales_country',\n",
    "                         'store_state'], \n",
    "                         ascending=[False,False])\n",
    "\n",
    "sns.barplot(data=pd_df,\n",
    "            x='store_state',\n",
    "            y='total_acq_customers',\n",
    "            hue='sales_country',\n",
    "            palette='crest',\n",
    "            ci=None)\n",
    "plt.xticks(rotation='45')\n",
    "plt.show()"
   ]
  },
  {
   "cell_type": "code",
   "execution_count": 19,
   "id": "daffad6b",
   "metadata": {},
   "outputs": [
    {
     "data": {
      "image/png": "[encoded data removed]",
      "text/plain": [
       "<Figure size 2000x1500 with 2 Axes>"
      ]
     },
     "metadata": {},
     "output_type": "display_data"
    }
   ],
   "source": [
    "plt.figure(figsize=(20,15))\n",
    "\n",
    "plt.subplot(2,1,1, facecolor='grey')\n",
    "\n",
    "pd_df = strlvl_promo_info.groupby(\n",
    "                ['sales_country','store_type']\n",
    "            ).agg(\n",
    "                total_acq_customers = pd.NamedAgg('total_acq_customers', 'sum')\n",
    "            ).reset_index().sort_values(\n",
    "                                ['sales_country',\n",
    "                                 'store_type'],\n",
    "                                 ascending=[False, False]\n",
    "                            )\n",
    "\n",
    "sns.barplot(data=pd_df,\n",
    "            x='store_type',\n",
    "            y='total_acq_customers',\n",
    "            hue='sales_country',\n",
    "            palette='crest',\n",
    "            ci=None)\n",
    "plt.xticks(rotation='20')\n",
    "\n",
    "plt.subplot(2,1,2, facecolor='grey')\n",
    "sns.boxplot(data=strlvl_promo_info,\n",
    "            x='store_type',\n",
    "            y='CAC',\n",
    "            hue='sales_country',\n",
    "            order=['Supermarket',\n",
    "                       'Small Grocery',\n",
    "                       'Gourmet Supermarket',\n",
    "                       'Deluxe Supermarket',\n",
    "                       'Mid-Size Grocery'],\n",
    "            palette='crest')\n",
    "plt.xticks(rotation='20')\n",
    "\n",
    "plt.show()"
   ]
  },
  {
   "cell_type": "code",
   "execution_count": 20,
   "id": "8083f000",
   "metadata": {},
   "outputs": [
    {
     "data": {
      "application/vnd.plotly.v1+json": {
       "config": {
        "plotlyServerURL": "https://plot.ly"
       },
       "data": [
        {
         "domain": {
          "x": [
           0,
           1
          ],
          "y": [
           0,
           1
          ]
         },
         "hole": 0.6,
         "hovertemplate": "promotion_name=%{label}<br>total_acq_customers=%{value}<extra></extra>",
         "labels": [
          "Weekend Markdown",
          "Two Day Sale",
          "Price Savers",
          "Price Winners",
          "Save-It Sale",
          "Super Duper Savers",
          "Super Savers",
          "One Day Sale",
          "Double Down Sale",
          "High Roller Savings",
          "Green Light Days",
          "Shelf Clearing Days",
          "Price Slashers",
          "Free For All",
          "Cash Register Lottery",
          "Go For It",
          "Two for One",
          "Money Savers",
          "Big Time Discounts",
          "Price Destroyers",
          "Saving Days",
          "Dollar Cutters",
          "Unbeatable Price Savers",
          "Sales Galore",
          "Big Promo",
          "Dimes Off",
          "Sales Days",
          "Price Cutters",
          "You Save Days",
          "Savings Galore",
          "Bag Stuffers",
          "Three for One",
          "I Cant Believe It Sale",
          "Sale Winners",
          "Pick Your Savings",
          "Bye Bye Baby",
          "Best Savings",
          "Tip Top Savings",
          "Shelf Emptiers",
          "Big Time Savings",
          "Wallet Savers",
          "Dollar Days",
          "Mystery Sale",
          "Price Smashers",
          "Green Light Special",
          "Coupon Spectacular",
          "Super Wallet Savers",
          "Double Your Savings",
          "Fantastic Discounts"
         ],
         "legendgroup": "",
         "name": "",
         "showlegend": true,
         "textfont": {
          "color": "#fff"
         },
         "type": "pie",
         "values": [
          2330,
          2321,
          2279,
          2108,
          2001,
          1986,
          1930,
          1843,
          1755,
          1741,
          1702,
          1690,
          1647,
          1621,
          1555,
          1521,
          1493,
          1489,
          1480,
          1374,
          1353,
          1326,
          1217,
          1212,
          1172,
          1150,
          1107,
          1099,
          1075,
          1067,
          1066,
          1042,
          972,
          910,
          876,
          874,
          868,
          862,
          799,
          745,
          608,
          532,
          511,
          449,
          427,
          402,
          389,
          242,
          210
         ]
        }
       ],
       "layout": {
        "autosize": true,
        "font": {
         "color": "#8a8d93"
        },
        "height": 900,
        "legend": {
         "orientation": "h",
         "tracegroupgap": 0,
         "x": 1.5,
         "xanchor": "right",
         "y": 1.2,
         "yanchor": "bottom"
        },
        "margin": {
         "t": 60
        },
        "paper_bgcolor": "#2d3035",
        "piecolorway": [
         "rgb(95, 70, 144)",
         "rgb(29, 105, 150)",
         "rgb(56, 166, 165)",
         "rgb(15, 133, 84)",
         "rgb(115, 175, 72)",
         "rgb(237, 173, 8)",
         "rgb(225, 124, 5)",
         "rgb(204, 80, 62)",
         "rgb(148, 52, 110)",
         "rgb(111, 64, 112)",
         "rgb(102, 102, 102)"
        ],
        "plot_bgcolor": "#2d3035",
        "template": {
         "data": {
          "bar": [
           {
            "error_x": {
             "color": "#2a3f5f"
            },
            "error_y": {
             "color": "#2a3f5f"
            },
            "marker": {
             "line": {
              "color": "#E5ECF6",
              "width": 0.5
             },
             "pattern": {
              "fillmode": "overlay",
              "size": 10,
              "solidity": 0.2
             }
            },
            "type": "bar"
           }
          ],
          "barpolar": [
           {
            "marker": {
             "line": {
              "color": "#E5ECF6",
              "width": 0.5
             },
             "pattern": {
              "fillmode": "overlay",
              "size": 10,
              "solidity": 0.2
             }
            },
            "type": "barpolar"
           }
          ],
          "carpet": [
           {
            "aaxis": {
             "endlinecolor": "#2a3f5f",
             "gridcolor": "white",
             "linecolor": "white",
             "minorgridcolor": "white",
             "startlinecolor": "#2a3f5f"
            },
            "baxis": {
             "endlinecolor": "#2a3f5f",
             "gridcolor": "white",
             "linecolor": "white",
             "minorgridcolor": "white",
             "startlinecolor": "#2a3f5f"
            },
            "type": "carpet"
           }
          ],
          "choropleth": [
           {
            "colorbar": {
             "outlinewidth": 0,
             "ticks": ""
            },
            "type": "choropleth"
           }
          ],
          "contour": [
           {
            "colorbar": {
             "outlinewidth": 0,
             "ticks": ""
            },
            "colorscale": [
             [
              0,
              "#0d0887"
             ],
             [
              0.1111111111111111,
              "#46039f"
             ],
             [
              0.2222222222222222,
              "#7201a8"
             ],
             [
              0.3333333333333333,
              "#9c179e"
             ],
             [
              0.4444444444444444,
              "#bd3786"
             ],
             [
              0.5555555555555556,
              "#d8576b"
             ],
             [
              0.6666666666666666,
              "#ed7953"
             ],
             [
              0.7777777777777778,
              "#fb9f3a"
             ],
             [
              0.8888888888888888,
              "#fdca26"
             ],
             [
              1,
              "#f0f921"
             ]
            ],
            "type": "contour"
           }
          ],
          "contourcarpet": [
           {
            "colorbar": {
             "outlinewidth": 0,
             "ticks": ""
            },
            "type": "contourcarpet"
           }
          ],
          "heatmap": [
           {
            "colorbar": {
             "outlinewidth": 0,
             "ticks": ""
            },
            "colorscale": [
             [
              0,
              "#0d0887"
             ],
             [
              0.1111111111111111,
              "#46039f"
             ],
             [
              0.2222222222222222,
              "#7201a8"
             ],
             [
              0.3333333333333333,
              "#9c179e"
             ],
             [
              0.4444444444444444,
              "#bd3786"
             ],
             [
              0.5555555555555556,
              "#d8576b"
             ],
             [
              0.6666666666666666,
              "#ed7953"
             ],
             [
              0.7777777777777778,
              "#fb9f3a"
             ],
             [
              0.8888888888888888,
              "#fdca26"
             ],
             [
              1,
              "#f0f921"
             ]
            ],
            "type": "heatmap"
           }
          ],
          "heatmapgl": [
           {
            "colorbar": {
             "outlinewidth": 0,
             "ticks": ""
            },
            "colorscale": [
             [
              0,
              "#0d0887"
             ],
             [
              0.1111111111111111,
              "#46039f"
             ],
             [
              0.2222222222222222,
              "#7201a8"
             ],
             [
              0.3333333333333333,
              "#9c179e"
             ],
             [
              0.4444444444444444,
              "#bd3786"
             ],
             [
              0.5555555555555556,
              "#d8576b"
             ],
             [
              0.6666666666666666,
              "#ed7953"
             ],
             [
              0.7777777777777778,
              "#fb9f3a"
             ],
             [
              0.8888888888888888,
              "#fdca26"
             ],
             [
              1,
              "#f0f921"
             ]
            ],
            "type": "heatmapgl"
           }
          ],
          "histogram": [
           {
            "marker": {
             "pattern": {
              "fillmode": "overlay",
              "size": 10,
              "solidity": 0.2
             }
            },
            "type": "histogram"
           }
          ],
          "histogram2d": [
           {
            "colorbar": {
             "outlinewidth": 0,
             "ticks": ""
            },
            "colorscale": [
             [
              0,
              "#0d0887"
             ],
             [
              0.1111111111111111,
              "#46039f"
             ],
             [
              0.2222222222222222,
              "#7201a8"
             ],
             [
              0.3333333333333333,
              "#9c179e"
             ],
             [
              0.4444444444444444,
              "#bd3786"
             ],
             [
              0.5555555555555556,
              "#d8576b"
             ],
             [
              0.6666666666666666,
              "#ed7953"
             ],
             [
              0.7777777777777778,
              "#fb9f3a"
             ],
             [
              0.8888888888888888,
              "#fdca26"
             ],
             [
              1,
              "#f0f921"
             ]
            ],
            "type": "histogram2d"
           }
          ],
          "histogram2dcontour": [
           {
            "colorbar": {
             "outlinewidth": 0,
             "ticks": ""
            },
            "colorscale": [
             [
              0,
              "#0d0887"
             ],
             [
              0.1111111111111111,
              "#46039f"
             ],
             [
              0.2222222222222222,
              "#7201a8"
             ],
             [
              0.3333333333333333,
              "#9c179e"
             ],
             [
              0.4444444444444444,
              "#bd3786"
             ],
             [
              0.5555555555555556,
              "#d8576b"
             ],
             [
              0.6666666666666666,
              "#ed7953"
             ],
             [
              0.7777777777777778,
              "#fb9f3a"
             ],
             [
              0.8888888888888888,
              "#fdca26"
             ],
             [
              1,
              "#f0f921"
             ]
            ],
            "type": "histogram2dcontour"
           }
          ],
          "mesh3d": [
           {
            "colorbar": {
             "outlinewidth": 0,
             "ticks": ""
            },
            "type": "mesh3d"
           }
          ],
          "parcoords": [
           {
            "line": {
             "colorbar": {
              "outlinewidth": 0,
              "ticks": ""
             }
            },
            "type": "parcoords"
           }
          ],
          "pie": [
           {
            "automargin": true,
            "type": "pie"
           }
          ],
          "scatter": [
           {
            "fillpattern": {
             "fillmode": "overlay",
             "size": 10,
             "solidity": 0.2
            },
            "type": "scatter"
           }
          ],
          "scatter3d": [
           {
            "line": {
             "colorbar": {
              "outlinewidth": 0,
              "ticks": ""
             }
            },
            "marker": {
             "colorbar": {
              "outlinewidth": 0,
              "ticks": ""
             }
            },
            "type": "scatter3d"
           }
          ],
          "scattercarpet": [
           {
            "marker": {
             "colorbar": {
              "outlinewidth": 0,
              "ticks": ""
             }
            },
            "type": "scattercarpet"
           }
          ],
          "scattergeo": [
           {
            "marker": {
             "colorbar": {
              "outlinewidth": 0,
              "ticks": ""
             }
            },
            "type": "scattergeo"
           }
          ],
          "scattergl": [
           {
            "marker": {
             "colorbar": {
              "outlinewidth": 0,
              "ticks": ""
             }
            },
            "type": "scattergl"
           }
          ],
          "scattermapbox": [
           {
            "marker": {
             "colorbar": {
              "outlinewidth": 0,
              "ticks": ""
             }
            },
            "type": "scattermapbox"
           }
          ],
          "scatterpolar": [
           {
            "marker": {
             "colorbar": {
              "outlinewidth": 0,
              "ticks": ""
             }
            },
            "type": "scatterpolar"
           }
          ],
          "scatterpolargl": [
           {
            "marker": {
             "colorbar": {
              "outlinewidth": 0,
              "ticks": ""
             }
            },
            "type": "scatterpolargl"
           }
          ],
          "scatterternary": [
           {
            "marker": {
             "colorbar": {
              "outlinewidth": 0,
              "ticks": ""
             }
            },
            "type": "scatterternary"
           }
          ],
          "surface": [
           {
            "colorbar": {
             "outlinewidth": 0,
             "ticks": ""
            },
            "colorscale": [
             [
              0,
              "#0d0887"
             ],
             [
              0.1111111111111111,
              "#46039f"
             ],
             [
              0.2222222222222222,
              "#7201a8"
             ],
             [
              0.3333333333333333,
              "#9c179e"
             ],
             [
              0.4444444444444444,
              "#bd3786"
             ],
             [
              0.5555555555555556,
              "#d8576b"
             ],
             [
              0.6666666666666666,
              "#ed7953"
             ],
             [
              0.7777777777777778,
              "#fb9f3a"
             ],
             [
              0.8888888888888888,
              "#fdca26"
             ],
             [
              1,
              "#f0f921"
             ]
            ],
            "type": "surface"
           }
          ],
          "table": [
           {
            "cells": {
             "fill": {
              "color": "#EBF0F8"
             },
             "line": {
              "color": "white"
             }
            },
            "header": {
             "fill": {
              "color": "#C8D4E3"
             },
             "line": {
              "color": "white"
             }
            },
            "type": "table"
           }
          ]
         },
         "layout": {
          "annotationdefaults": {
           "arrowcolor": "#2a3f5f",
           "arrowhead": 0,
           "arrowwidth": 1
          },
          "autotypenumbers": "strict",
          "coloraxis": {
           "colorbar": {
            "outlinewidth": 0,
            "ticks": ""
           }
          },
          "colorscale": {
           "diverging": [
            [
             0,
             "#8e0152"
            ],
            [
             0.1,
             "#c51b7d"
            ],
            [
             0.2,
             "#de77ae"
            ],
            [
             0.3,
             "#f1b6da"
            ],
            [
             0.4,
             "#fde0ef"
            ],
            [
             0.5,
             "#f7f7f7"
            ],
            [
             0.6,
             "#e6f5d0"
            ],
            [
             0.7,
             "#b8e186"
            ],
            [
             0.8,
             "#7fbc41"
            ],
            [
             0.9,
             "#4d9221"
            ],
            [
             1,
             "#276419"
            ]
           ],
           "sequential": [
            [
             0,
             "#0d0887"
            ],
            [
             0.1111111111111111,
             "#46039f"
            ],
            [
             0.2222222222222222,
             "#7201a8"
            ],
            [
             0.3333333333333333,
             "#9c179e"
            ],
            [
             0.4444444444444444,
             "#bd3786"
            ],
            [
             0.5555555555555556,
             "#d8576b"
            ],
            [
             0.6666666666666666,
             "#ed7953"
            ],
            [
             0.7777777777777778,
             "#fb9f3a"
            ],
            [
             0.8888888888888888,
             "#fdca26"
            ],
            [
             1,
             "#f0f921"
            ]
           ],
           "sequentialminus": [
            [
             0,
             "#0d0887"
            ],
            [
             0.1111111111111111,
             "#46039f"
            ],
            [
             0.2222222222222222,
             "#7201a8"
            ],
            [
             0.3333333333333333,
             "#9c179e"
            ],
            [
             0.4444444444444444,
             "#bd3786"
            ],
            [
             0.5555555555555556,
             "#d8576b"
            ],
            [
             0.6666666666666666,
             "#ed7953"
            ],
            [
             0.7777777777777778,
             "#fb9f3a"
            ],
            [
             0.8888888888888888,
             "#fdca26"
            ],
            [
             1,
             "#f0f921"
            ]
           ]
          },
          "colorway": [
           "#636efa",
           "#EF553B",
           "#00cc96",
           "#ab63fa",
           "#FFA15A",
           "#19d3f3",
           "#FF6692",
           "#B6E880",
           "#FF97FF",
           "#FECB52"
          ],
          "font": {
           "color": "#2a3f5f"
          },
          "geo": {
           "bgcolor": "white",
           "lakecolor": "white",
           "landcolor": "#E5ECF6",
           "showlakes": true,
           "showland": true,
           "subunitcolor": "white"
          },
          "hoverlabel": {
           "align": "left"
          },
          "hovermode": "closest",
          "mapbox": {
           "style": "light"
          },
          "paper_bgcolor": "white",
          "plot_bgcolor": "#E5ECF6",
          "polar": {
           "angularaxis": {
            "gridcolor": "white",
            "linecolor": "white",
            "ticks": ""
           },
           "bgcolor": "#E5ECF6",
           "radialaxis": {
            "gridcolor": "white",
            "linecolor": "white",
            "ticks": ""
           }
          },
          "scene": {
           "xaxis": {
            "backgroundcolor": "#E5ECF6",
            "gridcolor": "white",
            "gridwidth": 2,
            "linecolor": "white",
            "showbackground": true,
            "ticks": "",
            "zerolinecolor": "white"
           },
           "yaxis": {
            "backgroundcolor": "#E5ECF6",
            "gridcolor": "white",
            "gridwidth": 2,
            "linecolor": "white",
            "showbackground": true,
            "ticks": "",
            "zerolinecolor": "white"
           },
           "zaxis": {
            "backgroundcolor": "#E5ECF6",
            "gridcolor": "white",
            "gridwidth": 2,
            "linecolor": "white",
            "showbackground": true,
            "ticks": "",
            "zerolinecolor": "white"
           }
          },
          "shapedefaults": {
           "line": {
            "color": "#2a3f5f"
           }
          },
          "ternary": {
           "aaxis": {
            "gridcolor": "white",
            "linecolor": "white",
            "ticks": ""
           },
           "baxis": {
            "gridcolor": "white",
            "linecolor": "white",
            "ticks": ""
           },
           "bgcolor": "#E5ECF6",
           "caxis": {
            "gridcolor": "white",
            "linecolor": "white",
            "ticks": ""
           }
          },
          "title": {
           "x": 0.05
          },
          "xaxis": {
           "automargin": true,
           "gridcolor": "white",
           "linecolor": "white",
           "ticks": "",
           "title": {
            "standoff": 15
           },
           "zerolinecolor": "white",
           "zerolinewidth": 2
          },
          "yaxis": {
           "automargin": true,
           "gridcolor": "white",
           "linecolor": "white",
           "ticks": "",
           "title": {
            "standoff": 15
           },
           "zerolinecolor": "white",
           "zerolinewidth": 2
          }
         }
        },
        "title": {
         "font": {
          "color": "#a5a7ab",
          "family": "Muli, sans-serif",
          "size": 25
         }
        },
        "width": 930
       }
      }
     },
     "metadata": {},
     "output_type": "display_data"
    }
   ],
   "source": [
    "pd_df = strlvl_promo_info.groupby(\n",
    "            ['promotion_name']\n",
    "        ).agg(\n",
    "            total_acq_customers = pd.NamedAgg('total_acq_customers','sum')\n",
    "        ).reset_index().sort_values(\n",
    "                        'total_acq_customers',\n",
    "                        ascending=False)\n",
    "\n",
    "division_rat = px.pie(pd_df,\n",
    "                      names='promotion_name',\n",
    "                      values='total_acq_customers',\n",
    "                      hole=0.6,\n",
    "#                      title='% Customers acquired',\n",
    "                      color_discrete_sequence=px.colors.qualitative.Prism)\n",
    "division_rat.update_traces(textfont=dict(color='#fff'))\n",
    "division_rat.update_layout(autosize=True,\n",
    "                           height=900,\n",
    "                           width=930,\n",
    "                           plot_bgcolor='#2d3035',\n",
    "                           paper_bgcolor='#2d3035',\n",
    "                           title_font=dict(size=25, color='#a5a7ab', family=\"Muli, sans-serif\"),\n",
    "                           font=dict(color='#8a8d93'),\n",
    "                           legend=dict(orientation=\"h\", yanchor=\"bottom\", y=1.2, xanchor=\"right\", x=1.5)\n",
    "                           )\n",
    "#plt.show()"
   ]
  },
  {
   "cell_type": "code",
   "execution_count": 21,
   "id": "8af2ca92",
   "metadata": {},
   "outputs": [
    {
     "data": {
      "application/vnd.plotly.v1+json": {
       "config": {
        "plotlyServerURL": "https://plot.ly"
       },
       "data": [
        {
         "alignmentgroup": "True",
         "hovertemplate": "promotion_name=%{x}<br>CAC=%{y}<extra></extra>",
         "legendgroup": "",
         "marker": {
          "color": "rgb(136, 204, 238)"
         },
         "name": "",
         "notched": false,
         "offsetgroup": "",
         "orientation": "v",
         "quartilemethod": "inclusive",
         "showlegend": false,
         "type": "box",
         "x": [
          "Bag Stuffers",
          "Big Promo",
          "Dollar Cutters",
          "Dollar Days",
          "Double Down Sale",
          "Free For All",
          "Free For All",
          "Price Savers",
          "Price Savers",
          "Price Winners",
          "Sales Galore",
          "Save-It Sale",
          "Saving Days",
          "Super Duper Savers",
          "Super Duper Savers",
          "Super Savers",
          "Three for One",
          "Tip Top Savings",
          "Two Day Sale",
          "Two for One",
          "Weekend Markdown",
          "Big Promo",
          "Big Time Discounts",
          "Dollar Cutters",
          "Double Down Sale",
          "Go For It",
          "Go For It",
          "Green Light Days",
          "One Day Sale",
          "Price Destroyers",
          "Price Winners",
          "Price Winners",
          "Sales Days",
          "Save-It Sale",
          "Savings Galore",
          "Super Duper Savers",
          "Super Savers",
          "Tip Top Savings",
          "Two for One",
          "Two for One",
          "Wallet Savers",
          "Best Savings",
          "Big Promo",
          "Big Time Savings",
          "Bye Bye Baby",
          "Dimes Off",
          "Dollar Cutters",
          "Dollar Cutters",
          "Double Down Sale",
          "Double Your Savings",
          "Pick Your Savings",
          "Price Slashers",
          "Price Slashers",
          "Price Smashers",
          "Sales Galore",
          "Sales Galore",
          "Savings Galore",
          "Shelf Clearing Days",
          "Super Duper Savers",
          "Super Savers",
          "Two Day Sale",
          "Unbeatable Price Savers",
          "Unbeatable Price Savers",
          "Weekend Markdown",
          "Weekend Markdown",
          "Coupon Spectacular",
          "Dollar Cutters",
          "Free For All",
          "Go For It",
          "Green Light Special",
          "High Roller Savings",
          "Money Savers",
          "Mystery Sale",
          "Price Cutters",
          "Price Destroyers",
          "Price Destroyers",
          "Price Slashers",
          "Sales Days",
          "Save-It Sale",
          "Shelf Clearing Days",
          "Shelf Clearing Days",
          "Super Duper Savers",
          "Super Wallet Savers",
          "Three for One",
          "Two for One",
          "You Save Days",
          "Bag Stuffers",
          "Big Promo",
          "Big Promo",
          "Coupon Spectacular",
          "Dollar Cutters",
          "Double Down Sale",
          "Double Your Savings",
          "Fantastic Discounts",
          "Free For All",
          "Go For It",
          "One Day Sale",
          "One Day Sale",
          "Sale Winners",
          "Sales Days",
          "Sales Galore",
          "Save-It Sale",
          "Super Duper Savers",
          "Super Savers",
          "Tip Top Savings",
          "Two Day Sale",
          "Two Day Sale",
          "Unbeatable Price Savers",
          "Unbeatable Price Savers",
          "Wallet Savers",
          "Bag Stuffers",
          "Bag Stuffers",
          "Big Time Discounts",
          "Big Time Savings",
          "Cash Register Lottery",
          "Cash Register Lottery",
          "Cash Register Lottery",
          "Cash Register Lottery",
          "Double Down Sale",
          "Free For All",
          "Green Light Days",
          "High Roller Savings",
          "I Cant Believe It Sale",
          "One Day Sale",
          "Price Savers",
          "Price Slashers",
          "Save-It Sale",
          "Tip Top Savings",
          "Big Time Discounts",
          "Big Time Discounts",
          "Free For All",
          "Free For All",
          "Go For It",
          "Go For It",
          "Green Light Days",
          "High Roller Savings",
          "Money Savers",
          "One Day Sale",
          "Price Destroyers",
          "Price Destroyers",
          "Price Savers",
          "Price Savers",
          "Price Slashers",
          "Sale Winners",
          "Saving Days",
          "Shelf Clearing Days",
          "Super Wallet Savers",
          "Unbeatable Price Savers",
          "Wallet Savers",
          "Weekend Markdown",
          "Weekend Markdown",
          "You Save Days",
          "Big Time Savings",
          "Bye Bye Baby",
          "Dimes Off",
          "Dimes Off",
          "Fantastic Discounts",
          "Green Light Special",
          "I Cant Believe It Sale",
          "Money Savers",
          "One Day Sale",
          "Pick Your Savings",
          "Price Cutters",
          "Price Cutters",
          "Price Smashers",
          "Price Winners",
          "Price Winners",
          "Sales Galore",
          "Savings Galore",
          "Savings Galore",
          "Savings Galore",
          "Shelf Emptiers",
          "Super Savers",
          "Three for One",
          "Tip Top Savings",
          "Unbeatable Price Savers",
          "Weekend Markdown",
          "Weekend Markdown",
          "You Save Days",
          "Best Savings",
          "Big Time Discounts",
          "Bye Bye Baby",
          "Dollar Cutters",
          "Dollar Days",
          "Double Down Sale",
          "High Roller Savings",
          "Pick Your Savings",
          "Price Destroyers",
          "Price Savers",
          "Price Winners",
          "Sale Winners",
          "Save-It Sale",
          "Saving Days",
          "Savings Galore",
          "Shelf Emptiers",
          "Super Savers",
          "Two for One",
          "Weekend Markdown",
          "You Save Days",
          "Best Savings",
          "Big Promo",
          "Big Time Savings",
          "Bye Bye Baby",
          "Double Down Sale",
          "Fantastic Discounts",
          "High Roller Savings",
          "High Roller Savings",
          "Mystery Sale",
          "One Day Sale",
          "Pick Your Savings",
          "Price Cutters",
          "Price Savers",
          "Sales Galore",
          "Sales Galore",
          "Save-It Sale",
          "Saving Days",
          "Shelf Clearing Days",
          "Shelf Emptiers",
          "Shelf Emptiers",
          "Shelf Emptiers",
          "Two Day Sale",
          "Two Day Sale",
          "Two Day Sale",
          "Two for One",
          "You Save Days",
          "Big Time Discounts",
          "Dollar Cutters",
          "Go For It",
          "I Cant Believe It Sale",
          "One Day Sale",
          "Price Destroyers",
          "Price Destroyers",
          "Price Winners",
          "Price Winners",
          "Savings Galore",
          "Tip Top Savings",
          "Two Day Sale",
          "Two for One",
          "Big Time Discounts",
          "Dimes Off",
          "Dimes Off",
          "Go For It",
          "One Day Sale",
          "Pick Your Savings",
          "Price Destroyers",
          "Price Savers",
          "Price Winners",
          "Price Winners",
          "Tip Top Savings",
          "Two Day Sale",
          "Two for One",
          "Green Light Days",
          "High Roller Savings",
          "Price Cutters",
          "Price Destroyers",
          "Price Winners",
          "Saving Days",
          "Shelf Emptiers",
          "Two Day Sale",
          "Unbeatable Price Savers",
          "Weekend Markdown",
          "Best Savings",
          "Big Promo",
          "Big Time Savings",
          "Dimes Off",
          "Green Light Days",
          "Money Savers",
          "One Day Sale",
          "Pick Your Savings",
          "Price Winners",
          "Sale Winners",
          "Sales Days",
          "Sales Galore",
          "Shelf Clearing Days",
          "Three for One",
          "Two Day Sale",
          "Best Savings",
          "Big Time Discounts",
          "Go For It",
          "Money Savers",
          "Price Savers",
          "Price Slashers",
          "Savings Galore",
          "Shelf Clearing Days",
          "Super Savers",
          "Super Savers",
          "Three for One",
          "Wallet Savers",
          "Bag Stuffers",
          "Best Savings",
          "Best Savings",
          "Coupon Spectacular",
          "Dollar Cutters",
          "Dollar Cutters",
          "Double Down Sale",
          "Free For All",
          "Mystery Sale",
          "Price Winners",
          "Price Winners",
          "Sale Winners",
          "Saving Days",
          "Super Duper Savers",
          "Super Wallet Savers",
          "Two for One",
          "Dollar Cutters",
          "Mystery Sale",
          "Price Slashers",
          "Price Winners",
          "Price Winners",
          "Sales Days",
          "Save-It Sale",
          "Shelf Clearing Days",
          "Two Day Sale",
          "Bye Bye Baby",
          "Coupon Spectacular",
          "Coupon Spectacular",
          "Dollar Cutters",
          "Free For All",
          "Go For It",
          "Price Cutters",
          "Price Destroyers",
          "Super Savers",
          "Three for One",
          "Two Day Sale",
          "Two Day Sale",
          "Weekend Markdown",
          "Double Your Savings",
          "Green Light Special",
          "I Cant Believe It Sale",
          "Sales Days",
          "Save-It Sale",
          "Save-It Sale",
          "Savings Galore",
          "Shelf Clearing Days",
          "Super Duper Savers",
          "Bye Bye Baby",
          "Double Down Sale",
          "Double Down Sale",
          "Green Light Special",
          "I Cant Believe It Sale",
          "Money Savers",
          "Price Cutters",
          "Price Slashers",
          "Price Smashers",
          "Save-It Sale",
          "Super Duper Savers",
          "Super Duper Savers",
          "Super Savers"
         ],
         "x0": " ",
         "xaxis": "x",
         "y": [
          2.8593069715837105,
          2.5750136200000004,
          2.6633945875336327,
          2.569279404059406,
          2.714850701832061,
          2.473898235257732,
          2.4785845585310735,
          2.7232603813966483,
          2.721821523677582,
          2.6649398931578947,
          2.6708975571573603,
          2.776571543913043,
          2.661973924785992,
          2.7800727258883247,
          2.5406451794117646,
          2.8117686364367813,
          2.7025866560465115,
          2.6093626756937796,
          2.6705546433774834,
          2.735493506975945,
          2.6769735045454546,
          2.6979381541463416,
          2.551387322077922,
          2.4748802552447557,
          2.48985625974359,
          2.520685951459854,
          2.4970462872093027,
          2.701049476338028,
          2.719037590547945,
          2.6444738302479336,
          2.632013242786885,
          2.6924249999999996,
          2.670967803829787,
          2.633846634957265,
          2.705918659552239,
          2.435786624285714,
          2.758025066045627,
          2.659251326666667,
          2.7197184588349517,
          2.6923638074251497,
          2.7908088159793816,
          2.7366461778321676,
          2.3834804017391304,
          2.763801641584158,
          2.5449229471497583,
          2.684398476551724,
          2.787847628275862,
          2.5107529877777774,
          2.7201285233333334,
          2.83795943,
          2.645264258663101,
          2.6305885184615385,
          2.5660071066666665,
          2.7417225837414967,
          2.8130744172131146,
          2.7206615590683234,
          2.582438181567944,
          2.7880789066906475,
          2.413238823529412,
          2.6251664429457366,
          2.6457922233962266,
          2.66388053,
          2.6240052976752763,
          2.644899249921363,
          2.6121988482269503,
          2.686560492556391,
          2.8092958901449276,
          2.741961755614973,
          2.787727073333333,
          2.6709467610071944,
          2.6050267706896553,
          2.7239848322222224,
          2.780392504246575,
          2.6344614540659337,
          2.725672443228347,
          2.702737272222222,
          2.51499621,
          2.76537572369863,
          2.47724569106383,
          2.741002067142857,
          2.639161719596542,
          2.732779207602339,
          2.7507241400000004,
          2.4654128445945944,
          2.693279884210526,
          2.6573579366666666,
          1.54121793,
          1.8853700076923077,
          1.7007251466666666,
          1.302218705,
          1.1831137458064516,
          1.7665439257142854,
          1.3239250171428572,
          1.504868477096774,
          1.3289572166666668,
          1.22226677,
          1.4204099277419355,
          1.375206261111111,
          1.09803302,
          1.1653372842857144,
          1.4628686453846156,
          1.7124653232258065,
          1.5425354111111111,
          1.3790816466666667,
          1.5208791300000002,
          1.2576344999999998,
          1.3380095666666667,
          1.2379113566666666,
          1.4909043,
          1.2703801007407407,
          2.5943901950421586,
          2.6399682610256408,
          2.8501074283673473,
          2.5500107472972973,
          2.4772835514600553,
          2.6574486830930932,
          2.6276631028346453,
          2.5008661719834713,
          2.686483979655173,
          2.7870136712698415,
          2.65861320877551,
          2.7189253880701756,
          2.62535666851577,
          2.5133273055555554,
          2.598254307467249,
          2.6986850378350513,
          2.6505991419047623,
          2.5797517749999996,
          2.7775826,
          2.528645224117647,
          2.710684681951219,
          2.6554129907886437,
          2.7618080547761195,
          2.6648720397260273,
          2.6318777702469136,
          2.56599937056338,
          2.7419916859581885,
          2.7467108383870973,
          2.546989967477477,
          2.6487140325925926,
          2.7629447532258067,
          2.7527098890476194,
          2.8334293301775144,
          2.6731820113772455,
          2.699187302731278,
          2.8415610253846153,
          2.6735979419379845,
          2.6169762244067796,
          2.7534524403448275,
          2.6813601552534565,
          2.51375726013986,
          2.692128075595668,
          1.4738486699999997,
          1.6073595657142856,
          1.3003076972727272,
          1.511864807894737,
          1.1543075394117648,
          1.11654219,
          1.4640485030612242,
          1.42852755,
          1.2340510485714287,
          1.04277001,
          1.1932374382758622,
          1.4312027533333331,
          1.6653535733333333,
          0.9598892400000001,
          1.6087189925806453,
          1.1120774681818182,
          1.2459977891304346,
          1.3582527192307692,
          1.36760526,
          1.3606632884615384,
          1.3835668676923076,
          1.2203743610344826,
          1.55837921,
          1.3128088847826087,
          1.2811350481818182,
          1.5545614493939395,
          1.1336511822033897,
          2.5130987179591835,
          2.7204561322222225,
          2.391908547596899,
          2.6099099622900765,
          2.7094203837500004,
          2.6982703744144145,
          2.634073670985915,
          2.56535812890411,
          2.9288307587096774,
          2.58352329202454,
          2.819244249130435,
          2.80778255,
          2.7194942397991966,
          2.7060357916455695,
          2.4578267662790694,
          2.7436874520437957,
          2.6078950164102563,
          2.6026157441935482,
          2.8484382658333334,
          2.66578976148248,
          2.537339452183908,
          2.5827289605298014,
          2.78022357,
          2.729547725217391,
          2.5894701332283465,
          2.580615391034483,
          2.7382513399999997,
          2.645257521830986,
          2.665602453445378,
          2.531829534822335,
          2.538337152912621,
          2.6260437454545453,
          2.828598825,
          2.6713264007462687,
          2.5646683977622375,
          2.59519179,
          2.702184702592593,
          2.6824034637593988,
          2.784812090769231,
          2.722660026752137,
          2.5144659114285712,
          2.6336450353374232,
          2.7499094815436242,
          2.709141585882353,
          2.6179980839240504,
          2.726236648709677,
          3.0297006710344823,
          2.6827427470588234,
          2.51168707,
          2.848401614084507,
          2.7248152914285715,
          2.8910443946478876,
          2.7060168815789476,
          2.78763679,
          2.6358728300000003,
          2.3602812846808514,
          2.6793211284615386,
          2.3070359664705884,
          2.677157364939759,
          2.8181350476923077,
          2.666376975663717,
          2.688360315971223,
          2.722635113478261,
          2.5253497701089325,
          2.6696182707563025,
          2.604691643255814,
          2.7406151933333334,
          2.740751525516372,
          2.71261958,
          2.6644247512903227,
          2.7604706520689652,
          2.610140436167401,
          2.5943220933333335,
          2.72427193,
          2.701921847407408,
          2.532351187246377,
          2.6345522647457624,
          2.637039929538905,
          2.561923982790698,
          2.6222297615837107,
          2.7326723213978497,
          2.7325851380952377,
          2.7869491233333332,
          2.72639456,
          2.7882977594466403,
          2.7653494434693875,
          2.619285104722222,
          2.7281029623574145,
          2.6161256199567102,
          2.7597650921505372,
          2.783692470187793,
          2.6291929890225565,
          2.8146036727272725,
          2.5932096826086957,
          2.6967691657312254,
          2.7311942515789474,
          2.643808567242798,
          2.538036660066225,
          2.483564912038835,
          2.5702254304026844,
          2.7342411642857143,
          2.6067193866666667,
          2.7053809872727275,
          2.735581761428571,
          2.855472845785124,
          2.72999101487106,
          2.640481597619048,
          2.6449816338461534,
          2.832709016551724,
          1.3937123614285714,
          1.0627729866666666,
          1.3748740293548385,
          1.52164411,
          1.05625933,
          1.0855146607407407,
          1.247049555,
          1.2146838506451612,
          1.128170088888889,
          1.49218952,
          1.3519844342857144,
          1.2253752058823528,
          1.3979143262068965,
          1.4904232929787233,
          1.277360059090909,
          1.07589185,
          2.491521273422819,
          2.631574312105263,
          2.84878297,
          2.689138061490683,
          2.7804165615846994,
          2.560222353157895,
          2.7883273615436237,
          2.543659505714286,
          2.6815180975862067,
          2.648625480909091,
          2.406446119855073,
          2.6136979415789474,
          2.825115521111111,
          2.7269882033333332,
          2.8749053181481483,
          2.6753078264341084,
          2.5107663927659574,
          2.644569467142857,
          2.761203375714286,
          2.574034732898551,
          2.5452028955555557,
          2.797080619253731,
          2.8045083370212764,
          2.863054522941176,
          2.684599992222222,
          2.738525983448276,
          2.5159905014814816,
          2.451817331891892,
          2.5815574284210525,
          3.0151691599999997,
          2.46068776,
          2.6251294347528518,
          2.664124191481481,
          2.4226058981720433,
          2.65239513,
          2.7275435488381747,
          2.6297264307692307,
          2.664305039503546,
          2.681968214729242,
          2.7246141550359715,
          2.5764544992792793,
          2.7005657158149776,
          2.59856344813278,
          2.7097254002150533
         ],
         "y0": " ",
         "yaxis": "y"
        }
       ],
       "layout": {
        "autosize": true,
        "boxmode": "group",
        "font": {
         "color": "#8a8d93"
        },
        "height": 600,
        "legend": {
         "tracegroupgap": 0
        },
        "margin": {
         "b": 20,
         "l": 20,
         "r": 20,
         "t": 30
        },
        "paper_bgcolor": "#2d3035",
        "plot_bgcolor": "#2d3035",
        "template": {
         "data": {
          "bar": [
           {
            "error_x": {
             "color": "#2a3f5f"
            },
            "error_y": {
             "color": "#2a3f5f"
            },
            "marker": {
             "line": {
              "color": "#E5ECF6",
              "width": 0.5
             },
             "pattern": {
              "fillmode": "overlay",
              "size": 10,
              "solidity": 0.2
             }
            },
            "type": "bar"
           }
          ],
          "barpolar": [
           {
            "marker": {
             "line": {
              "color": "#E5ECF6",
              "width": 0.5
             },
             "pattern": {
              "fillmode": "overlay",
              "size": 10,
              "solidity": 0.2
             }
            },
            "type": "barpolar"
           }
          ],
          "carpet": [
           {
            "aaxis": {
             "endlinecolor": "#2a3f5f",
             "gridcolor": "white",
             "linecolor": "white",
             "minorgridcolor": "white",
             "startlinecolor": "#2a3f5f"
            },
            "baxis": {
             "endlinecolor": "#2a3f5f",
             "gridcolor": "white",
             "linecolor": "white",
             "minorgridcolor": "white",
             "startlinecolor": "#2a3f5f"
            },
            "type": "carpet"
           }
          ],
          "choropleth": [
           {
            "colorbar": {
             "outlinewidth": 0,
             "ticks": ""
            },
            "type": "choropleth"
           }
          ],
          "contour": [
           {
            "colorbar": {
             "outlinewidth": 0,
             "ticks": ""
            },
            "colorscale": [
             [
              0,
              "#0d0887"
             ],
             [
              0.1111111111111111,
              "#46039f"
             ],
             [
              0.2222222222222222,
              "#7201a8"
             ],
             [
              0.3333333333333333,
              "#9c179e"
             ],
             [
              0.4444444444444444,
              "#bd3786"
             ],
             [
              0.5555555555555556,
              "#d8576b"
             ],
             [
              0.6666666666666666,
              "#ed7953"
             ],
             [
              0.7777777777777778,
              "#fb9f3a"
             ],
             [
              0.8888888888888888,
              "#fdca26"
             ],
             [
              1,
              "#f0f921"
             ]
            ],
            "type": "contour"
           }
          ],
          "contourcarpet": [
           {
            "colorbar": {
             "outlinewidth": 0,
             "ticks": ""
            },
            "type": "contourcarpet"
           }
          ],
          "heatmap": [
           {
            "colorbar": {
             "outlinewidth": 0,
             "ticks": ""
            },
            "colorscale": [
             [
              0,
              "#0d0887"
             ],
             [
              0.1111111111111111,
              "#46039f"
             ],
             [
              0.2222222222222222,
              "#7201a8"
             ],
             [
              0.3333333333333333,
              "#9c179e"
             ],
             [
              0.4444444444444444,
              "#bd3786"
             ],
             [
              0.5555555555555556,
              "#d8576b"
             ],
             [
              0.6666666666666666,
              "#ed7953"
             ],
             [
              0.7777777777777778,
              "#fb9f3a"
             ],
             [
              0.8888888888888888,
              "#fdca26"
             ],
             [
              1,
              "#f0f921"
             ]
            ],
            "type": "heatmap"
           }
          ],
          "heatmapgl": [
           {
            "colorbar": {
             "outlinewidth": 0,
             "ticks": ""
            },
            "colorscale": [
             [
              0,
              "#0d0887"
             ],
             [
              0.1111111111111111,
              "#46039f"
             ],
             [
              0.2222222222222222,
              "#7201a8"
             ],
             [
              0.3333333333333333,
              "#9c179e"
             ],
             [
              0.4444444444444444,
              "#bd3786"
             ],
             [
              0.5555555555555556,
              "#d8576b"
             ],
             [
              0.6666666666666666,
              "#ed7953"
             ],
             [
              0.7777777777777778,
              "#fb9f3a"
             ],
             [
              0.8888888888888888,
              "#fdca26"
             ],
             [
              1,
              "#f0f921"
             ]
            ],
            "type": "heatmapgl"
           }
          ],
          "histogram": [
           {
            "marker": {
             "pattern": {
              "fillmode": "overlay",
              "size": 10,
              "solidity": 0.2
             }
            },
            "type": "histogram"
           }
          ],
          "histogram2d": [
           {
            "colorbar": {
             "outlinewidth": 0,
             "ticks": ""
            },
            "colorscale": [
             [
              0,
              "#0d0887"
             ],
             [
              0.1111111111111111,
              "#46039f"
             ],
             [
              0.2222222222222222,
              "#7201a8"
             ],
             [
              0.3333333333333333,
              "#9c179e"
             ],
             [
              0.4444444444444444,
              "#bd3786"
             ],
             [
              0.5555555555555556,
              "#d8576b"
             ],
             [
              0.6666666666666666,
              "#ed7953"
             ],
             [
              0.7777777777777778,
              "#fb9f3a"
             ],
             [
              0.8888888888888888,
              "#fdca26"
             ],
             [
              1,
              "#f0f921"
             ]
            ],
            "type": "histogram2d"
           }
          ],
          "histogram2dcontour": [
           {
            "colorbar": {
             "outlinewidth": 0,
             "ticks": ""
            },
            "colorscale": [
             [
              0,
              "#0d0887"
             ],
             [
              0.1111111111111111,
              "#46039f"
             ],
             [
              0.2222222222222222,
              "#7201a8"
             ],
             [
              0.3333333333333333,
              "#9c179e"
             ],
             [
              0.4444444444444444,
              "#bd3786"
             ],
             [
              0.5555555555555556,
              "#d8576b"
             ],
             [
              0.6666666666666666,
              "#ed7953"
             ],
             [
              0.7777777777777778,
              "#fb9f3a"
             ],
             [
              0.8888888888888888,
              "#fdca26"
             ],
             [
              1,
              "#f0f921"
             ]
            ],
            "type": "histogram2dcontour"
           }
          ],
          "mesh3d": [
           {
            "colorbar": {
             "outlinewidth": 0,
             "ticks": ""
            },
            "type": "mesh3d"
           }
          ],
          "parcoords": [
           {
            "line": {
             "colorbar": {
              "outlinewidth": 0,
              "ticks": ""
             }
            },
            "type": "parcoords"
           }
          ],
          "pie": [
           {
            "automargin": true,
            "type": "pie"
           }
          ],
          "scatter": [
           {
            "fillpattern": {
             "fillmode": "overlay",
             "size": 10,
             "solidity": 0.2
            },
            "type": "scatter"
           }
          ],
          "scatter3d": [
           {
            "line": {
             "colorbar": {
              "outlinewidth": 0,
              "ticks": ""
             }
            },
            "marker": {
             "colorbar": {
              "outlinewidth": 0,
              "ticks": ""
             }
            },
            "type": "scatter3d"
           }
          ],
          "scattercarpet": [
           {
            "marker": {
             "colorbar": {
              "outlinewidth": 0,
              "ticks": ""
             }
            },
            "type": "scattercarpet"
           }
          ],
          "scattergeo": [
           {
            "marker": {
             "colorbar": {
              "outlinewidth": 0,
              "ticks": ""
             }
            },
            "type": "scattergeo"
           }
          ],
          "scattergl": [
           {
            "marker": {
             "colorbar": {
              "outlinewidth": 0,
              "ticks": ""
             }
            },
            "type": "scattergl"
           }
          ],
          "scattermapbox": [
           {
            "marker": {
             "colorbar": {
              "outlinewidth": 0,
              "ticks": ""
             }
            },
            "type": "scattermapbox"
           }
          ],
          "scatterpolar": [
           {
            "marker": {
             "colorbar": {
              "outlinewidth": 0,
              "ticks": ""
             }
            },
            "type": "scatterpolar"
           }
          ],
          "scatterpolargl": [
           {
            "marker": {
             "colorbar": {
              "outlinewidth": 0,
              "ticks": ""
             }
            },
            "type": "scatterpolargl"
           }
          ],
          "scatterternary": [
           {
            "marker": {
             "colorbar": {
              "outlinewidth": 0,
              "ticks": ""
             }
            },
            "type": "scatterternary"
           }
          ],
          "surface": [
           {
            "colorbar": {
             "outlinewidth": 0,
             "ticks": ""
            },
            "colorscale": [
             [
              0,
              "#0d0887"
             ],
             [
              0.1111111111111111,
              "#46039f"
             ],
             [
              0.2222222222222222,
              "#7201a8"
             ],
             [
              0.3333333333333333,
              "#9c179e"
             ],
             [
              0.4444444444444444,
              "#bd3786"
             ],
             [
              0.5555555555555556,
              "#d8576b"
             ],
             [
              0.6666666666666666,
              "#ed7953"
             ],
             [
              0.7777777777777778,
              "#fb9f3a"
             ],
             [
              0.8888888888888888,
              "#fdca26"
             ],
             [
              1,
              "#f0f921"
             ]
            ],
            "type": "surface"
           }
          ],
          "table": [
           {
            "cells": {
             "fill": {
              "color": "#EBF0F8"
             },
             "line": {
              "color": "white"
             }
            },
            "header": {
             "fill": {
              "color": "#C8D4E3"
             },
             "line": {
              "color": "white"
             }
            },
            "type": "table"
           }
          ]
         },
         "layout": {
          "annotationdefaults": {
           "arrowcolor": "#2a3f5f",
           "arrowhead": 0,
           "arrowwidth": 1
          },
          "autotypenumbers": "strict",
          "coloraxis": {
           "colorbar": {
            "outlinewidth": 0,
            "ticks": ""
           }
          },
          "colorscale": {
           "diverging": [
            [
             0,
             "#8e0152"
            ],
            [
             0.1,
             "#c51b7d"
            ],
            [
             0.2,
             "#de77ae"
            ],
            [
             0.3,
             "#f1b6da"
            ],
            [
             0.4,
             "#fde0ef"
            ],
            [
             0.5,
             "#f7f7f7"
            ],
            [
             0.6,
             "#e6f5d0"
            ],
            [
             0.7,
             "#b8e186"
            ],
            [
             0.8,
             "#7fbc41"
            ],
            [
             0.9,
             "#4d9221"
            ],
            [
             1,
             "#276419"
            ]
           ],
           "sequential": [
            [
             0,
             "#0d0887"
            ],
            [
             0.1111111111111111,
             "#46039f"
            ],
            [
             0.2222222222222222,
             "#7201a8"
            ],
            [
             0.3333333333333333,
             "#9c179e"
            ],
            [
             0.4444444444444444,
             "#bd3786"
            ],
            [
             0.5555555555555556,
             "#d8576b"
            ],
            [
             0.6666666666666666,
             "#ed7953"
            ],
            [
             0.7777777777777778,
             "#fb9f3a"
            ],
            [
             0.8888888888888888,
             "#fdca26"
            ],
            [
             1,
             "#f0f921"
            ]
           ],
           "sequentialminus": [
            [
             0,
             "#0d0887"
            ],
            [
             0.1111111111111111,
             "#46039f"
            ],
            [
             0.2222222222222222,
             "#7201a8"
            ],
            [
             0.3333333333333333,
             "#9c179e"
            ],
            [
             0.4444444444444444,
             "#bd3786"
            ],
            [
             0.5555555555555556,
             "#d8576b"
            ],
            [
             0.6666666666666666,
             "#ed7953"
            ],
            [
             0.7777777777777778,
             "#fb9f3a"
            ],
            [
             0.8888888888888888,
             "#fdca26"
            ],
            [
             1,
             "#f0f921"
            ]
           ]
          },
          "colorway": [
           "#636efa",
           "#EF553B",
           "#00cc96",
           "#ab63fa",
           "#FFA15A",
           "#19d3f3",
           "#FF6692",
           "#B6E880",
           "#FF97FF",
           "#FECB52"
          ],
          "font": {
           "color": "#2a3f5f"
          },
          "geo": {
           "bgcolor": "white",
           "lakecolor": "white",
           "landcolor": "#E5ECF6",
           "showlakes": true,
           "showland": true,
           "subunitcolor": "white"
          },
          "hoverlabel": {
           "align": "left"
          },
          "hovermode": "closest",
          "mapbox": {
           "style": "light"
          },
          "paper_bgcolor": "white",
          "plot_bgcolor": "#E5ECF6",
          "polar": {
           "angularaxis": {
            "gridcolor": "white",
            "linecolor": "white",
            "ticks": ""
           },
           "bgcolor": "#E5ECF6",
           "radialaxis": {
            "gridcolor": "white",
            "linecolor": "white",
            "ticks": ""
           }
          },
          "scene": {
           "xaxis": {
            "backgroundcolor": "#E5ECF6",
            "gridcolor": "white",
            "gridwidth": 2,
            "linecolor": "white",
            "showbackground": true,
            "ticks": "",
            "zerolinecolor": "white"
           },
           "yaxis": {
            "backgroundcolor": "#E5ECF6",
            "gridcolor": "white",
            "gridwidth": 2,
            "linecolor": "white",
            "showbackground": true,
            "ticks": "",
            "zerolinecolor": "white"
           },
           "zaxis": {
            "backgroundcolor": "#E5ECF6",
            "gridcolor": "white",
            "gridwidth": 2,
            "linecolor": "white",
            "showbackground": true,
            "ticks": "",
            "zerolinecolor": "white"
           }
          },
          "shapedefaults": {
           "line": {
            "color": "#2a3f5f"
           }
          },
          "ternary": {
           "aaxis": {
            "gridcolor": "white",
            "linecolor": "white",
            "ticks": ""
           },
           "baxis": {
            "gridcolor": "white",
            "linecolor": "white",
            "ticks": ""
           },
           "bgcolor": "#E5ECF6",
           "caxis": {
            "gridcolor": "white",
            "linecolor": "white",
            "ticks": ""
           }
          },
          "title": {
           "x": 0.05
          },
          "xaxis": {
           "automargin": true,
           "gridcolor": "white",
           "linecolor": "white",
           "ticks": "",
           "title": {
            "standoff": 15
           },
           "zerolinecolor": "white",
           "zerolinewidth": 2
          },
          "yaxis": {
           "automargin": true,
           "gridcolor": "white",
           "linecolor": "white",
           "ticks": "",
           "title": {
            "standoff": 15
           },
           "zerolinecolor": "white",
           "zerolinewidth": 2
          }
         }
        },
        "width": 930,
        "xaxis": {
         "anchor": "y",
         "categoryarray": [
          "Weekend Markdown",
          "Two Day Sale",
          "Price Savers",
          "Price Winners",
          "Save-It Sale",
          "Super Duper Savers",
          "Super Savers",
          "One Day Sale",
          "Double Down Sale",
          "High Roller Savings",
          "Green Light Days",
          "Shelf Clearing Days",
          "Price Slashers",
          "Free For All",
          "Cash Register Lottery",
          "Go For It",
          "Two for One",
          "Money Savers",
          "Big Time Discounts",
          "Price Destroyers",
          "Saving Days",
          "Dollar Cutters",
          "Unbeatable Price Savers",
          "Sales Galore",
          "Big Promo",
          "Dimes Off",
          "Sales Days",
          "Price Cutters",
          "You Save Days",
          "Savings Galore",
          "Bag Stuffers",
          "Three for One",
          "I Cant Believe It Sale",
          "Sale Winners",
          "Pick Your Savings",
          "Bye Bye Baby",
          "Best Savings",
          "Tip Top Savings",
          "Shelf Emptiers",
          "Big Time Savings",
          "Wallet Savers",
          "Dollar Days",
          "Mystery Sale",
          "Price Smashers",
          "Green Light Special",
          "Coupon Spectacular",
          "Super Wallet Savers",
          "Double Your Savings",
          "Fantastic Discounts"
         ],
         "categoryorder": "array",
         "domain": [
          0,
          1
         ],
         "title": {
          "text": "promotion_name"
         }
        },
        "yaxis": {
         "anchor": "x",
         "domain": [
          0,
          1
         ],
         "title": {
          "text": "CAC"
         }
        }
       }
      }
     },
     "metadata": {},
     "output_type": "display_data"
    }
   ],
   "source": [
    "pd_df = strlvl_promo_info.groupby(\n",
    "            ['promotion_name']\n",
    "        ).agg(\n",
    "            total_acq_customers = pd.NamedAgg('total_acq_customers','sum')\n",
    "        ).reset_index().sort_values(\n",
    "                        'total_acq_customers',\n",
    "                        ascending=False)\n",
    "\n",
    "#x = pd_df['promotion_name'].to_list()\n",
    "fig = px.box(strlvl_promo_info,\n",
    "             y='CAC',\n",
    "             x='promotion_name',\n",
    "             color_discrete_sequence=px.colors.qualitative.Safe\n",
    "            )\n",
    "\n",
    "fig.update_traces(quartilemethod=\"inclusive\") # or \"inclusive\", or \"linear\" by default\n",
    "fig.update_layout(autosize=True,\n",
    "                           height=600,\n",
    "                           width=930,\n",
    "                           margin=dict(t=30, b=20, l=20, r=20),\n",
    "                           plot_bgcolor='#2d3035',\n",
    "                           paper_bgcolor='#2d3035',\n",
    "                           font=dict(color='#8a8d93')\n",
    "                           )\n",
    "fig.update_xaxes(categoryorder='array', categoryarray= pd_df.promotion_name)\n",
    "\n",
    "fig.show()"
   ]
  },
  {
   "cell_type": "code",
   "execution_count": 22,
   "id": "23a58b3a",
   "metadata": {},
   "outputs": [
    {
     "data": {
      "application/vnd.plotly.v1+json": {
       "config": {
        "plotlyServerURL": "https://plot.ly"
       },
       "data": [
        {
         "domain": {
          "x": [
           0,
           1
          ],
          "y": [
           0,
           1
          ]
         },
         "hole": 0.5,
         "hovertemplate": "media_type=%{label}<br>total_acq_customers=%{value}<extra></extra>",
         "labels": [
          "Daily Paper, Radio",
          "Product Attachment",
          "Daily Paper, Radio, TV",
          "Daily Paper",
          "Street Handout",
          "Radio",
          "Sunday Paper",
          "In-Store Coupon",
          "Sunday Paper, Radio",
          "Cash Register Handout",
          "TV",
          "Bulk Mail",
          "Sunday Paper, Radio, TV"
         ],
         "legendgroup": "",
         "name": "",
         "showlegend": true,
         "textfont": {
          "color": "#fff"
         },
         "type": "pie",
         "values": [
          6820,
          5371,
          5284,
          5119,
          5069,
          4980,
          4859,
          4495,
          4050,
          4002,
          3576,
          3457,
          3346
         ]
        }
       ],
       "layout": {
        "autosize": true,
        "font": {
         "color": "#8a8d93"
        },
        "height": 600,
        "legend": {
         "orientation": "h",
         "tracegroupgap": 0,
         "x": 1.5,
         "xanchor": "right",
         "y": 1.2,
         "yanchor": "bottom"
        },
        "margin": {
         "t": 60
        },
        "paper_bgcolor": "#2d3035",
        "piecolorway": [
         "rgb(95, 70, 144)",
         "rgb(29, 105, 150)",
         "rgb(56, 166, 165)",
         "rgb(15, 133, 84)",
         "rgb(115, 175, 72)",
         "rgb(237, 173, 8)",
         "rgb(225, 124, 5)",
         "rgb(204, 80, 62)",
         "rgb(148, 52, 110)",
         "rgb(111, 64, 112)",
         "rgb(102, 102, 102)"
        ],
        "plot_bgcolor": "#2d3035",
        "template": {
         "data": {
          "bar": [
           {
            "error_x": {
             "color": "#2a3f5f"
            },
            "error_y": {
             "color": "#2a3f5f"
            },
            "marker": {
             "line": {
              "color": "#E5ECF6",
              "width": 0.5
             },
             "pattern": {
              "fillmode": "overlay",
              "size": 10,
              "solidity": 0.2
             }
            },
            "type": "bar"
           }
          ],
          "barpolar": [
           {
            "marker": {
             "line": {
              "color": "#E5ECF6",
              "width": 0.5
             },
             "pattern": {
              "fillmode": "overlay",
              "size": 10,
              "solidity": 0.2
             }
            },
            "type": "barpolar"
           }
          ],
          "carpet": [
           {
            "aaxis": {
             "endlinecolor": "#2a3f5f",
             "gridcolor": "white",
             "linecolor": "white",
             "minorgridcolor": "white",
             "startlinecolor": "#2a3f5f"
            },
            "baxis": {
             "endlinecolor": "#2a3f5f",
             "gridcolor": "white",
             "linecolor": "white",
             "minorgridcolor": "white",
             "startlinecolor": "#2a3f5f"
            },
            "type": "carpet"
           }
          ],
          "choropleth": [
           {
            "colorbar": {
             "outlinewidth": 0,
             "ticks": ""
            },
            "type": "choropleth"
           }
          ],
          "contour": [
           {
            "colorbar": {
             "outlinewidth": 0,
             "ticks": ""
            },
            "colorscale": [
             [
              0,
              "#0d0887"
             ],
             [
              0.1111111111111111,
              "#46039f"
             ],
             [
              0.2222222222222222,
              "#7201a8"
             ],
             [
              0.3333333333333333,
              "#9c179e"
             ],
             [
              0.4444444444444444,
              "#bd3786"
             ],
             [
              0.5555555555555556,
              "#d8576b"
             ],
             [
              0.6666666666666666,
              "#ed7953"
             ],
             [
              0.7777777777777778,
              "#fb9f3a"
             ],
             [
              0.8888888888888888,
              "#fdca26"
             ],
             [
              1,
              "#f0f921"
             ]
            ],
            "type": "contour"
           }
          ],
          "contourcarpet": [
           {
            "colorbar": {
             "outlinewidth": 0,
             "ticks": ""
            },
            "type": "contourcarpet"
           }
          ],
          "heatmap": [
           {
            "colorbar": {
             "outlinewidth": 0,
             "ticks": ""
            },
            "colorscale": [
             [
              0,
              "#0d0887"
             ],
             [
              0.1111111111111111,
              "#46039f"
             ],
             [
              0.2222222222222222,
              "#7201a8"
             ],
             [
              0.3333333333333333,
              "#9c179e"
             ],
             [
              0.4444444444444444,
              "#bd3786"
             ],
             [
              0.5555555555555556,
              "#d8576b"
             ],
             [
              0.6666666666666666,
              "#ed7953"
             ],
             [
              0.7777777777777778,
              "#fb9f3a"
             ],
             [
              0.8888888888888888,
              "#fdca26"
             ],
             [
              1,
              "#f0f921"
             ]
            ],
            "type": "heatmap"
           }
          ],
          "heatmapgl": [
           {
            "colorbar": {
             "outlinewidth": 0,
             "ticks": ""
            },
            "colorscale": [
             [
              0,
              "#0d0887"
             ],
             [
              0.1111111111111111,
              "#46039f"
             ],
             [
              0.2222222222222222,
              "#7201a8"
             ],
             [
              0.3333333333333333,
              "#9c179e"
             ],
             [
              0.4444444444444444,
              "#bd3786"
             ],
             [
              0.5555555555555556,
              "#d8576b"
             ],
             [
              0.6666666666666666,
              "#ed7953"
             ],
             [
              0.7777777777777778,
              "#fb9f3a"
             ],
             [
              0.8888888888888888,
              "#fdca26"
             ],
             [
              1,
              "#f0f921"
             ]
            ],
            "type": "heatmapgl"
           }
          ],
          "histogram": [
           {
            "marker": {
             "pattern": {
              "fillmode": "overlay",
              "size": 10,
              "solidity": 0.2
             }
            },
            "type": "histogram"
           }
          ],
          "histogram2d": [
           {
            "colorbar": {
             "outlinewidth": 0,
             "ticks": ""
            },
            "colorscale": [
             [
              0,
              "#0d0887"
             ],
             [
              0.1111111111111111,
              "#46039f"
             ],
             [
              0.2222222222222222,
              "#7201a8"
             ],
             [
              0.3333333333333333,
              "#9c179e"
             ],
             [
              0.4444444444444444,
              "#bd3786"
             ],
             [
              0.5555555555555556,
              "#d8576b"
             ],
             [
              0.6666666666666666,
              "#ed7953"
             ],
             [
              0.7777777777777778,
              "#fb9f3a"
             ],
             [
              0.8888888888888888,
              "#fdca26"
             ],
             [
              1,
              "#f0f921"
             ]
            ],
            "type": "histogram2d"
           }
          ],
          "histogram2dcontour": [
           {
            "colorbar": {
             "outlinewidth": 0,
             "ticks": ""
            },
            "colorscale": [
             [
              0,
              "#0d0887"
             ],
             [
              0.1111111111111111,
              "#46039f"
             ],
             [
              0.2222222222222222,
              "#7201a8"
             ],
             [
              0.3333333333333333,
              "#9c179e"
             ],
             [
              0.4444444444444444,
              "#bd3786"
             ],
             [
              0.5555555555555556,
              "#d8576b"
             ],
             [
              0.6666666666666666,
              "#ed7953"
             ],
             [
              0.7777777777777778,
              "#fb9f3a"
             ],
             [
              0.8888888888888888,
              "#fdca26"
             ],
             [
              1,
              "#f0f921"
             ]
            ],
            "type": "histogram2dcontour"
           }
          ],
          "mesh3d": [
           {
            "colorbar": {
             "outlinewidth": 0,
             "ticks": ""
            },
            "type": "mesh3d"
           }
          ],
          "parcoords": [
           {
            "line": {
             "colorbar": {
              "outlinewidth": 0,
              "ticks": ""
             }
            },
            "type": "parcoords"
           }
          ],
          "pie": [
           {
            "automargin": true,
            "type": "pie"
           }
          ],
          "scatter": [
           {
            "fillpattern": {
             "fillmode": "overlay",
             "size": 10,
             "solidity": 0.2
            },
            "type": "scatter"
           }
          ],
          "scatter3d": [
           {
            "line": {
             "colorbar": {
              "outlinewidth": 0,
              "ticks": ""
             }
            },
            "marker": {
             "colorbar": {
              "outlinewidth": 0,
              "ticks": ""
             }
            },
            "type": "scatter3d"
           }
          ],
          "scattercarpet": [
           {
            "marker": {
             "colorbar": {
              "outlinewidth": 0,
              "ticks": ""
             }
            },
            "type": "scattercarpet"
           }
          ],
          "scattergeo": [
           {
            "marker": {
             "colorbar": {
              "outlinewidth": 0,
              "ticks": ""
             }
            },
            "type": "scattergeo"
           }
          ],
          "scattergl": [
           {
            "marker": {
             "colorbar": {
              "outlinewidth": 0,
              "ticks": ""
             }
            },
            "type": "scattergl"
           }
          ],
          "scattermapbox": [
           {
            "marker": {
             "colorbar": {
              "outlinewidth": 0,
              "ticks": ""
             }
            },
            "type": "scattermapbox"
           }
          ],
          "scatterpolar": [
           {
            "marker": {
             "colorbar": {
              "outlinewidth": 0,
              "ticks": ""
             }
            },
            "type": "scatterpolar"
           }
          ],
          "scatterpolargl": [
           {
            "marker": {
             "colorbar": {
              "outlinewidth": 0,
              "ticks": ""
             }
            },
            "type": "scatterpolargl"
           }
          ],
          "scatterternary": [
           {
            "marker": {
             "colorbar": {
              "outlinewidth": 0,
              "ticks": ""
             }
            },
            "type": "scatterternary"
           }
          ],
          "surface": [
           {
            "colorbar": {
             "outlinewidth": 0,
             "ticks": ""
            },
            "colorscale": [
             [
              0,
              "#0d0887"
             ],
             [
              0.1111111111111111,
              "#46039f"
             ],
             [
              0.2222222222222222,
              "#7201a8"
             ],
             [
              0.3333333333333333,
              "#9c179e"
             ],
             [
              0.4444444444444444,
              "#bd3786"
             ],
             [
              0.5555555555555556,
              "#d8576b"
             ],
             [
              0.6666666666666666,
              "#ed7953"
             ],
             [
              0.7777777777777778,
              "#fb9f3a"
             ],
             [
              0.8888888888888888,
              "#fdca26"
             ],
             [
              1,
              "#f0f921"
             ]
            ],
            "type": "surface"
           }
          ],
          "table": [
           {
            "cells": {
             "fill": {
              "color": "#EBF0F8"
             },
             "line": {
              "color": "white"
             }
            },
            "header": {
             "fill": {
              "color": "#C8D4E3"
             },
             "line": {
              "color": "white"
             }
            },
            "type": "table"
           }
          ]
         },
         "layout": {
          "annotationdefaults": {
           "arrowcolor": "#2a3f5f",
           "arrowhead": 0,
           "arrowwidth": 1
          },
          "autotypenumbers": "strict",
          "coloraxis": {
           "colorbar": {
            "outlinewidth": 0,
            "ticks": ""
           }
          },
          "colorscale": {
           "diverging": [
            [
             0,
             "#8e0152"
            ],
            [
             0.1,
             "#c51b7d"
            ],
            [
             0.2,
             "#de77ae"
            ],
            [
             0.3,
             "#f1b6da"
            ],
            [
             0.4,
             "#fde0ef"
            ],
            [
             0.5,
             "#f7f7f7"
            ],
            [
             0.6,
             "#e6f5d0"
            ],
            [
             0.7,
             "#b8e186"
            ],
            [
             0.8,
             "#7fbc41"
            ],
            [
             0.9,
             "#4d9221"
            ],
            [
             1,
             "#276419"
            ]
           ],
           "sequential": [
            [
             0,
             "#0d0887"
            ],
            [
             0.1111111111111111,
             "#46039f"
            ],
            [
             0.2222222222222222,
             "#7201a8"
            ],
            [
             0.3333333333333333,
             "#9c179e"
            ],
            [
             0.4444444444444444,
             "#bd3786"
            ],
            [
             0.5555555555555556,
             "#d8576b"
            ],
            [
             0.6666666666666666,
             "#ed7953"
            ],
            [
             0.7777777777777778,
             "#fb9f3a"
            ],
            [
             0.8888888888888888,
             "#fdca26"
            ],
            [
             1,
             "#f0f921"
            ]
           ],
           "sequentialminus": [
            [
             0,
             "#0d0887"
            ],
            [
             0.1111111111111111,
             "#46039f"
            ],
            [
             0.2222222222222222,
             "#7201a8"
            ],
            [
             0.3333333333333333,
             "#9c179e"
            ],
            [
             0.4444444444444444,
             "#bd3786"
            ],
            [
             0.5555555555555556,
             "#d8576b"
            ],
            [
             0.6666666666666666,
             "#ed7953"
            ],
            [
             0.7777777777777778,
             "#fb9f3a"
            ],
            [
             0.8888888888888888,
             "#fdca26"
            ],
            [
             1,
             "#f0f921"
            ]
           ]
          },
          "colorway": [
           "#636efa",
           "#EF553B",
           "#00cc96",
           "#ab63fa",
           "#FFA15A",
           "#19d3f3",
           "#FF6692",
           "#B6E880",
           "#FF97FF",
           "#FECB52"
          ],
          "font": {
           "color": "#2a3f5f"
          },
          "geo": {
           "bgcolor": "white",
           "lakecolor": "white",
           "landcolor": "#E5ECF6",
           "showlakes": true,
           "showland": true,
           "subunitcolor": "white"
          },
          "hoverlabel": {
           "align": "left"
          },
          "hovermode": "closest",
          "mapbox": {
           "style": "light"
          },
          "paper_bgcolor": "white",
          "plot_bgcolor": "#E5ECF6",
          "polar": {
           "angularaxis": {
            "gridcolor": "white",
            "linecolor": "white",
            "ticks": ""
           },
           "bgcolor": "#E5ECF6",
           "radialaxis": {
            "gridcolor": "white",
            "linecolor": "white",
            "ticks": ""
           }
          },
          "scene": {
           "xaxis": {
            "backgroundcolor": "#E5ECF6",
            "gridcolor": "white",
            "gridwidth": 2,
            "linecolor": "white",
            "showbackground": true,
            "ticks": "",
            "zerolinecolor": "white"
           },
           "yaxis": {
            "backgroundcolor": "#E5ECF6",
            "gridcolor": "white",
            "gridwidth": 2,
            "linecolor": "white",
            "showbackground": true,
            "ticks": "",
            "zerolinecolor": "white"
           },
           "zaxis": {
            "backgroundcolor": "#E5ECF6",
            "gridcolor": "white",
            "gridwidth": 2,
            "linecolor": "white",
            "showbackground": true,
            "ticks": "",
            "zerolinecolor": "white"
           }
          },
          "shapedefaults": {
           "line": {
            "color": "#2a3f5f"
           }
          },
          "ternary": {
           "aaxis": {
            "gridcolor": "white",
            "linecolor": "white",
            "ticks": ""
           },
           "baxis": {
            "gridcolor": "white",
            "linecolor": "white",
            "ticks": ""
           },
           "bgcolor": "#E5ECF6",
           "caxis": {
            "gridcolor": "white",
            "linecolor": "white",
            "ticks": ""
           }
          },
          "title": {
           "x": 0.05
          },
          "xaxis": {
           "automargin": true,
           "gridcolor": "white",
           "linecolor": "white",
           "ticks": "",
           "title": {
            "standoff": 15
           },
           "zerolinecolor": "white",
           "zerolinewidth": 2
          },
          "yaxis": {
           "automargin": true,
           "gridcolor": "white",
           "linecolor": "white",
           "ticks": "",
           "title": {
            "standoff": 15
           },
           "zerolinecolor": "white",
           "zerolinewidth": 2
          }
         }
        },
        "title": {
         "font": {
          "color": "#a5a7ab",
          "family": "Muli, sans-serif",
          "size": 25
         }
        },
        "width": 930
       }
      }
     },
     "metadata": {},
     "output_type": "display_data"
    }
   ],
   "source": [
    "pd_df = strlvl_promo_info.groupby(\n",
    "            ['media_type'\n",
    "            ]\n",
    "        ).agg(\n",
    "            total_acq_customers = pd.NamedAgg('total_acq_customers','sum')\n",
    "        ).reset_index().sort_values(\n",
    "                        'total_acq_customers',\n",
    "                        ascending=False)\n",
    "\n",
    "division_rat = px.pie(pd_df,\n",
    "                      names='media_type',\n",
    "                      values='total_acq_customers',\n",
    "                      hole=0.5,\n",
    "#                      title='% Customers acquired',\n",
    "                      color_discrete_sequence=px.colors.qualitative.Prism)\n",
    "division_rat.update_traces(textfont=dict(color='#fff'))\n",
    "division_rat.update_layout(autosize=True,\n",
    "                           height=600,\n",
    "                           width=930,\n",
    "                           plot_bgcolor='#2d3035',\n",
    "                           paper_bgcolor='#2d3035',\n",
    "                           title_font=dict(size=25, color='#a5a7ab', family=\"Muli, sans-serif\"),\n",
    "                           font=dict(color='#8a8d93'),\n",
    "                           legend=dict(orientation=\"h\", yanchor=\"bottom\", y=1.2, xanchor=\"right\", x=1.5)\n",
    "                           )\n"
   ]
  },
  {
   "cell_type": "code",
   "execution_count": 23,
   "id": "15cee3c5",
   "metadata": {},
   "outputs": [
    {
     "data": {
      "application/vnd.plotly.v1+json": {
       "config": {
        "plotlyServerURL": "https://plot.ly"
       },
       "data": [
        {
         "alignmentgroup": "True",
         "hovertemplate": "media_type=%{x}<br>CAC=%{y}<extra></extra>",
         "legendgroup": "",
         "marker": {
          "color": "rgb(136, 204, 238)"
         },
         "name": "",
         "notched": false,
         "offsetgroup": "",
         "orientation": "v",
         "quartilemethod": "inclusive",
         "showlegend": false,
         "type": "box",
         "x": [
          "Daily Paper",
          "Sunday Paper",
          "Sunday Paper, Radio",
          "Daily Paper, Radio",
          "TV",
          "In-Store Coupon",
          "Street Handout",
          "Street Handout",
          "Sunday Paper, Radio",
          "In-Store Coupon",
          "Product Attachment",
          "Sunday Paper",
          "Street Handout",
          "Daily Paper",
          "Sunday Paper",
          "Cash Register Handout",
          "Product Attachment",
          "Street Handout",
          "Daily Paper",
          "Product Attachment",
          "In-Store Coupon",
          "Radio",
          "In-Store Coupon",
          "Sunday Paper, Radio, TV",
          "Daily Paper, Radio",
          "Daily Paper, Radio, TV",
          "Street Handout",
          "Street Handout",
          "In-Store Coupon",
          "Daily Paper, Radio",
          "Cash Register Handout",
          "Daily Paper, Radio",
          "Bulk Mail",
          "Daily Paper, Radio, TV",
          "Sunday Paper, Radio",
          "Daily Paper",
          "Sunday Paper, Radio",
          "Bulk Mail",
          "Bulk Mail",
          "Daily Paper, Radio, TV",
          "Sunday Paper, Radio, TV",
          "Street Handout",
          "Cash Register Handout",
          "In-Store Coupon",
          "Radio",
          "Daily Paper, Radio",
          "Daily Paper, Radio, TV",
          "Street Handout",
          "Street Handout",
          "Radio",
          "In-Store Coupon",
          "Radio",
          "Sunday Paper, Radio, TV",
          "Product Attachment",
          "Bulk Mail",
          "Daily Paper, Radio, TV",
          "Street Handout",
          "Radio",
          "Sunday Paper, Radio",
          "In-Store Coupon",
          "Radio",
          "Bulk Mail",
          "Daily Paper, Radio, TV",
          "Daily Paper, Radio",
          "Sunday Paper",
          "TV",
          "TV",
          "Radio",
          "Radio",
          "In-Store Coupon",
          "Daily Paper, Radio, TV",
          "Sunday Paper, Radio, TV",
          "Bulk Mail",
          "Cash Register Handout",
          "Daily Paper, Radio, TV",
          "Sunday Paper, Radio",
          "Sunday Paper, Radio, TV",
          "Daily Paper",
          "Daily Paper, Radio",
          "In-Store Coupon",
          "Sunday Paper",
          "Cash Register Handout",
          "Daily Paper, Radio",
          "Sunday Paper",
          "Product Attachment",
          "Sunday Paper",
          "Daily Paper, Radio",
          "Cash Register Handout",
          "Sunday Paper, Radio, TV",
          "Daily Paper",
          "Daily Paper",
          "Product Attachment",
          "Street Handout",
          "Daily Paper, Radio, TV",
          "Product Attachment",
          "Radio",
          "Cash Register Handout",
          "Street Handout",
          "Bulk Mail",
          "In-Store Coupon",
          "Daily Paper, Radio",
          "In-Store Coupon",
          "Sunday Paper",
          "TV",
          "Cash Register Handout",
          "Cash Register Handout",
          "Daily Paper, Radio, TV",
          "Daily Paper",
          "Daily Paper",
          "TV",
          "Daily Paper, Radio",
          "Product Attachment",
          "Daily Paper, Radio",
          "Radio",
          "Daily Paper, Radio",
          "Daily Paper, Radio, TV",
          "In-Store Coupon",
          "Sunday Paper, Radio",
          "Radio",
          "Product Attachment",
          "Daily Paper",
          "Daily Paper, Radio",
          "Product Attachment",
          "Daily Paper, Radio, TV",
          "Sunday Paper, Radio",
          "Sunday Paper, Radio, TV",
          "Radio",
          "Daily Paper, Radio, TV",
          "In-Store Coupon",
          "Product Attachment",
          "Daily Paper",
          "Sunday Paper, Radio",
          "Daily Paper, Radio",
          "Product Attachment",
          "Cash Register Handout",
          "TV",
          "Cash Register Handout",
          "Daily Paper, Radio, TV",
          "Radio",
          "Sunday Paper",
          "In-Store Coupon",
          "Product Attachment",
          "Sunday Paper",
          "Product Attachment",
          "Daily Paper, Radio",
          "Daily Paper, Radio",
          "Cash Register Handout",
          "Product Attachment",
          "Daily Paper, Radio, TV",
          "Daily Paper",
          "Street Handout",
          "TV",
          "Daily Paper, Radio, TV",
          "Sunday Paper, Radio, TV",
          "Bulk Mail",
          "In-Store Coupon",
          "Sunday Paper, Radio, TV",
          "Cash Register Handout",
          "Daily Paper, Radio",
          "Radio",
          "Street Handout",
          "Daily Paper",
          "Radio",
          "Sunday Paper",
          "TV",
          "Cash Register Handout",
          "Daily Paper, Radio",
          "Sunday Paper, Radio, TV",
          "Bulk Mail",
          "Cash Register Handout",
          "Sunday Paper, Radio",
          "Product Attachment",
          "Sunday Paper, Radio, TV",
          "Cash Register Handout",
          "Daily Paper",
          "Sunday Paper, Radio",
          "Sunday Paper, Radio, TV",
          "Sunday Paper, Radio, TV",
          "In-Store Coupon",
          "Daily Paper, Radio, TV",
          "Daily Paper, Radio, TV",
          "Daily Paper, Radio, TV",
          "Bulk Mail",
          "Sunday Paper",
          "Daily Paper",
          "Daily Paper",
          "Radio",
          "TV",
          "Cash Register Handout",
          "Sunday Paper, Radio",
          "In-Store Coupon",
          "Daily Paper",
          "Product Attachment",
          "Sunday Paper, Radio, TV",
          "Daily Paper, Radio, TV",
          "Sunday Paper, Radio",
          "Daily Paper",
          "Street Handout",
          "Bulk Mail",
          "Daily Paper, Radio, TV",
          "Sunday Paper, Radio, TV",
          "Daily Paper",
          "Daily Paper, Radio, TV",
          "Daily Paper",
          "Radio",
          "Daily Paper",
          "Sunday Paper, Radio, TV",
          "Daily Paper, Radio",
          "Daily Paper, Radio, TV",
          "Sunday Paper",
          "Product Attachment",
          "Cash Register Handout",
          "Bulk Mail",
          "TV",
          "Daily Paper",
          "Sunday Paper, Radio, TV",
          "Sunday Paper, Radio, TV",
          "Bulk Mail",
          "Daily Paper, Radio, TV",
          "Street Handout",
          "Daily Paper, Radio",
          "Daily Paper, Radio",
          "Sunday Paper",
          "Daily Paper",
          "Bulk Mail",
          "Street Handout",
          "Daily Paper, Radio",
          "Bulk Mail",
          "Product Attachment",
          "Street Handout",
          "Cash Register Handout",
          "Sunday Paper, Radio",
          "Product Attachment",
          "Radio",
          "Sunday Paper",
          "Daily Paper, Radio",
          "Radio",
          "Cash Register Handout",
          "Street Handout",
          "Radio",
          "Sunday Paper, Radio",
          "Bulk Mail",
          "Street Handout",
          "Sunday Paper, Radio, TV",
          "Cash Register Handout",
          "Sunday Paper, Radio",
          "Product Attachment",
          "Radio",
          "Daily Paper, Radio",
          "Radio",
          "Cash Register Handout",
          "Daily Paper",
          "Product Attachment",
          "Daily Paper, Radio, TV",
          "Street Handout",
          "Sunday Paper, Radio, TV",
          "Daily Paper, Radio, TV",
          "Daily Paper, Radio",
          "Sunday Paper, Radio, TV",
          "Daily Paper",
          "TV",
          "Radio",
          "Sunday Paper, Radio",
          "Daily Paper, Radio",
          "In-Store Coupon",
          "Sunday Paper",
          "TV",
          "TV",
          "Radio",
          "Daily Paper, Radio, TV",
          "In-Store Coupon",
          "Daily Paper, Radio, TV",
          "Daily Paper, Radio",
          "Sunday Paper",
          "Sunday Paper, Radio",
          "Product Attachment",
          "Cash Register Handout",
          "Daily Paper",
          "Product Attachment",
          "Daily Paper, Radio, TV",
          "TV",
          "Sunday Paper, Radio, TV",
          "Product Attachment",
          "Bulk Mail",
          "Street Handout",
          "TV",
          "In-Store Coupon",
          "TV",
          "Street Handout",
          "Cash Register Handout",
          "Daily Paper, Radio",
          "Sunday Paper, Radio, TV",
          "Bulk Mail",
          "Product Attachment",
          "Sunday Paper",
          "Cash Register Handout",
          "Street Handout",
          "Daily Paper",
          "Product Attachment",
          "Bulk Mail",
          "Cash Register Handout",
          "TV",
          "Sunday Paper, Radio, TV",
          "Sunday Paper, Radio",
          "Bulk Mail",
          "Sunday Paper, Radio",
          "Street Handout",
          "Cash Register Handout",
          "Sunday Paper",
          "Product Attachment",
          "In-Store Coupon",
          "TV",
          "Radio",
          "Sunday Paper",
          "In-Store Coupon",
          "Sunday Paper",
          "Radio",
          "Radio",
          "Radio",
          "Cash Register Handout",
          "Bulk Mail",
          "Daily Paper, Radio",
          "Daily Paper",
          "Daily Paper, Radio",
          "Daily Paper, Radio, TV",
          "Sunday Paper",
          "Street Handout",
          "Daily Paper, Radio",
          "TV",
          "Sunday Paper",
          "Bulk Mail",
          "Radio",
          "In-Store Coupon",
          "In-Store Coupon",
          "Daily Paper, Radio",
          "Sunday Paper",
          "Cash Register Handout",
          "Radio",
          "Product Attachment",
          "Daily Paper, Radio, TV",
          "Sunday Paper",
          "Cash Register Handout",
          "Sunday Paper, Radio, TV",
          "Street Handout",
          "In-Store Coupon",
          "Daily Paper, Radio",
          "Street Handout",
          "Street Handout"
         ],
         "x0": " ",
         "xaxis": "x",
         "y": [
          2.8593069715837105,
          2.5750136200000004,
          2.6633945875336327,
          2.569279404059406,
          2.714850701832061,
          2.473898235257732,
          2.4785845585310735,
          2.7232603813966483,
          2.721821523677582,
          2.6649398931578947,
          2.6708975571573603,
          2.776571543913043,
          2.661973924785992,
          2.7800727258883247,
          2.5406451794117646,
          2.8117686364367813,
          2.7025866560465115,
          2.6093626756937796,
          2.6705546433774834,
          2.735493506975945,
          2.6769735045454546,
          2.6979381541463416,
          2.551387322077922,
          2.4748802552447557,
          2.48985625974359,
          2.520685951459854,
          2.4970462872093027,
          2.701049476338028,
          2.719037590547945,
          2.6444738302479336,
          2.632013242786885,
          2.6924249999999996,
          2.670967803829787,
          2.633846634957265,
          2.705918659552239,
          2.435786624285714,
          2.758025066045627,
          2.659251326666667,
          2.7197184588349517,
          2.6923638074251497,
          2.7908088159793816,
          2.7366461778321676,
          2.3834804017391304,
          2.763801641584158,
          2.5449229471497583,
          2.684398476551724,
          2.787847628275862,
          2.5107529877777774,
          2.7201285233333334,
          2.83795943,
          2.645264258663101,
          2.6305885184615385,
          2.5660071066666665,
          2.7417225837414967,
          2.8130744172131146,
          2.7206615590683234,
          2.582438181567944,
          2.7880789066906475,
          2.413238823529412,
          2.6251664429457366,
          2.6457922233962266,
          2.66388053,
          2.6240052976752763,
          2.644899249921363,
          2.6121988482269503,
          2.686560492556391,
          2.8092958901449276,
          2.741961755614973,
          2.787727073333333,
          2.6709467610071944,
          2.6050267706896553,
          2.7239848322222224,
          2.780392504246575,
          2.6344614540659337,
          2.725672443228347,
          2.702737272222222,
          2.51499621,
          2.76537572369863,
          2.47724569106383,
          2.741002067142857,
          2.639161719596542,
          2.732779207602339,
          2.7507241400000004,
          2.4654128445945944,
          2.693279884210526,
          2.6573579366666666,
          1.54121793,
          1.8853700076923077,
          1.7007251466666666,
          1.302218705,
          1.1831137458064516,
          1.7665439257142854,
          1.3239250171428572,
          1.504868477096774,
          1.3289572166666668,
          1.22226677,
          1.4204099277419355,
          1.375206261111111,
          1.09803302,
          1.1653372842857144,
          1.4628686453846156,
          1.7124653232258065,
          1.5425354111111111,
          1.3790816466666667,
          1.5208791300000002,
          1.2576344999999998,
          1.3380095666666667,
          1.2379113566666666,
          1.4909043,
          1.2703801007407407,
          2.5943901950421586,
          2.6399682610256408,
          2.8501074283673473,
          2.5500107472972973,
          2.4772835514600553,
          2.6574486830930932,
          2.6276631028346453,
          2.5008661719834713,
          2.686483979655173,
          2.7870136712698415,
          2.65861320877551,
          2.7189253880701756,
          2.62535666851577,
          2.5133273055555554,
          2.598254307467249,
          2.6986850378350513,
          2.6505991419047623,
          2.5797517749999996,
          2.7775826,
          2.528645224117647,
          2.710684681951219,
          2.6554129907886437,
          2.7618080547761195,
          2.6648720397260273,
          2.6318777702469136,
          2.56599937056338,
          2.7419916859581885,
          2.7467108383870973,
          2.546989967477477,
          2.6487140325925926,
          2.7629447532258067,
          2.7527098890476194,
          2.8334293301775144,
          2.6731820113772455,
          2.699187302731278,
          2.8415610253846153,
          2.6735979419379845,
          2.6169762244067796,
          2.7534524403448275,
          2.6813601552534565,
          2.51375726013986,
          2.692128075595668,
          1.4738486699999997,
          1.6073595657142856,
          1.3003076972727272,
          1.511864807894737,
          1.1543075394117648,
          1.11654219,
          1.4640485030612242,
          1.42852755,
          1.2340510485714287,
          1.04277001,
          1.1932374382758622,
          1.4312027533333331,
          1.6653535733333333,
          0.9598892400000001,
          1.6087189925806453,
          1.1120774681818182,
          1.2459977891304346,
          1.3582527192307692,
          1.36760526,
          1.3606632884615384,
          1.3835668676923076,
          1.2203743610344826,
          1.55837921,
          1.3128088847826087,
          1.2811350481818182,
          1.5545614493939395,
          1.1336511822033897,
          2.5130987179591835,
          2.7204561322222225,
          2.391908547596899,
          2.6099099622900765,
          2.7094203837500004,
          2.6982703744144145,
          2.634073670985915,
          2.56535812890411,
          2.9288307587096774,
          2.58352329202454,
          2.819244249130435,
          2.80778255,
          2.7194942397991966,
          2.7060357916455695,
          2.4578267662790694,
          2.7436874520437957,
          2.6078950164102563,
          2.6026157441935482,
          2.8484382658333334,
          2.66578976148248,
          2.537339452183908,
          2.5827289605298014,
          2.78022357,
          2.729547725217391,
          2.5894701332283465,
          2.580615391034483,
          2.7382513399999997,
          2.645257521830986,
          2.665602453445378,
          2.531829534822335,
          2.538337152912621,
          2.6260437454545453,
          2.828598825,
          2.6713264007462687,
          2.5646683977622375,
          2.59519179,
          2.702184702592593,
          2.6824034637593988,
          2.784812090769231,
          2.722660026752137,
          2.5144659114285712,
          2.6336450353374232,
          2.7499094815436242,
          2.709141585882353,
          2.6179980839240504,
          2.726236648709677,
          3.0297006710344823,
          2.6827427470588234,
          2.51168707,
          2.848401614084507,
          2.7248152914285715,
          2.8910443946478876,
          2.7060168815789476,
          2.78763679,
          2.6358728300000003,
          2.3602812846808514,
          2.6793211284615386,
          2.3070359664705884,
          2.677157364939759,
          2.8181350476923077,
          2.666376975663717,
          2.688360315971223,
          2.722635113478261,
          2.5253497701089325,
          2.6696182707563025,
          2.604691643255814,
          2.7406151933333334,
          2.740751525516372,
          2.71261958,
          2.6644247512903227,
          2.7604706520689652,
          2.610140436167401,
          2.5943220933333335,
          2.72427193,
          2.701921847407408,
          2.532351187246377,
          2.6345522647457624,
          2.637039929538905,
          2.561923982790698,
          2.6222297615837107,
          2.7326723213978497,
          2.7325851380952377,
          2.7869491233333332,
          2.72639456,
          2.7882977594466403,
          2.7653494434693875,
          2.619285104722222,
          2.7281029623574145,
          2.6161256199567102,
          2.7597650921505372,
          2.783692470187793,
          2.6291929890225565,
          2.8146036727272725,
          2.5932096826086957,
          2.6967691657312254,
          2.7311942515789474,
          2.643808567242798,
          2.538036660066225,
          2.483564912038835,
          2.5702254304026844,
          2.7342411642857143,
          2.6067193866666667,
          2.7053809872727275,
          2.735581761428571,
          2.855472845785124,
          2.72999101487106,
          2.640481597619048,
          2.6449816338461534,
          2.832709016551724,
          1.3937123614285714,
          1.0627729866666666,
          1.3748740293548385,
          1.52164411,
          1.05625933,
          1.0855146607407407,
          1.247049555,
          1.2146838506451612,
          1.128170088888889,
          1.49218952,
          1.3519844342857144,
          1.2253752058823528,
          1.3979143262068965,
          1.4904232929787233,
          1.277360059090909,
          1.07589185,
          2.491521273422819,
          2.631574312105263,
          2.84878297,
          2.689138061490683,
          2.7804165615846994,
          2.560222353157895,
          2.7883273615436237,
          2.543659505714286,
          2.6815180975862067,
          2.648625480909091,
          2.406446119855073,
          2.6136979415789474,
          2.825115521111111,
          2.7269882033333332,
          2.8749053181481483,
          2.6753078264341084,
          2.5107663927659574,
          2.644569467142857,
          2.761203375714286,
          2.574034732898551,
          2.5452028955555557,
          2.797080619253731,
          2.8045083370212764,
          2.863054522941176,
          2.684599992222222,
          2.738525983448276,
          2.5159905014814816,
          2.451817331891892,
          2.5815574284210525,
          3.0151691599999997,
          2.46068776,
          2.6251294347528518,
          2.664124191481481,
          2.4226058981720433,
          2.65239513,
          2.7275435488381747,
          2.6297264307692307,
          2.664305039503546,
          2.681968214729242,
          2.7246141550359715,
          2.5764544992792793,
          2.7005657158149776,
          2.59856344813278,
          2.7097254002150533
         ],
         "y0": " ",
         "yaxis": "y"
        }
       ],
       "layout": {
        "autosize": true,
        "boxmode": "group",
        "font": {
         "color": "#8a8d93"
        },
        "height": 600,
        "legend": {
         "tracegroupgap": 0
        },
        "margin": {
         "b": 20,
         "l": 20,
         "r": 20,
         "t": 30
        },
        "paper_bgcolor": "#2d3035",
        "plot_bgcolor": "#2d3035",
        "template": {
         "data": {
          "bar": [
           {
            "error_x": {
             "color": "#2a3f5f"
            },
            "error_y": {
             "color": "#2a3f5f"
            },
            "marker": {
             "line": {
              "color": "#E5ECF6",
              "width": 0.5
             },
             "pattern": {
              "fillmode": "overlay",
              "size": 10,
              "solidity": 0.2
             }
            },
            "type": "bar"
           }
          ],
          "barpolar": [
           {
            "marker": {
             "line": {
              "color": "#E5ECF6",
              "width": 0.5
             },
             "pattern": {
              "fillmode": "overlay",
              "size": 10,
              "solidity": 0.2
             }
            },
            "type": "barpolar"
           }
          ],
          "carpet": [
           {
            "aaxis": {
             "endlinecolor": "#2a3f5f",
             "gridcolor": "white",
             "linecolor": "white",
             "minorgridcolor": "white",
             "startlinecolor": "#2a3f5f"
            },
            "baxis": {
             "endlinecolor": "#2a3f5f",
             "gridcolor": "white",
             "linecolor": "white",
             "minorgridcolor": "white",
             "startlinecolor": "#2a3f5f"
            },
            "type": "carpet"
           }
          ],
          "choropleth": [
           {
            "colorbar": {
             "outlinewidth": 0,
             "ticks": ""
            },
            "type": "choropleth"
           }
          ],
          "contour": [
           {
            "colorbar": {
             "outlinewidth": 0,
             "ticks": ""
            },
            "colorscale": [
             [
              0,
              "#0d0887"
             ],
             [
              0.1111111111111111,
              "#46039f"
             ],
             [
              0.2222222222222222,
              "#7201a8"
             ],
             [
              0.3333333333333333,
              "#9c179e"
             ],
             [
              0.4444444444444444,
              "#bd3786"
             ],
             [
              0.5555555555555556,
              "#d8576b"
             ],
             [
              0.6666666666666666,
              "#ed7953"
             ],
             [
              0.7777777777777778,
              "#fb9f3a"
             ],
             [
              0.8888888888888888,
              "#fdca26"
             ],
             [
              1,
              "#f0f921"
             ]
            ],
            "type": "contour"
           }
          ],
          "contourcarpet": [
           {
            "colorbar": {
             "outlinewidth": 0,
             "ticks": ""
            },
            "type": "contourcarpet"
           }
          ],
          "heatmap": [
           {
            "colorbar": {
             "outlinewidth": 0,
             "ticks": ""
            },
            "colorscale": [
             [
              0,
              "#0d0887"
             ],
             [
              0.1111111111111111,
              "#46039f"
             ],
             [
              0.2222222222222222,
              "#7201a8"
             ],
             [
              0.3333333333333333,
              "#9c179e"
             ],
             [
              0.4444444444444444,
              "#bd3786"
             ],
             [
              0.5555555555555556,
              "#d8576b"
             ],
             [
              0.6666666666666666,
              "#ed7953"
             ],
             [
              0.7777777777777778,
              "#fb9f3a"
             ],
             [
              0.8888888888888888,
              "#fdca26"
             ],
             [
              1,
              "#f0f921"
             ]
            ],
            "type": "heatmap"
           }
          ],
          "heatmapgl": [
           {
            "colorbar": {
             "outlinewidth": 0,
             "ticks": ""
            },
            "colorscale": [
             [
              0,
              "#0d0887"
             ],
             [
              0.1111111111111111,
              "#46039f"
             ],
             [
              0.2222222222222222,
              "#7201a8"
             ],
             [
              0.3333333333333333,
              "#9c179e"
             ],
             [
              0.4444444444444444,
              "#bd3786"
             ],
             [
              0.5555555555555556,
              "#d8576b"
             ],
             [
              0.6666666666666666,
              "#ed7953"
             ],
             [
              0.7777777777777778,
              "#fb9f3a"
             ],
             [
              0.8888888888888888,
              "#fdca26"
             ],
             [
              1,
              "#f0f921"
             ]
            ],
            "type": "heatmapgl"
           }
          ],
          "histogram": [
           {
            "marker": {
             "pattern": {
              "fillmode": "overlay",
              "size": 10,
              "solidity": 0.2
             }
            },
            "type": "histogram"
           }
          ],
          "histogram2d": [
           {
            "colorbar": {
             "outlinewidth": 0,
             "ticks": ""
            },
            "colorscale": [
             [
              0,
              "#0d0887"
             ],
             [
              0.1111111111111111,
              "#46039f"
             ],
             [
              0.2222222222222222,
              "#7201a8"
             ],
             [
              0.3333333333333333,
              "#9c179e"
             ],
             [
              0.4444444444444444,
              "#bd3786"
             ],
             [
              0.5555555555555556,
              "#d8576b"
             ],
             [
              0.6666666666666666,
              "#ed7953"
             ],
             [
              0.7777777777777778,
              "#fb9f3a"
             ],
             [
              0.8888888888888888,
              "#fdca26"
             ],
             [
              1,
              "#f0f921"
             ]
            ],
            "type": "histogram2d"
           }
          ],
          "histogram2dcontour": [
           {
            "colorbar": {
             "outlinewidth": 0,
             "ticks": ""
            },
            "colorscale": [
             [
              0,
              "#0d0887"
             ],
             [
              0.1111111111111111,
              "#46039f"
             ],
             [
              0.2222222222222222,
              "#7201a8"
             ],
             [
              0.3333333333333333,
              "#9c179e"
             ],
             [
              0.4444444444444444,
              "#bd3786"
             ],
             [
              0.5555555555555556,
              "#d8576b"
             ],
             [
              0.6666666666666666,
              "#ed7953"
             ],
             [
              0.7777777777777778,
              "#fb9f3a"
             ],
             [
              0.8888888888888888,
              "#fdca26"
             ],
             [
              1,
              "#f0f921"
             ]
            ],
            "type": "histogram2dcontour"
           }
          ],
          "mesh3d": [
           {
            "colorbar": {
             "outlinewidth": 0,
             "ticks": ""
            },
            "type": "mesh3d"
           }
          ],
          "parcoords": [
           {
            "line": {
             "colorbar": {
              "outlinewidth": 0,
              "ticks": ""
             }
            },
            "type": "parcoords"
           }
          ],
          "pie": [
           {
            "automargin": true,
            "type": "pie"
           }
          ],
          "scatter": [
           {
            "fillpattern": {
             "fillmode": "overlay",
             "size": 10,
             "solidity": 0.2
            },
            "type": "scatter"
           }
          ],
          "scatter3d": [
           {
            "line": {
             "colorbar": {
              "outlinewidth": 0,
              "ticks": ""
             }
            },
            "marker": {
             "colorbar": {
              "outlinewidth": 0,
              "ticks": ""
             }
            },
            "type": "scatter3d"
           }
          ],
          "scattercarpet": [
           {
            "marker": {
             "colorbar": {
              "outlinewidth": 0,
              "ticks": ""
             }
            },
            "type": "scattercarpet"
           }
          ],
          "scattergeo": [
           {
            "marker": {
             "colorbar": {
              "outlinewidth": 0,
              "ticks": ""
             }
            },
            "type": "scattergeo"
           }
          ],
          "scattergl": [
           {
            "marker": {
             "colorbar": {
              "outlinewidth": 0,
              "ticks": ""
             }
            },
            "type": "scattergl"
           }
          ],
          "scattermapbox": [
           {
            "marker": {
             "colorbar": {
              "outlinewidth": 0,
              "ticks": ""
             }
            },
            "type": "scattermapbox"
           }
          ],
          "scatterpolar": [
           {
            "marker": {
             "colorbar": {
              "outlinewidth": 0,
              "ticks": ""
             }
            },
            "type": "scatterpolar"
           }
          ],
          "scatterpolargl": [
           {
            "marker": {
             "colorbar": {
              "outlinewidth": 0,
              "ticks": ""
             }
            },
            "type": "scatterpolargl"
           }
          ],
          "scatterternary": [
           {
            "marker": {
             "colorbar": {
              "outlinewidth": 0,
              "ticks": ""
             }
            },
            "type": "scatterternary"
           }
          ],
          "surface": [
           {
            "colorbar": {
             "outlinewidth": 0,
             "ticks": ""
            },
            "colorscale": [
             [
              0,
              "#0d0887"
             ],
             [
              0.1111111111111111,
              "#46039f"
             ],
             [
              0.2222222222222222,
              "#7201a8"
             ],
             [
              0.3333333333333333,
              "#9c179e"
             ],
             [
              0.4444444444444444,
              "#bd3786"
             ],
             [
              0.5555555555555556,
              "#d8576b"
             ],
             [
              0.6666666666666666,
              "#ed7953"
             ],
             [
              0.7777777777777778,
              "#fb9f3a"
             ],
             [
              0.8888888888888888,
              "#fdca26"
             ],
             [
              1,
              "#f0f921"
             ]
            ],
            "type": "surface"
           }
          ],
          "table": [
           {
            "cells": {
             "fill": {
              "color": "#EBF0F8"
             },
             "line": {
              "color": "white"
             }
            },
            "header": {
             "fill": {
              "color": "#C8D4E3"
             },
             "line": {
              "color": "white"
             }
            },
            "type": "table"
           }
          ]
         },
         "layout": {
          "annotationdefaults": {
           "arrowcolor": "#2a3f5f",
           "arrowhead": 0,
           "arrowwidth": 1
          },
          "autotypenumbers": "strict",
          "coloraxis": {
           "colorbar": {
            "outlinewidth": 0,
            "ticks": ""
           }
          },
          "colorscale": {
           "diverging": [
            [
             0,
             "#8e0152"
            ],
            [
             0.1,
             "#c51b7d"
            ],
            [
             0.2,
             "#de77ae"
            ],
            [
             0.3,
             "#f1b6da"
            ],
            [
             0.4,
             "#fde0ef"
            ],
            [
             0.5,
             "#f7f7f7"
            ],
            [
             0.6,
             "#e6f5d0"
            ],
            [
             0.7,
             "#b8e186"
            ],
            [
             0.8,
             "#7fbc41"
            ],
            [
             0.9,
             "#4d9221"
            ],
            [
             1,
             "#276419"
            ]
           ],
           "sequential": [
            [
             0,
             "#0d0887"
            ],
            [
             0.1111111111111111,
             "#46039f"
            ],
            [
             0.2222222222222222,
             "#7201a8"
            ],
            [
             0.3333333333333333,
             "#9c179e"
            ],
            [
             0.4444444444444444,
             "#bd3786"
            ],
            [
             0.5555555555555556,
             "#d8576b"
            ],
            [
             0.6666666666666666,
             "#ed7953"
            ],
            [
             0.7777777777777778,
             "#fb9f3a"
            ],
            [
             0.8888888888888888,
             "#fdca26"
            ],
            [
             1,
             "#f0f921"
            ]
           ],
           "sequentialminus": [
            [
             0,
             "#0d0887"
            ],
            [
             0.1111111111111111,
             "#46039f"
            ],
            [
             0.2222222222222222,
             "#7201a8"
            ],
            [
             0.3333333333333333,
             "#9c179e"
            ],
            [
             0.4444444444444444,
             "#bd3786"
            ],
            [
             0.5555555555555556,
             "#d8576b"
            ],
            [
             0.6666666666666666,
             "#ed7953"
            ],
            [
             0.7777777777777778,
             "#fb9f3a"
            ],
            [
             0.8888888888888888,
             "#fdca26"
            ],
            [
             1,
             "#f0f921"
            ]
           ]
          },
          "colorway": [
           "#636efa",
           "#EF553B",
           "#00cc96",
           "#ab63fa",
           "#FFA15A",
           "#19d3f3",
           "#FF6692",
           "#B6E880",
           "#FF97FF",
           "#FECB52"
          ],
          "font": {
           "color": "#2a3f5f"
          },
          "geo": {
           "bgcolor": "white",
           "lakecolor": "white",
           "landcolor": "#E5ECF6",
           "showlakes": true,
           "showland": true,
           "subunitcolor": "white"
          },
          "hoverlabel": {
           "align": "left"
          },
          "hovermode": "closest",
          "mapbox": {
           "style": "light"
          },
          "paper_bgcolor": "white",
          "plot_bgcolor": "#E5ECF6",
          "polar": {
           "angularaxis": {
            "gridcolor": "white",
            "linecolor": "white",
            "ticks": ""
           },
           "bgcolor": "#E5ECF6",
           "radialaxis": {
            "gridcolor": "white",
            "linecolor": "white",
            "ticks": ""
           }
          },
          "scene": {
           "xaxis": {
            "backgroundcolor": "#E5ECF6",
            "gridcolor": "white",
            "gridwidth": 2,
            "linecolor": "white",
            "showbackground": true,
            "ticks": "",
            "zerolinecolor": "white"
           },
           "yaxis": {
            "backgroundcolor": "#E5ECF6",
            "gridcolor": "white",
            "gridwidth": 2,
            "linecolor": "white",
            "showbackground": true,
            "ticks": "",
            "zerolinecolor": "white"
           },
           "zaxis": {
            "backgroundcolor": "#E5ECF6",
            "gridcolor": "white",
            "gridwidth": 2,
            "linecolor": "white",
            "showbackground": true,
            "ticks": "",
            "zerolinecolor": "white"
           }
          },
          "shapedefaults": {
           "line": {
            "color": "#2a3f5f"
           }
          },
          "ternary": {
           "aaxis": {
            "gridcolor": "white",
            "linecolor": "white",
            "ticks": ""
           },
           "baxis": {
            "gridcolor": "white",
            "linecolor": "white",
            "ticks": ""
           },
           "bgcolor": "#E5ECF6",
           "caxis": {
            "gridcolor": "white",
            "linecolor": "white",
            "ticks": ""
           }
          },
          "title": {
           "x": 0.05
          },
          "xaxis": {
           "automargin": true,
           "gridcolor": "white",
           "linecolor": "white",
           "ticks": "",
           "title": {
            "standoff": 15
           },
           "zerolinecolor": "white",
           "zerolinewidth": 2
          },
          "yaxis": {
           "automargin": true,
           "gridcolor": "white",
           "linecolor": "white",
           "ticks": "",
           "title": {
            "standoff": 15
           },
           "zerolinecolor": "white",
           "zerolinewidth": 2
          }
         }
        },
        "width": 930,
        "xaxis": {
         "anchor": "y",
         "categoryarray": [
          "Daily Paper, Radio",
          "Product Attachment",
          "Daily Paper, Radio, TV",
          "Daily Paper",
          "Street Handout",
          "Radio",
          "Sunday Paper",
          "In-Store Coupon",
          "Sunday Paper, Radio",
          "Cash Register Handout",
          "TV",
          "Bulk Mail",
          "Sunday Paper, Radio, TV"
         ],
         "categoryorder": "array",
         "domain": [
          0,
          1
         ],
         "title": {
          "text": "media_type"
         }
        },
        "yaxis": {
         "anchor": "x",
         "domain": [
          0,
          1
         ],
         "title": {
          "text": "CAC"
         }
        }
       }
      }
     },
     "metadata": {},
     "output_type": "display_data"
    }
   ],
   "source": [
    "pd_df = strlvl_promo_info.groupby(\n",
    "            ['media_type']\n",
    "        ).agg(\n",
    "            total_acq_customers = pd.NamedAgg('total_acq_customers','sum')\n",
    "        ).reset_index().sort_values(\n",
    "                        'total_acq_customers',\n",
    "                        ascending=False)\n",
    "\n",
    "#x = pd_df['promotion_name'].to_list()\n",
    "fig = px.box(strlvl_promo_info,\n",
    "             y='CAC',\n",
    "             x='media_type',\n",
    "             color_discrete_sequence=px.colors.qualitative.Safe\n",
    "            )\n",
    "\n",
    "fig.update_traces(quartilemethod=\"inclusive\") # or \"inclusive\", or \"linear\" by default\n",
    "fig.update_layout(autosize=True,\n",
    "                           height=600,\n",
    "                           width=930,\n",
    "                           margin=dict(t=30, b=20, l=20, r=20),\n",
    "                           plot_bgcolor='#2d3035',\n",
    "                           paper_bgcolor='#2d3035',\n",
    "                           font=dict(color='#8a8d93')\n",
    "                           )\n",
    "fig.update_xaxes(categoryorder='array', categoryarray= pd_df.media_type)\n",
    "\n",
    "fig.show()"
   ]
  },
  {
   "cell_type": "code",
   "execution_count": 24,
   "id": "c21f365a",
   "metadata": {},
   "outputs": [
    {
     "data": {
      "image/png": "[encoded data removed]",
      "text/plain": [
       "<Figure size 1500x500 with 1 Axes>"
      ]
     },
     "metadata": {},
     "output_type": "display_data"
    }
   ],
   "source": [
    "plt.figure(figsize=(15,5))\n",
    "plt.subplot(facecolor='black')\n",
    "sns.scatterplot(data=strlvl_promo_info,\n",
    "                y='total_acq_customers',\n",
    "                x='CAC',\n",
    "                color='cyan',\n",
    "                marker='.')\n",
    "plt.show()"
   ]
  },
  {
   "cell_type": "code",
   "execution_count": 25,
   "id": "9c2d26e5",
   "metadata": {},
   "outputs": [],
   "source": [
    "#Food Level"
   ]
  },
  {
   "cell_type": "code",
   "execution_count": 26,
   "id": "4d6aff9b",
   "metadata": {},
   "outputs": [],
   "source": [
    "foodlvl_promo_info = df.groupby(['sales_country',\n",
    "                    'food_family',\n",
    "                    'food_department',\n",
    "                    'food_category', \n",
    "                    'promotion_name',\n",
    "                    'media_type',\n",
    "                    'cost']).agg(\n",
    "                        total_acq_customers = pd.NamedAgg('gender', 'count'),\n",
    "                        total_units_sold = pd.NamedAgg('unit_sales', 'sum'),\n",
    "                        total_store_sales = pd.NamedAgg('store_sales','sum'),\n",
    "                        total_store_cost = pd.NamedAgg('store_cost', 'sum'),\n",
    "                        total_acq_cost = pd.NamedAgg('cost', 'sum')\n",
    "                    ).reset_index().sort_values(\n",
    "                                    ['sales_country',\n",
    "                                    'food_family',\n",
    "                                    'food_department',\n",
    "                                    'food_category',\n",
    "                                    'promotion_name',\n",
    "                                    'media_type'],ascending=False\n",
    "                                    )\n",
    "\n",
    "foodlvl_promo_info['CAC'] = ( foodlvl_promo_info['total_store_cost'] + \\\n",
    "                             foodlvl_promo_info['total_acq_cost']/1000000 \\\n",
    "                           ) / foodlvl_promo_info['total_acq_customers']"
   ]
  },
  {
   "cell_type": "code",
   "execution_count": 27,
   "id": "fdab6a07",
   "metadata": {},
   "outputs": [
    {
     "data": {
      "text/html": [
       "<div>\n",
       "<style scoped>\n",
       "    .dataframe tbody tr th:only-of-type {\n",
       "        vertical-align: middle;\n",
       "    }\n",
       "\n",
       "    .dataframe tbody tr th {\n",
       "        vertical-align: top;\n",
       "    }\n",
       "\n",
       "    .dataframe thead th {\n",
       "        text-align: right;\n",
       "    }\n",
       "</style>\n",
       "<table border=\"1\" class=\"dataframe\">\n",
       "  <thead>\n",
       "    <tr style=\"text-align: right;\">\n",
       "      <th></th>\n",
       "      <th>sales_country</th>\n",
       "      <th>food_family</th>\n",
       "      <th>food_department</th>\n",
       "      <th>food_category</th>\n",
       "      <th>promotion_name</th>\n",
       "      <th>media_type</th>\n",
       "      <th>cost</th>\n",
       "      <th>total_acq_customers</th>\n",
       "      <th>total_units_sold</th>\n",
       "      <th>total_store_sales</th>\n",
       "      <th>total_store_cost</th>\n",
       "      <th>total_acq_cost</th>\n",
       "      <th>CAC</th>\n",
       "    </tr>\n",
       "  </thead>\n",
       "  <tbody>\n",
       "    <tr>\n",
       "      <th>12946</th>\n",
       "      <td>USA</td>\n",
       "      <td>Non-Consumable</td>\n",
       "      <td>Periodicals</td>\n",
       "      <td>Magazines</td>\n",
       "      <td>You Save Days</td>\n",
       "      <td>TV</td>\n",
       "      <td>108.22</td>\n",
       "      <td>1</td>\n",
       "      <td>3.0</td>\n",
       "      <td>6.45</td>\n",
       "      <td>2.8380</td>\n",
       "      <td>108.22</td>\n",
       "      <td>2.838108</td>\n",
       "    </tr>\n",
       "    <tr>\n",
       "      <th>12945</th>\n",
       "      <td>USA</td>\n",
       "      <td>Non-Consumable</td>\n",
       "      <td>Periodicals</td>\n",
       "      <td>Magazines</td>\n",
       "      <td>You Save Days</td>\n",
       "      <td>Sunday Paper</td>\n",
       "      <td>51.27</td>\n",
       "      <td>4</td>\n",
       "      <td>9.0</td>\n",
       "      <td>21.44</td>\n",
       "      <td>8.6850</td>\n",
       "      <td>205.08</td>\n",
       "      <td>2.171301</td>\n",
       "    </tr>\n",
       "    <tr>\n",
       "      <th>12944</th>\n",
       "      <td>USA</td>\n",
       "      <td>Non-Consumable</td>\n",
       "      <td>Periodicals</td>\n",
       "      <td>Magazines</td>\n",
       "      <td>You Save Days</td>\n",
       "      <td>In-Store Coupon</td>\n",
       "      <td>95.25</td>\n",
       "      <td>3</td>\n",
       "      <td>5.0</td>\n",
       "      <td>5.68</td>\n",
       "      <td>2.3528</td>\n",
       "      <td>285.75</td>\n",
       "      <td>0.784362</td>\n",
       "    </tr>\n",
       "    <tr>\n",
       "      <th>12943</th>\n",
       "      <td>USA</td>\n",
       "      <td>Non-Consumable</td>\n",
       "      <td>Periodicals</td>\n",
       "      <td>Magazines</td>\n",
       "      <td>You Save Days</td>\n",
       "      <td>Bulk Mail</td>\n",
       "      <td>131.81</td>\n",
       "      <td>10</td>\n",
       "      <td>30.0</td>\n",
       "      <td>50.88</td>\n",
       "      <td>19.8817</td>\n",
       "      <td>1318.10</td>\n",
       "      <td>1.988302</td>\n",
       "    </tr>\n",
       "    <tr>\n",
       "      <th>12942</th>\n",
       "      <td>USA</td>\n",
       "      <td>Non-Consumable</td>\n",
       "      <td>Periodicals</td>\n",
       "      <td>Magazines</td>\n",
       "      <td>Weekend Markdown</td>\n",
       "      <td>Sunday Paper, Radio, TV</td>\n",
       "      <td>67.51</td>\n",
       "      <td>1</td>\n",
       "      <td>1.0</td>\n",
       "      <td>2.85</td>\n",
       "      <td>0.9975</td>\n",
       "      <td>67.51</td>\n",
       "      <td>0.997568</td>\n",
       "    </tr>\n",
       "  </tbody>\n",
       "</table>\n",
       "</div>"
      ],
      "text/plain": [
       "      sales_country     food_family food_department food_category    promotion_name               media_type    cost  total_acq_customers  total_units_sold  total_store_sales  total_store_cost  total_acq_cost       CAC\n",
       "12946           USA  Non-Consumable     Periodicals     Magazines     You Save Days                       TV  108.22                    1               3.0               6.45            2.8380          108.22  2.838108\n",
       "12945           USA  Non-Consumable     Periodicals     Magazines     You Save Days             Sunday Paper   51.27                    4               9.0              21.44            8.6850          205.08  2.171301\n",
       "12944           USA  Non-Consumable     Periodicals     Magazines     You Save Days          In-Store Coupon   95.25                    3               5.0               5.68            2.3528          285.75  0.784362\n",
       "12943           USA  Non-Consumable     Periodicals     Magazines     You Save Days                Bulk Mail  131.81                   10              30.0              50.88           19.8817         1318.10  1.988302\n",
       "12942           USA  Non-Consumable     Periodicals     Magazines  Weekend Markdown  Sunday Paper, Radio, TV   67.51                    1               1.0               2.85            0.9975           67.51  0.997568"
      ]
     },
     "execution_count": 27,
     "metadata": {},
     "output_type": "execute_result"
    }
   ],
   "source": [
    "foodlvl_promo_info.head()"
   ]
  },
  {
   "cell_type": "code",
   "execution_count": 28,
   "id": "b3dea471",
   "metadata": {},
   "outputs": [],
   "source": [
    "#Customer Level"
   ]
  },
  {
   "cell_type": "code",
   "execution_count": 29,
   "id": "dc4b2794",
   "metadata": {},
   "outputs": [],
   "source": [
    "genderlvl_promo_info = df.groupby(['gender',\n",
    "                                'promotion_name',\n",
    "                                'media_type',\n",
    "                                'cost']).agg(\n",
    "                                            total_acq_customers = pd.NamedAgg('member_card', 'count'),\n",
    "                                            total_units_sold = pd.NamedAgg('unit_sales', 'sum'),\n",
    "                                            total_store_sales = pd.NamedAgg('store_sales','sum'),\n",
    "                                            total_store_cost = pd.NamedAgg('store_cost', 'sum'),\n",
    "                                            total_acq_cost = pd.NamedAgg('cost', 'sum')\n",
    "                                        ).reset_index().sort_values(\n",
    "                                                            ['gender',\n",
    "                                                             'promotion_name',\n",
    "                                                             'media_type']\n",
    "                                                        )\n",
    "\n",
    "genderlvl_promo_info['CAC'] = ( genderlvl_promo_info['total_store_cost'] + \\\n",
    "                             genderlvl_promo_info['total_acq_cost']/1000000 \\\n",
    "                           ) / genderlvl_promo_info['total_acq_customers']"
   ]
  },
  {
   "cell_type": "code",
   "execution_count": 30,
   "id": "7a6e8574",
   "metadata": {},
   "outputs": [
    {
     "data": {
      "text/html": [
       "<div>\n",
       "<style scoped>\n",
       "    .dataframe tbody tr th:only-of-type {\n",
       "        vertical-align: middle;\n",
       "    }\n",
       "\n",
       "    .dataframe tbody tr th {\n",
       "        vertical-align: top;\n",
       "    }\n",
       "\n",
       "    .dataframe thead th {\n",
       "        text-align: right;\n",
       "    }\n",
       "</style>\n",
       "<table border=\"1\" class=\"dataframe\">\n",
       "  <thead>\n",
       "    <tr style=\"text-align: right;\">\n",
       "      <th></th>\n",
       "      <th>gender</th>\n",
       "      <th>promotion_name</th>\n",
       "      <th>media_type</th>\n",
       "      <th>cost</th>\n",
       "      <th>total_acq_customers</th>\n",
       "      <th>total_units_sold</th>\n",
       "      <th>total_store_sales</th>\n",
       "      <th>total_store_cost</th>\n",
       "      <th>total_acq_cost</th>\n",
       "      <th>CAC</th>\n",
       "    </tr>\n",
       "  </thead>\n",
       "  <tbody>\n",
       "    <tr>\n",
       "      <th>0</th>\n",
       "      <td>F</td>\n",
       "      <td>Bag Stuffers</td>\n",
       "      <td>Daily Paper</td>\n",
       "      <td>70.32</td>\n",
       "      <td>135</td>\n",
       "      <td>421.0</td>\n",
       "      <td>954.93</td>\n",
       "      <td>379.9735</td>\n",
       "      <td>9493.20</td>\n",
       "      <td>2.814689</td>\n",
       "    </tr>\n",
       "    <tr>\n",
       "      <th>1</th>\n",
       "      <td>F</td>\n",
       "      <td>Bag Stuffers</td>\n",
       "      <td>Daily Paper, Radio</td>\n",
       "      <td>117.93</td>\n",
       "      <td>6</td>\n",
       "      <td>14.0</td>\n",
       "      <td>23.18</td>\n",
       "      <td>8.6238</td>\n",
       "      <td>707.58</td>\n",
       "      <td>1.437418</td>\n",
       "    </tr>\n",
       "    <tr>\n",
       "      <th>2</th>\n",
       "      <td>F</td>\n",
       "      <td>Bag Stuffers</td>\n",
       "      <td>Daily Paper, Radio</td>\n",
       "      <td>126.62</td>\n",
       "      <td>273</td>\n",
       "      <td>852.0</td>\n",
       "      <td>1776.63</td>\n",
       "      <td>707.6857</td>\n",
       "      <td>34567.26</td>\n",
       "      <td>2.592382</td>\n",
       "    </tr>\n",
       "    <tr>\n",
       "      <th>3</th>\n",
       "      <td>F</td>\n",
       "      <td>Bag Stuffers</td>\n",
       "      <td>Product Attachment</td>\n",
       "      <td>82.62</td>\n",
       "      <td>92</td>\n",
       "      <td>288.0</td>\n",
       "      <td>639.80</td>\n",
       "      <td>256.4033</td>\n",
       "      <td>7601.04</td>\n",
       "      <td>2.787075</td>\n",
       "    </tr>\n",
       "    <tr>\n",
       "      <th>4</th>\n",
       "      <td>F</td>\n",
       "      <td>Bag Stuffers</td>\n",
       "      <td>Street Handout</td>\n",
       "      <td>123.79</td>\n",
       "      <td>27</td>\n",
       "      <td>45.0</td>\n",
       "      <td>94.33</td>\n",
       "      <td>39.3389</td>\n",
       "      <td>3342.33</td>\n",
       "      <td>1.457120</td>\n",
       "    </tr>\n",
       "  </tbody>\n",
       "</table>\n",
       "</div>"
      ],
      "text/plain": [
       "  gender promotion_name          media_type    cost  total_acq_customers  total_units_sold  total_store_sales  total_store_cost  total_acq_cost       CAC\n",
       "0      F   Bag Stuffers         Daily Paper   70.32                  135             421.0             954.93          379.9735         9493.20  2.814689\n",
       "1      F   Bag Stuffers  Daily Paper, Radio  117.93                    6              14.0              23.18            8.6238          707.58  1.437418\n",
       "2      F   Bag Stuffers  Daily Paper, Radio  126.62                  273             852.0            1776.63          707.6857        34567.26  2.592382\n",
       "3      F   Bag Stuffers  Product Attachment   82.62                   92             288.0             639.80          256.4033         7601.04  2.787075\n",
       "4      F   Bag Stuffers      Street Handout  123.79                   27              45.0              94.33           39.3389         3342.33  1.457120"
      ]
     },
     "execution_count": 30,
     "metadata": {},
     "output_type": "execute_result"
    }
   ],
   "source": [
    "genderlvl_promo_info.head()"
   ]
  },
  {
   "cell_type": "code",
   "execution_count": 31,
   "id": "484aaf7d",
   "metadata": {},
   "outputs": [],
   "source": [
    "maritallvl_promo_info = df.groupby(['marital_status',\n",
    "                                'promotion_name',\n",
    "                                'media_type',\n",
    "                                'cost']).agg(\n",
    "                                            total_acq_customers = pd.NamedAgg('member_card', 'count'),\n",
    "                                            total_units_sold = pd.NamedAgg('unit_sales', 'sum'),\n",
    "                                            total_store_sales = pd.NamedAgg('store_sales','sum'),\n",
    "                                            total_store_cost = pd.NamedAgg('store_cost', 'sum'),\n",
    "                                            total_acq_cost = pd.NamedAgg('cost', 'sum')\n",
    "                                        ).reset_index().sort_values(\n",
    "                                                            ['marital_status',\n",
    "                                                             'promotion_name',\n",
    "                                                             'media_type']\n",
    "                                                        )\n",
    "\n",
    "maritallvl_promo_info['CAC'] = ( maritallvl_promo_info['total_store_cost'] + \\\n",
    "                             maritallvl_promo_info['total_acq_cost']/1000000 \\\n",
    "                           ) / maritallvl_promo_info['total_acq_customers']"
   ]
  },
  {
   "cell_type": "code",
   "execution_count": 32,
   "id": "e28b100c",
   "metadata": {},
   "outputs": [
    {
     "data": {
      "text/html": [
       "<div>\n",
       "<style scoped>\n",
       "    .dataframe tbody tr th:only-of-type {\n",
       "        vertical-align: middle;\n",
       "    }\n",
       "\n",
       "    .dataframe tbody tr th {\n",
       "        vertical-align: top;\n",
       "    }\n",
       "\n",
       "    .dataframe thead th {\n",
       "        text-align: right;\n",
       "    }\n",
       "</style>\n",
       "<table border=\"1\" class=\"dataframe\">\n",
       "  <thead>\n",
       "    <tr style=\"text-align: right;\">\n",
       "      <th></th>\n",
       "      <th>marital_status</th>\n",
       "      <th>promotion_name</th>\n",
       "      <th>media_type</th>\n",
       "      <th>cost</th>\n",
       "      <th>total_acq_customers</th>\n",
       "      <th>total_units_sold</th>\n",
       "      <th>total_store_sales</th>\n",
       "      <th>total_store_cost</th>\n",
       "      <th>total_acq_cost</th>\n",
       "      <th>CAC</th>\n",
       "    </tr>\n",
       "  </thead>\n",
       "  <tbody>\n",
       "    <tr>\n",
       "      <th>0</th>\n",
       "      <td>M</td>\n",
       "      <td>Bag Stuffers</td>\n",
       "      <td>Daily Paper</td>\n",
       "      <td>70.32</td>\n",
       "      <td>100</td>\n",
       "      <td>310.0</td>\n",
       "      <td>706.81</td>\n",
       "      <td>284.6242</td>\n",
       "      <td>7032.00</td>\n",
       "      <td>2.846312</td>\n",
       "    </tr>\n",
       "    <tr>\n",
       "      <th>1</th>\n",
       "      <td>M</td>\n",
       "      <td>Bag Stuffers</td>\n",
       "      <td>Daily Paper, Radio</td>\n",
       "      <td>117.93</td>\n",
       "      <td>8</td>\n",
       "      <td>17.0</td>\n",
       "      <td>26.41</td>\n",
       "      <td>10.0231</td>\n",
       "      <td>943.44</td>\n",
       "      <td>1.253005</td>\n",
       "    </tr>\n",
       "    <tr>\n",
       "      <th>2</th>\n",
       "      <td>M</td>\n",
       "      <td>Bag Stuffers</td>\n",
       "      <td>Daily Paper, Radio</td>\n",
       "      <td>126.62</td>\n",
       "      <td>269</td>\n",
       "      <td>831.0</td>\n",
       "      <td>1741.66</td>\n",
       "      <td>698.8640</td>\n",
       "      <td>34060.78</td>\n",
       "      <td>2.598134</td>\n",
       "    </tr>\n",
       "    <tr>\n",
       "      <th>3</th>\n",
       "      <td>M</td>\n",
       "      <td>Bag Stuffers</td>\n",
       "      <td>Product Attachment</td>\n",
       "      <td>82.62</td>\n",
       "      <td>86</td>\n",
       "      <td>264.0</td>\n",
       "      <td>554.34</td>\n",
       "      <td>219.6478</td>\n",
       "      <td>7105.32</td>\n",
       "      <td>2.554127</td>\n",
       "    </tr>\n",
       "    <tr>\n",
       "      <th>4</th>\n",
       "      <td>M</td>\n",
       "      <td>Bag Stuffers</td>\n",
       "      <td>Street Handout</td>\n",
       "      <td>123.79</td>\n",
       "      <td>3</td>\n",
       "      <td>6.0</td>\n",
       "      <td>8.54</td>\n",
       "      <td>3.6110</td>\n",
       "      <td>371.37</td>\n",
       "      <td>1.203790</td>\n",
       "    </tr>\n",
       "  </tbody>\n",
       "</table>\n",
       "</div>"
      ],
      "text/plain": [
       "  marital_status promotion_name          media_type    cost  total_acq_customers  total_units_sold  total_store_sales  total_store_cost  total_acq_cost       CAC\n",
       "0              M   Bag Stuffers         Daily Paper   70.32                  100             310.0             706.81          284.6242         7032.00  2.846312\n",
       "1              M   Bag Stuffers  Daily Paper, Radio  117.93                    8              17.0              26.41           10.0231          943.44  1.253005\n",
       "2              M   Bag Stuffers  Daily Paper, Radio  126.62                  269             831.0            1741.66          698.8640        34060.78  2.598134\n",
       "3              M   Bag Stuffers  Product Attachment   82.62                   86             264.0             554.34          219.6478         7105.32  2.554127\n",
       "4              M   Bag Stuffers      Street Handout  123.79                    3               6.0               8.54            3.6110          371.37  1.203790"
      ]
     },
     "execution_count": 32,
     "metadata": {},
     "output_type": "execute_result"
    }
   ],
   "source": [
    "maritallvl_promo_info.head()"
   ]
  },
  {
   "cell_type": "code",
   "execution_count": 33,
   "id": "5556d893",
   "metadata": {},
   "outputs": [],
   "source": [
    "totalchildrenlvl_promo_info = df.groupby(['total_children',\n",
    "                                'promotion_name',\n",
    "                                'media_type',\n",
    "                                'cost']).agg(\n",
    "                                            total_acq_customers = pd.NamedAgg('member_card', 'count'),\n",
    "                                            total_units_sold = pd.NamedAgg('unit_sales', 'sum'),\n",
    "                                            total_store_sales = pd.NamedAgg('store_sales','sum'),\n",
    "                                            total_store_cost = pd.NamedAgg('store_cost', 'sum'),\n",
    "                                            total_acq_cost = pd.NamedAgg('cost', 'sum')\n",
    "                                        ).reset_index().sort_values(\n",
    "                                                            ['total_children',\n",
    "                                                             'promotion_name',\n",
    "                                                             'media_type']\n",
    "                                                        )\n",
    "\n",
    "totalchildrenlvl_promo_info['CAC'] = ( totalchildrenlvl_promo_info['total_store_cost'] + \\\n",
    "                             totalchildrenlvl_promo_info['total_acq_cost']/1000000 \\\n",
    "                           ) / totalchildrenlvl_promo_info['total_acq_customers']"
   ]
  },
  {
   "cell_type": "code",
   "execution_count": 34,
   "id": "9a59cba0",
   "metadata": {},
   "outputs": [
    {
     "data": {
      "text/html": [
       "<div>\n",
       "<style scoped>\n",
       "    .dataframe tbody tr th:only-of-type {\n",
       "        vertical-align: middle;\n",
       "    }\n",
       "\n",
       "    .dataframe tbody tr th {\n",
       "        vertical-align: top;\n",
       "    }\n",
       "\n",
       "    .dataframe thead th {\n",
       "        text-align: right;\n",
       "    }\n",
       "</style>\n",
       "<table border=\"1\" class=\"dataframe\">\n",
       "  <thead>\n",
       "    <tr style=\"text-align: right;\">\n",
       "      <th></th>\n",
       "      <th>total_children</th>\n",
       "      <th>promotion_name</th>\n",
       "      <th>media_type</th>\n",
       "      <th>cost</th>\n",
       "      <th>total_acq_customers</th>\n",
       "      <th>total_units_sold</th>\n",
       "      <th>total_store_sales</th>\n",
       "      <th>total_store_cost</th>\n",
       "      <th>total_acq_cost</th>\n",
       "      <th>CAC</th>\n",
       "    </tr>\n",
       "  </thead>\n",
       "  <tbody>\n",
       "    <tr>\n",
       "      <th>0</th>\n",
       "      <td>0.0</td>\n",
       "      <td>Bag Stuffers</td>\n",
       "      <td>Daily Paper</td>\n",
       "      <td>70.32</td>\n",
       "      <td>9</td>\n",
       "      <td>29.0</td>\n",
       "      <td>64.61</td>\n",
       "      <td>26.0134</td>\n",
       "      <td>632.88</td>\n",
       "      <td>2.890448</td>\n",
       "    </tr>\n",
       "    <tr>\n",
       "      <th>1</th>\n",
       "      <td>0.0</td>\n",
       "      <td>Bag Stuffers</td>\n",
       "      <td>Daily Paper, Radio</td>\n",
       "      <td>117.93</td>\n",
       "      <td>3</td>\n",
       "      <td>6.0</td>\n",
       "      <td>10.66</td>\n",
       "      <td>3.5652</td>\n",
       "      <td>353.79</td>\n",
       "      <td>1.188518</td>\n",
       "    </tr>\n",
       "    <tr>\n",
       "      <th>2</th>\n",
       "      <td>0.0</td>\n",
       "      <td>Bag Stuffers</td>\n",
       "      <td>Daily Paper, Radio</td>\n",
       "      <td>126.62</td>\n",
       "      <td>66</td>\n",
       "      <td>200.0</td>\n",
       "      <td>433.72</td>\n",
       "      <td>169.4428</td>\n",
       "      <td>8356.92</td>\n",
       "      <td>2.567442</td>\n",
       "    </tr>\n",
       "    <tr>\n",
       "      <th>3</th>\n",
       "      <td>0.0</td>\n",
       "      <td>Bag Stuffers</td>\n",
       "      <td>Product Attachment</td>\n",
       "      <td>82.62</td>\n",
       "      <td>23</td>\n",
       "      <td>70.0</td>\n",
       "      <td>146.23</td>\n",
       "      <td>60.0912</td>\n",
       "      <td>1900.26</td>\n",
       "      <td>2.612743</td>\n",
       "    </tr>\n",
       "    <tr>\n",
       "      <th>4</th>\n",
       "      <td>0.0</td>\n",
       "      <td>Bag Stuffers</td>\n",
       "      <td>Street Handout</td>\n",
       "      <td>123.79</td>\n",
       "      <td>3</td>\n",
       "      <td>6.0</td>\n",
       "      <td>8.54</td>\n",
       "      <td>3.6110</td>\n",
       "      <td>371.37</td>\n",
       "      <td>1.203790</td>\n",
       "    </tr>\n",
       "  </tbody>\n",
       "</table>\n",
       "</div>"
      ],
      "text/plain": [
       "   total_children promotion_name          media_type    cost  total_acq_customers  total_units_sold  total_store_sales  total_store_cost  total_acq_cost       CAC\n",
       "0             0.0   Bag Stuffers         Daily Paper   70.32                    9              29.0              64.61           26.0134          632.88  2.890448\n",
       "1             0.0   Bag Stuffers  Daily Paper, Radio  117.93                    3               6.0              10.66            3.5652          353.79  1.188518\n",
       "2             0.0   Bag Stuffers  Daily Paper, Radio  126.62                   66             200.0             433.72          169.4428         8356.92  2.567442\n",
       "3             0.0   Bag Stuffers  Product Attachment   82.62                   23              70.0             146.23           60.0912         1900.26  2.612743\n",
       "4             0.0   Bag Stuffers      Street Handout  123.79                    3               6.0               8.54            3.6110          371.37  1.203790"
      ]
     },
     "execution_count": 34,
     "metadata": {},
     "output_type": "execute_result"
    }
   ],
   "source": [
    "totalchildrenlvl_promo_info.head()"
   ]
  },
  {
   "cell_type": "code",
   "execution_count": 35,
   "id": "769e3c87",
   "metadata": {},
   "outputs": [],
   "source": [
    "educationlvl_promo_info = df.groupby(['education',\n",
    "                                'promotion_name',\n",
    "                                'media_type',\n",
    "                                'cost']).agg(\n",
    "                                            total_acq_customers = pd.NamedAgg('member_card', 'count'),\n",
    "                                            total_units_sold = pd.NamedAgg('unit_sales', 'sum'),\n",
    "                                            total_store_sales = pd.NamedAgg('store_sales','sum'),\n",
    "                                            total_store_cost = pd.NamedAgg('store_cost', 'sum'),\n",
    "                                            total_acq_cost = pd.NamedAgg('cost', 'sum')\n",
    "                                        ).reset_index().sort_values(\n",
    "                                                            ['education',\n",
    "                                                             'promotion_name',\n",
    "                                                             'media_type']\n",
    "                                                        )\n",
    "\n",
    "educationlvl_promo_info['CAC'] = ( educationlvl_promo_info['total_store_cost'] + \\\n",
    "                             educationlvl_promo_info['total_acq_cost']/1000000 \\\n",
    "                           ) / educationlvl_promo_info['total_acq_customers']"
   ]
  },
  {
   "cell_type": "code",
   "execution_count": 36,
   "id": "782f0732",
   "metadata": {},
   "outputs": [
    {
     "data": {
      "text/html": [
       "<div>\n",
       "<style scoped>\n",
       "    .dataframe tbody tr th:only-of-type {\n",
       "        vertical-align: middle;\n",
       "    }\n",
       "\n",
       "    .dataframe tbody tr th {\n",
       "        vertical-align: top;\n",
       "    }\n",
       "\n",
       "    .dataframe thead th {\n",
       "        text-align: right;\n",
       "    }\n",
       "</style>\n",
       "<table border=\"1\" class=\"dataframe\">\n",
       "  <thead>\n",
       "    <tr style=\"text-align: right;\">\n",
       "      <th></th>\n",
       "      <th>education</th>\n",
       "      <th>promotion_name</th>\n",
       "      <th>media_type</th>\n",
       "      <th>cost</th>\n",
       "      <th>total_acq_customers</th>\n",
       "      <th>total_units_sold</th>\n",
       "      <th>total_store_sales</th>\n",
       "      <th>total_store_cost</th>\n",
       "      <th>total_acq_cost</th>\n",
       "      <th>CAC</th>\n",
       "    </tr>\n",
       "  </thead>\n",
       "  <tbody>\n",
       "    <tr>\n",
       "      <th>0</th>\n",
       "      <td>Bachelors Degree</td>\n",
       "      <td>Bag Stuffers</td>\n",
       "      <td>Daily Paper</td>\n",
       "      <td>70.32</td>\n",
       "      <td>51</td>\n",
       "      <td>168.0</td>\n",
       "      <td>387.82</td>\n",
       "      <td>156.4672</td>\n",
       "      <td>3586.32</td>\n",
       "      <td>3.068055</td>\n",
       "    </tr>\n",
       "    <tr>\n",
       "      <th>1</th>\n",
       "      <td>Bachelors Degree</td>\n",
       "      <td>Bag Stuffers</td>\n",
       "      <td>Daily Paper, Radio</td>\n",
       "      <td>117.93</td>\n",
       "      <td>7</td>\n",
       "      <td>13.0</td>\n",
       "      <td>25.53</td>\n",
       "      <td>9.3139</td>\n",
       "      <td>825.51</td>\n",
       "      <td>1.330675</td>\n",
       "    </tr>\n",
       "    <tr>\n",
       "      <th>2</th>\n",
       "      <td>Bachelors Degree</td>\n",
       "      <td>Bag Stuffers</td>\n",
       "      <td>Daily Paper, Radio</td>\n",
       "      <td>126.62</td>\n",
       "      <td>147</td>\n",
       "      <td>453.0</td>\n",
       "      <td>975.08</td>\n",
       "      <td>393.2195</td>\n",
       "      <td>18613.14</td>\n",
       "      <td>2.675089</td>\n",
       "    </tr>\n",
       "    <tr>\n",
       "      <th>3</th>\n",
       "      <td>Bachelors Degree</td>\n",
       "      <td>Bag Stuffers</td>\n",
       "      <td>Product Attachment</td>\n",
       "      <td>82.62</td>\n",
       "      <td>60</td>\n",
       "      <td>188.0</td>\n",
       "      <td>384.60</td>\n",
       "      <td>154.7507</td>\n",
       "      <td>4957.20</td>\n",
       "      <td>2.579261</td>\n",
       "    </tr>\n",
       "    <tr>\n",
       "      <th>4</th>\n",
       "      <td>Bachelors Degree</td>\n",
       "      <td>Best Savings</td>\n",
       "      <td>Cash Register Handout</td>\n",
       "      <td>110.17</td>\n",
       "      <td>65</td>\n",
       "      <td>201.0</td>\n",
       "      <td>405.68</td>\n",
       "      <td>166.9585</td>\n",
       "      <td>7161.05</td>\n",
       "      <td>2.568702</td>\n",
       "    </tr>\n",
       "  </tbody>\n",
       "</table>\n",
       "</div>"
      ],
      "text/plain": [
       "          education promotion_name             media_type    cost  total_acq_customers  total_units_sold  total_store_sales  total_store_cost  total_acq_cost       CAC\n",
       "0  Bachelors Degree   Bag Stuffers            Daily Paper   70.32                   51             168.0             387.82          156.4672         3586.32  3.068055\n",
       "1  Bachelors Degree   Bag Stuffers     Daily Paper, Radio  117.93                    7              13.0              25.53            9.3139          825.51  1.330675\n",
       "2  Bachelors Degree   Bag Stuffers     Daily Paper, Radio  126.62                  147             453.0             975.08          393.2195        18613.14  2.675089\n",
       "3  Bachelors Degree   Bag Stuffers     Product Attachment   82.62                   60             188.0             384.60          154.7507         4957.20  2.579261\n",
       "4  Bachelors Degree   Best Savings  Cash Register Handout  110.17                   65             201.0             405.68          166.9585         7161.05  2.568702"
      ]
     },
     "execution_count": 36,
     "metadata": {},
     "output_type": "execute_result"
    }
   ],
   "source": [
    "educationlvl_promo_info.head()"
   ]
  },
  {
   "cell_type": "code",
   "execution_count": 37,
   "id": "ee97c4c8",
   "metadata": {},
   "outputs": [],
   "source": [
    "membercardlvl_promo_info = df.groupby(['member_card',\n",
    "                                'promotion_name',\n",
    "                                'media_type',\n",
    "                                'cost']).agg(\n",
    "                                            total_acq_customers = pd.NamedAgg('member_card', 'count'),\n",
    "                                            total_units_sold = pd.NamedAgg('unit_sales', 'sum'),\n",
    "                                            total_store_sales = pd.NamedAgg('store_sales','sum'),\n",
    "                                            total_store_cost = pd.NamedAgg('store_cost', 'sum'),\n",
    "                                            total_acq_cost = pd.NamedAgg('cost', 'sum')\n",
    "                                        ).reset_index().sort_values(\n",
    "                                                            ['member_card',\n",
    "                                                             'promotion_name',\n",
    "                                                             'media_type']\n",
    "                                                        )\n",
    "\n",
    "membercardlvl_promo_info['CAC'] = ( membercardlvl_promo_info['total_store_cost'] + \\\n",
    "                             membercardlvl_promo_info['total_acq_cost']/1000000 \\\n",
    "                           ) / membercardlvl_promo_info['total_acq_customers']"
   ]
  },
  {
   "cell_type": "code",
   "execution_count": 38,
   "id": "d56e340f",
   "metadata": {},
   "outputs": [
    {
     "data": {
      "text/html": [
       "<div>\n",
       "<style scoped>\n",
       "    .dataframe tbody tr th:only-of-type {\n",
       "        vertical-align: middle;\n",
       "    }\n",
       "\n",
       "    .dataframe tbody tr th {\n",
       "        vertical-align: top;\n",
       "    }\n",
       "\n",
       "    .dataframe thead th {\n",
       "        text-align: right;\n",
       "    }\n",
       "</style>\n",
       "<table border=\"1\" class=\"dataframe\">\n",
       "  <thead>\n",
       "    <tr style=\"text-align: right;\">\n",
       "      <th></th>\n",
       "      <th>member_card</th>\n",
       "      <th>promotion_name</th>\n",
       "      <th>media_type</th>\n",
       "      <th>cost</th>\n",
       "      <th>total_acq_customers</th>\n",
       "      <th>total_units_sold</th>\n",
       "      <th>total_store_sales</th>\n",
       "      <th>total_store_cost</th>\n",
       "      <th>total_acq_cost</th>\n",
       "      <th>CAC</th>\n",
       "    </tr>\n",
       "  </thead>\n",
       "  <tbody>\n",
       "    <tr>\n",
       "      <th>0</th>\n",
       "      <td>Bronze</td>\n",
       "      <td>Bag Stuffers</td>\n",
       "      <td>Daily Paper</td>\n",
       "      <td>70.32</td>\n",
       "      <td>140</td>\n",
       "      <td>448.0</td>\n",
       "      <td>983.70</td>\n",
       "      <td>401.3544</td>\n",
       "      <td>9844.80</td>\n",
       "      <td>2.866887</td>\n",
       "    </tr>\n",
       "    <tr>\n",
       "      <th>1</th>\n",
       "      <td>Bronze</td>\n",
       "      <td>Bag Stuffers</td>\n",
       "      <td>Daily Paper, Radio</td>\n",
       "      <td>117.93</td>\n",
       "      <td>5</td>\n",
       "      <td>10.0</td>\n",
       "      <td>22.30</td>\n",
       "      <td>7.9146</td>\n",
       "      <td>589.65</td>\n",
       "      <td>1.583038</td>\n",
       "    </tr>\n",
       "    <tr>\n",
       "      <th>2</th>\n",
       "      <td>Bronze</td>\n",
       "      <td>Bag Stuffers</td>\n",
       "      <td>Daily Paper, Radio</td>\n",
       "      <td>126.62</td>\n",
       "      <td>275</td>\n",
       "      <td>847.0</td>\n",
       "      <td>1801.77</td>\n",
       "      <td>712.6193</td>\n",
       "      <td>34820.50</td>\n",
       "      <td>2.591470</td>\n",
       "    </tr>\n",
       "    <tr>\n",
       "      <th>3</th>\n",
       "      <td>Bronze</td>\n",
       "      <td>Bag Stuffers</td>\n",
       "      <td>Product Attachment</td>\n",
       "      <td>82.62</td>\n",
       "      <td>124</td>\n",
       "      <td>385.0</td>\n",
       "      <td>784.27</td>\n",
       "      <td>310.7733</td>\n",
       "      <td>10244.88</td>\n",
       "      <td>2.506319</td>\n",
       "    </tr>\n",
       "    <tr>\n",
       "      <th>4</th>\n",
       "      <td>Bronze</td>\n",
       "      <td>Bag Stuffers</td>\n",
       "      <td>Street Handout</td>\n",
       "      <td>123.79</td>\n",
       "      <td>13</td>\n",
       "      <td>21.0</td>\n",
       "      <td>39.63</td>\n",
       "      <td>16.4357</td>\n",
       "      <td>1609.27</td>\n",
       "      <td>1.264408</td>\n",
       "    </tr>\n",
       "  </tbody>\n",
       "</table>\n",
       "</div>"
      ],
      "text/plain": [
       "  member_card promotion_name          media_type    cost  total_acq_customers  total_units_sold  total_store_sales  total_store_cost  total_acq_cost       CAC\n",
       "0      Bronze   Bag Stuffers         Daily Paper   70.32                  140             448.0             983.70          401.3544         9844.80  2.866887\n",
       "1      Bronze   Bag Stuffers  Daily Paper, Radio  117.93                    5              10.0              22.30            7.9146          589.65  1.583038\n",
       "2      Bronze   Bag Stuffers  Daily Paper, Radio  126.62                  275             847.0            1801.77          712.6193        34820.50  2.591470\n",
       "3      Bronze   Bag Stuffers  Product Attachment   82.62                  124             385.0             784.27          310.7733        10244.88  2.506319\n",
       "4      Bronze   Bag Stuffers      Street Handout  123.79                   13              21.0              39.63           16.4357         1609.27  1.264408"
      ]
     },
     "execution_count": 38,
     "metadata": {},
     "output_type": "execute_result"
    }
   ],
   "source": [
    "membercardlvl_promo_info.head()"
   ]
  },
  {
   "cell_type": "code",
   "execution_count": 39,
   "id": "fddb23c8",
   "metadata": {},
   "outputs": [],
   "source": [
    "occupationlvl_promo_info = df.groupby(['occupation',\n",
    "                                'promotion_name',\n",
    "                                'media_type',\n",
    "                                'cost']).agg(\n",
    "                                            total_acq_customers = pd.NamedAgg('member_card', 'count'),\n",
    "                                            total_units_sold = pd.NamedAgg('unit_sales', 'sum'),\n",
    "                                            total_store_sales = pd.NamedAgg('store_sales','sum'),\n",
    "                                            total_store_cost = pd.NamedAgg('store_cost', 'sum'),\n",
    "                                            total_acq_cost = pd.NamedAgg('cost', 'sum')\n",
    "                                        ).reset_index().sort_values(\n",
    "                                                            ['occupation',\n",
    "                                                             'promotion_name',\n",
    "                                                             'media_type']\n",
    "                                                        )\n",
    "\n",
    "occupationlvl_promo_info['CAC'] = ( occupationlvl_promo_info['total_store_cost'] + \\\n",
    "                             occupationlvl_promo_info['total_acq_cost']/1000000 \\\n",
    "                           ) / occupationlvl_promo_info['total_acq_customers']"
   ]
  },
  {
   "cell_type": "code",
   "execution_count": 40,
   "id": "34d4515a",
   "metadata": {},
   "outputs": [
    {
     "data": {
      "text/html": [
       "<div>\n",
       "<style scoped>\n",
       "    .dataframe tbody tr th:only-of-type {\n",
       "        vertical-align: middle;\n",
       "    }\n",
       "\n",
       "    .dataframe tbody tr th {\n",
       "        vertical-align: top;\n",
       "    }\n",
       "\n",
       "    .dataframe thead th {\n",
       "        text-align: right;\n",
       "    }\n",
       "</style>\n",
       "<table border=\"1\" class=\"dataframe\">\n",
       "  <thead>\n",
       "    <tr style=\"text-align: right;\">\n",
       "      <th></th>\n",
       "      <th>occupation</th>\n",
       "      <th>promotion_name</th>\n",
       "      <th>media_type</th>\n",
       "      <th>cost</th>\n",
       "      <th>total_acq_customers</th>\n",
       "      <th>total_units_sold</th>\n",
       "      <th>total_store_sales</th>\n",
       "      <th>total_store_cost</th>\n",
       "      <th>total_acq_cost</th>\n",
       "      <th>CAC</th>\n",
       "    </tr>\n",
       "  </thead>\n",
       "  <tbody>\n",
       "    <tr>\n",
       "      <th>0</th>\n",
       "      <td>Clerical</td>\n",
       "      <td>Bag Stuffers</td>\n",
       "      <td>Product Attachment</td>\n",
       "      <td>82.62</td>\n",
       "      <td>3</td>\n",
       "      <td>10.0</td>\n",
       "      <td>21.29</td>\n",
       "      <td>7.2411</td>\n",
       "      <td>247.86</td>\n",
       "      <td>2.413783</td>\n",
       "    </tr>\n",
       "    <tr>\n",
       "      <th>1</th>\n",
       "      <td>Clerical</td>\n",
       "      <td>Best Savings</td>\n",
       "      <td>Daily Paper, Radio, TV</td>\n",
       "      <td>53.82</td>\n",
       "      <td>3</td>\n",
       "      <td>8.0</td>\n",
       "      <td>27.85</td>\n",
       "      <td>11.0859</td>\n",
       "      <td>161.46</td>\n",
       "      <td>3.695354</td>\n",
       "    </tr>\n",
       "    <tr>\n",
       "      <th>2</th>\n",
       "      <td>Clerical</td>\n",
       "      <td>Best Savings</td>\n",
       "      <td>Street Handout</td>\n",
       "      <td>114.01</td>\n",
       "      <td>6</td>\n",
       "      <td>24.0</td>\n",
       "      <td>50.70</td>\n",
       "      <td>18.9292</td>\n",
       "      <td>684.06</td>\n",
       "      <td>3.154981</td>\n",
       "    </tr>\n",
       "    <tr>\n",
       "      <th>3</th>\n",
       "      <td>Clerical</td>\n",
       "      <td>Big Promo</td>\n",
       "      <td>Cash Register Handout</td>\n",
       "      <td>77.70</td>\n",
       "      <td>4</td>\n",
       "      <td>8.0</td>\n",
       "      <td>23.82</td>\n",
       "      <td>9.4024</td>\n",
       "      <td>310.80</td>\n",
       "      <td>2.350678</td>\n",
       "    </tr>\n",
       "    <tr>\n",
       "      <th>4</th>\n",
       "      <td>Clerical</td>\n",
       "      <td>Big Promo</td>\n",
       "      <td>Sunday Paper, Radio, TV</td>\n",
       "      <td>117.04</td>\n",
       "      <td>6</td>\n",
       "      <td>24.0</td>\n",
       "      <td>34.34</td>\n",
       "      <td>15.4340</td>\n",
       "      <td>702.24</td>\n",
       "      <td>2.572450</td>\n",
       "    </tr>\n",
       "  </tbody>\n",
       "</table>\n",
       "</div>"
      ],
      "text/plain": [
       "  occupation promotion_name               media_type    cost  total_acq_customers  total_units_sold  total_store_sales  total_store_cost  total_acq_cost       CAC\n",
       "0   Clerical   Bag Stuffers       Product Attachment   82.62                    3              10.0              21.29            7.2411          247.86  2.413783\n",
       "1   Clerical   Best Savings   Daily Paper, Radio, TV   53.82                    3               8.0              27.85           11.0859          161.46  3.695354\n",
       "2   Clerical   Best Savings           Street Handout  114.01                    6              24.0              50.70           18.9292          684.06  3.154981\n",
       "3   Clerical      Big Promo    Cash Register Handout   77.70                    4               8.0              23.82            9.4024          310.80  2.350678\n",
       "4   Clerical      Big Promo  Sunday Paper, Radio, TV  117.04                    6              24.0              34.34           15.4340          702.24  2.572450"
      ]
     },
     "execution_count": 40,
     "metadata": {},
     "output_type": "execute_result"
    }
   ],
   "source": [
    "occupationlvl_promo_info.head()"
   ]
  },
  {
   "cell_type": "code",
   "execution_count": 41,
   "id": "617f07ca",
   "metadata": {},
   "outputs": [],
   "source": [
    "houseownerlvl_promo_info = df.groupby(['houseowner',\n",
    "                                'promotion_name',\n",
    "                                'media_type',\n",
    "                                'cost']).agg(\n",
    "                                            total_acq_customers = pd.NamedAgg('member_card', 'count'),\n",
    "                                            total_units_sold = pd.NamedAgg('unit_sales', 'sum'),\n",
    "                                            total_store_sales = pd.NamedAgg('store_sales','sum'),\n",
    "                                            total_store_cost = pd.NamedAgg('store_cost', 'sum'),\n",
    "                                            total_acq_cost = pd.NamedAgg('cost', 'sum')\n",
    "                                        ).reset_index().sort_values(\n",
    "                                                            ['houseowner',\n",
    "                                                             'promotion_name',\n",
    "                                                             'media_type']\n",
    "                                                        )\n",
    "\n",
    "houseownerlvl_promo_info['CAC'] = ( houseownerlvl_promo_info['total_store_cost'] + \\\n",
    "                             houseownerlvl_promo_info['total_acq_cost']/1000000 \\\n",
    "                           ) / houseownerlvl_promo_info['total_acq_customers']"
   ]
  },
  {
   "cell_type": "code",
   "execution_count": 42,
   "id": "4b042f56",
   "metadata": {},
   "outputs": [
    {
     "data": {
      "text/html": [
       "<div>\n",
       "<style scoped>\n",
       "    .dataframe tbody tr th:only-of-type {\n",
       "        vertical-align: middle;\n",
       "    }\n",
       "\n",
       "    .dataframe tbody tr th {\n",
       "        vertical-align: top;\n",
       "    }\n",
       "\n",
       "    .dataframe thead th {\n",
       "        text-align: right;\n",
       "    }\n",
       "</style>\n",
       "<table border=\"1\" class=\"dataframe\">\n",
       "  <thead>\n",
       "    <tr style=\"text-align: right;\">\n",
       "      <th></th>\n",
       "      <th>houseowner</th>\n",
       "      <th>promotion_name</th>\n",
       "      <th>media_type</th>\n",
       "      <th>cost</th>\n",
       "      <th>total_acq_customers</th>\n",
       "      <th>total_units_sold</th>\n",
       "      <th>total_store_sales</th>\n",
       "      <th>total_store_cost</th>\n",
       "      <th>total_acq_cost</th>\n",
       "      <th>CAC</th>\n",
       "    </tr>\n",
       "  </thead>\n",
       "  <tbody>\n",
       "    <tr>\n",
       "      <th>0</th>\n",
       "      <td>N</td>\n",
       "      <td>Bag Stuffers</td>\n",
       "      <td>Daily Paper</td>\n",
       "      <td>70.32</td>\n",
       "      <td>94</td>\n",
       "      <td>309.0</td>\n",
       "      <td>663.91</td>\n",
       "      <td>266.6499</td>\n",
       "      <td>6610.08</td>\n",
       "      <td>2.836771</td>\n",
       "    </tr>\n",
       "    <tr>\n",
       "      <th>1</th>\n",
       "      <td>N</td>\n",
       "      <td>Bag Stuffers</td>\n",
       "      <td>Daily Paper, Radio</td>\n",
       "      <td>117.93</td>\n",
       "      <td>16</td>\n",
       "      <td>31.0</td>\n",
       "      <td>58.69</td>\n",
       "      <td>23.8061</td>\n",
       "      <td>1886.88</td>\n",
       "      <td>1.487999</td>\n",
       "    </tr>\n",
       "    <tr>\n",
       "      <th>2</th>\n",
       "      <td>N</td>\n",
       "      <td>Bag Stuffers</td>\n",
       "      <td>Daily Paper, Radio</td>\n",
       "      <td>126.62</td>\n",
       "      <td>267</td>\n",
       "      <td>836.0</td>\n",
       "      <td>1756.00</td>\n",
       "      <td>697.8180</td>\n",
       "      <td>33807.54</td>\n",
       "      <td>2.613677</td>\n",
       "    </tr>\n",
       "    <tr>\n",
       "      <th>3</th>\n",
       "      <td>N</td>\n",
       "      <td>Bag Stuffers</td>\n",
       "      <td>Product Attachment</td>\n",
       "      <td>82.62</td>\n",
       "      <td>85</td>\n",
       "      <td>267.0</td>\n",
       "      <td>513.54</td>\n",
       "      <td>200.5130</td>\n",
       "      <td>7022.70</td>\n",
       "      <td>2.359059</td>\n",
       "    </tr>\n",
       "    <tr>\n",
       "      <th>4</th>\n",
       "      <td>N</td>\n",
       "      <td>Bag Stuffers</td>\n",
       "      <td>Street Handout</td>\n",
       "      <td>123.79</td>\n",
       "      <td>11</td>\n",
       "      <td>17.0</td>\n",
       "      <td>32.34</td>\n",
       "      <td>13.0093</td>\n",
       "      <td>1361.69</td>\n",
       "      <td>1.182787</td>\n",
       "    </tr>\n",
       "  </tbody>\n",
       "</table>\n",
       "</div>"
      ],
      "text/plain": [
       "  houseowner promotion_name          media_type    cost  total_acq_customers  total_units_sold  total_store_sales  total_store_cost  total_acq_cost       CAC\n",
       "0          N   Bag Stuffers         Daily Paper   70.32                   94             309.0             663.91          266.6499         6610.08  2.836771\n",
       "1          N   Bag Stuffers  Daily Paper, Radio  117.93                   16              31.0              58.69           23.8061         1886.88  1.487999\n",
       "2          N   Bag Stuffers  Daily Paper, Radio  126.62                  267             836.0            1756.00          697.8180        33807.54  2.613677\n",
       "3          N   Bag Stuffers  Product Attachment   82.62                   85             267.0             513.54          200.5130         7022.70  2.359059\n",
       "4          N   Bag Stuffers      Street Handout  123.79                   11              17.0              32.34           13.0093         1361.69  1.182787"
      ]
     },
     "execution_count": 42,
     "metadata": {},
     "output_type": "execute_result"
    }
   ],
   "source": [
    "houseownerlvl_promo_info.head()"
   ]
  },
  {
   "cell_type": "code",
   "execution_count": 43,
   "id": "39f8edcd",
   "metadata": {},
   "outputs": [],
   "source": [
    "carslvl_promo_info = df.groupby(['avg_cars_at_home',\n",
    "                                'promotion_name',\n",
    "                                'media_type',\n",
    "                                'cost']).agg(\n",
    "                                            total_acq_customers = pd.NamedAgg('member_card', 'count'),\n",
    "                                            total_units_sold = pd.NamedAgg('unit_sales', 'sum'),\n",
    "                                            total_store_sales = pd.NamedAgg('store_sales','sum'),\n",
    "                                            total_store_cost = pd.NamedAgg('store_cost', 'sum'),\n",
    "                                            total_acq_cost = pd.NamedAgg('cost', 'sum')\n",
    "                                        ).reset_index().sort_values(\n",
    "                                                            ['avg_cars_at_home',\n",
    "                                                             'promotion_name',\n",
    "                                                             'media_type']\n",
    "                                                        )\n",
    "\n",
    "carslvl_promo_info['CAC'] = ( carslvl_promo_info['total_store_cost'] + \\\n",
    "                             carslvl_promo_info['total_acq_cost']/1000000 \\\n",
    "                           ) / carslvl_promo_info['total_acq_customers']"
   ]
  },
  {
   "cell_type": "code",
   "execution_count": 44,
   "id": "91be8729",
   "metadata": {},
   "outputs": [
    {
     "data": {
      "text/html": [
       "<div>\n",
       "<style scoped>\n",
       "    .dataframe tbody tr th:only-of-type {\n",
       "        vertical-align: middle;\n",
       "    }\n",
       "\n",
       "    .dataframe tbody tr th {\n",
       "        vertical-align: top;\n",
       "    }\n",
       "\n",
       "    .dataframe thead th {\n",
       "        text-align: right;\n",
       "    }\n",
       "</style>\n",
       "<table border=\"1\" class=\"dataframe\">\n",
       "  <thead>\n",
       "    <tr style=\"text-align: right;\">\n",
       "      <th></th>\n",
       "      <th>avg_cars_at_home</th>\n",
       "      <th>promotion_name</th>\n",
       "      <th>media_type</th>\n",
       "      <th>cost</th>\n",
       "      <th>total_acq_customers</th>\n",
       "      <th>total_units_sold</th>\n",
       "      <th>total_store_sales</th>\n",
       "      <th>total_store_cost</th>\n",
       "      <th>total_acq_cost</th>\n",
       "      <th>CAC</th>\n",
       "    </tr>\n",
       "  </thead>\n",
       "  <tbody>\n",
       "    <tr>\n",
       "      <th>0</th>\n",
       "      <td>0.0</td>\n",
       "      <td>Bag Stuffers</td>\n",
       "      <td>Daily Paper</td>\n",
       "      <td>70.32</td>\n",
       "      <td>4</td>\n",
       "      <td>12.0</td>\n",
       "      <td>14.68</td>\n",
       "      <td>5.4890</td>\n",
       "      <td>281.28</td>\n",
       "      <td>1.372320</td>\n",
       "    </tr>\n",
       "    <tr>\n",
       "      <th>1</th>\n",
       "      <td>0.0</td>\n",
       "      <td>Bag Stuffers</td>\n",
       "      <td>Daily Paper, Radio</td>\n",
       "      <td>126.62</td>\n",
       "      <td>34</td>\n",
       "      <td>105.0</td>\n",
       "      <td>223.93</td>\n",
       "      <td>90.0494</td>\n",
       "      <td>4305.08</td>\n",
       "      <td>2.648638</td>\n",
       "    </tr>\n",
       "    <tr>\n",
       "      <th>2</th>\n",
       "      <td>0.0</td>\n",
       "      <td>Bag Stuffers</td>\n",
       "      <td>Product Attachment</td>\n",
       "      <td>82.62</td>\n",
       "      <td>21</td>\n",
       "      <td>67.0</td>\n",
       "      <td>136.53</td>\n",
       "      <td>55.7785</td>\n",
       "      <td>1735.02</td>\n",
       "      <td>2.656202</td>\n",
       "    </tr>\n",
       "    <tr>\n",
       "      <th>3</th>\n",
       "      <td>0.0</td>\n",
       "      <td>Bag Stuffers</td>\n",
       "      <td>Street Handout</td>\n",
       "      <td>123.79</td>\n",
       "      <td>6</td>\n",
       "      <td>10.0</td>\n",
       "      <td>18.56</td>\n",
       "      <td>7.1836</td>\n",
       "      <td>742.74</td>\n",
       "      <td>1.197390</td>\n",
       "    </tr>\n",
       "    <tr>\n",
       "      <th>4</th>\n",
       "      <td>0.0</td>\n",
       "      <td>Best Savings</td>\n",
       "      <td>Cash Register Handout</td>\n",
       "      <td>110.17</td>\n",
       "      <td>21</td>\n",
       "      <td>62.0</td>\n",
       "      <td>117.22</td>\n",
       "      <td>45.8509</td>\n",
       "      <td>2313.57</td>\n",
       "      <td>2.183486</td>\n",
       "    </tr>\n",
       "  </tbody>\n",
       "</table>\n",
       "</div>"
      ],
      "text/plain": [
       "   avg_cars_at_home promotion_name             media_type    cost  total_acq_customers  total_units_sold  total_store_sales  total_store_cost  total_acq_cost       CAC\n",
       "0               0.0   Bag Stuffers            Daily Paper   70.32                    4              12.0              14.68            5.4890          281.28  1.372320\n",
       "1               0.0   Bag Stuffers     Daily Paper, Radio  126.62                   34             105.0             223.93           90.0494         4305.08  2.648638\n",
       "2               0.0   Bag Stuffers     Product Attachment   82.62                   21              67.0             136.53           55.7785         1735.02  2.656202\n",
       "3               0.0   Bag Stuffers         Street Handout  123.79                    6              10.0              18.56            7.1836          742.74  1.197390\n",
       "4               0.0   Best Savings  Cash Register Handout  110.17                   21              62.0             117.22           45.8509         2313.57  2.183486"
      ]
     },
     "execution_count": 44,
     "metadata": {},
     "output_type": "execute_result"
    }
   ],
   "source": [
    "carslvl_promo_info.head()"
   ]
  },
  {
   "cell_type": "code",
   "execution_count": 45,
   "id": "8542acc8",
   "metadata": {},
   "outputs": [],
   "source": [
    "incomelvl_promo_info = df.groupby(['avg. yearly_income',\n",
    "                                'promotion_name',\n",
    "                                'media_type',\n",
    "                                'cost']).agg(\n",
    "                                            total_acq_customers = pd.NamedAgg('member_card', 'count'),\n",
    "                                            total_units_sold = pd.NamedAgg('unit_sales', 'sum'),\n",
    "                                            total_store_sales = pd.NamedAgg('store_sales','sum'),\n",
    "                                            total_store_cost = pd.NamedAgg('store_cost', 'sum'),\n",
    "                                            total_acq_cost = pd.NamedAgg('cost', 'sum')\n",
    "                                        ).reset_index().sort_values(\n",
    "                                                            ['avg. yearly_income',\n",
    "                                                             'promotion_name',\n",
    "                                                             'media_type']\n",
    "                                                        )\n",
    "\n",
    "incomelvl_promo_info['CAC'] = ( incomelvl_promo_info['total_store_cost'] + \\\n",
    "                             incomelvl_promo_info['total_acq_cost']/1000000 \\\n",
    "                           ) / incomelvl_promo_info['total_acq_customers']"
   ]
  },
  {
   "cell_type": "code",
   "execution_count": 46,
   "id": "ca809c7e",
   "metadata": {},
   "outputs": [
    {
     "data": {
      "text/html": [
       "<div>\n",
       "<style scoped>\n",
       "    .dataframe tbody tr th:only-of-type {\n",
       "        vertical-align: middle;\n",
       "    }\n",
       "\n",
       "    .dataframe tbody tr th {\n",
       "        vertical-align: top;\n",
       "    }\n",
       "\n",
       "    .dataframe thead th {\n",
       "        text-align: right;\n",
       "    }\n",
       "</style>\n",
       "<table border=\"1\" class=\"dataframe\">\n",
       "  <thead>\n",
       "    <tr style=\"text-align: right;\">\n",
       "      <th></th>\n",
       "      <th>avg. yearly_income</th>\n",
       "      <th>promotion_name</th>\n",
       "      <th>media_type</th>\n",
       "      <th>cost</th>\n",
       "      <th>total_acq_customers</th>\n",
       "      <th>total_units_sold</th>\n",
       "      <th>total_store_sales</th>\n",
       "      <th>total_store_cost</th>\n",
       "      <th>total_acq_cost</th>\n",
       "      <th>CAC</th>\n",
       "    </tr>\n",
       "  </thead>\n",
       "  <tbody>\n",
       "    <tr>\n",
       "      <th>0</th>\n",
       "      <td>$10K - $30K</td>\n",
       "      <td>Bag Stuffers</td>\n",
       "      <td>Daily Paper</td>\n",
       "      <td>70.32</td>\n",
       "      <td>29</td>\n",
       "      <td>92.0</td>\n",
       "      <td>189.36</td>\n",
       "      <td>73.8589</td>\n",
       "      <td>2039.28</td>\n",
       "      <td>2.546929</td>\n",
       "    </tr>\n",
       "    <tr>\n",
       "      <th>1</th>\n",
       "      <td>$10K - $30K</td>\n",
       "      <td>Bag Stuffers</td>\n",
       "      <td>Daily Paper, Radio</td>\n",
       "      <td>117.93</td>\n",
       "      <td>4</td>\n",
       "      <td>9.0</td>\n",
       "      <td>20.83</td>\n",
       "      <td>9.8495</td>\n",
       "      <td>471.72</td>\n",
       "      <td>2.462493</td>\n",
       "    </tr>\n",
       "    <tr>\n",
       "      <th>2</th>\n",
       "      <td>$10K - $30K</td>\n",
       "      <td>Bag Stuffers</td>\n",
       "      <td>Daily Paper, Radio</td>\n",
       "      <td>126.62</td>\n",
       "      <td>155</td>\n",
       "      <td>482.0</td>\n",
       "      <td>987.39</td>\n",
       "      <td>386.2931</td>\n",
       "      <td>19626.10</td>\n",
       "      <td>2.492340</td>\n",
       "    </tr>\n",
       "    <tr>\n",
       "      <th>3</th>\n",
       "      <td>$10K - $30K</td>\n",
       "      <td>Bag Stuffers</td>\n",
       "      <td>Product Attachment</td>\n",
       "      <td>82.62</td>\n",
       "      <td>32</td>\n",
       "      <td>100.0</td>\n",
       "      <td>227.33</td>\n",
       "      <td>92.0117</td>\n",
       "      <td>2643.84</td>\n",
       "      <td>2.875448</td>\n",
       "    </tr>\n",
       "    <tr>\n",
       "      <th>4</th>\n",
       "      <td>$10K - $30K</td>\n",
       "      <td>Bag Stuffers</td>\n",
       "      <td>Street Handout</td>\n",
       "      <td>123.79</td>\n",
       "      <td>22</td>\n",
       "      <td>37.0</td>\n",
       "      <td>77.02</td>\n",
       "      <td>32.3399</td>\n",
       "      <td>2723.38</td>\n",
       "      <td>1.470119</td>\n",
       "    </tr>\n",
       "  </tbody>\n",
       "</table>\n",
       "</div>"
      ],
      "text/plain": [
       "  avg. yearly_income promotion_name          media_type    cost  total_acq_customers  total_units_sold  total_store_sales  total_store_cost  total_acq_cost       CAC\n",
       "0        $10K - $30K   Bag Stuffers         Daily Paper   70.32                   29              92.0             189.36           73.8589         2039.28  2.546929\n",
       "1        $10K - $30K   Bag Stuffers  Daily Paper, Radio  117.93                    4               9.0              20.83            9.8495          471.72  2.462493\n",
       "2        $10K - $30K   Bag Stuffers  Daily Paper, Radio  126.62                  155             482.0             987.39          386.2931        19626.10  2.492340\n",
       "3        $10K - $30K   Bag Stuffers  Product Attachment   82.62                   32             100.0             227.33           92.0117         2643.84  2.875448\n",
       "4        $10K - $30K   Bag Stuffers      Street Handout  123.79                   22              37.0              77.02           32.3399         2723.38  1.470119"
      ]
     },
     "execution_count": 46,
     "metadata": {},
     "output_type": "execute_result"
    }
   ],
   "source": [
    "incomelvl_promo_info.head()"
   ]
  },
  {
   "cell_type": "code",
   "execution_count": 47,
   "id": "23880ba6",
   "metadata": {},
   "outputs": [],
   "source": [
    "childrenathomelvl_promo_info = df.groupby(['num_children_at_home',\n",
    "                                'promotion_name',\n",
    "                                'media_type',\n",
    "                                'cost']).agg(\n",
    "                                            total_acq_customers = pd.NamedAgg('member_card', 'count'),\n",
    "                                            total_units_sold = pd.NamedAgg('unit_sales', 'sum'),\n",
    "                                            total_store_sales = pd.NamedAgg('store_sales','sum'),\n",
    "                                            total_store_cost = pd.NamedAgg('store_cost', 'sum'),\n",
    "                                            total_acq_cost = pd.NamedAgg('cost', 'sum')\n",
    "                                        ).reset_index().sort_values(\n",
    "                                                            ['num_children_at_home',\n",
    "                                                             'promotion_name',\n",
    "                                                             'media_type']\n",
    "                                                        )\n",
    "\n",
    "childrenathomelvl_promo_info['CAC'] = ( childrenathomelvl_promo_info['total_store_cost'] + \\\n",
    "                             childrenathomelvl_promo_info['total_acq_cost']/1000000 \\\n",
    "                           ) / childrenathomelvl_promo_info['total_acq_customers']"
   ]
  },
  {
   "cell_type": "code",
   "execution_count": 48,
   "id": "34245779",
   "metadata": {},
   "outputs": [
    {
     "data": {
      "text/html": [
       "<div>\n",
       "<style scoped>\n",
       "    .dataframe tbody tr th:only-of-type {\n",
       "        vertical-align: middle;\n",
       "    }\n",
       "\n",
       "    .dataframe tbody tr th {\n",
       "        vertical-align: top;\n",
       "    }\n",
       "\n",
       "    .dataframe thead th {\n",
       "        text-align: right;\n",
       "    }\n",
       "</style>\n",
       "<table border=\"1\" class=\"dataframe\">\n",
       "  <thead>\n",
       "    <tr style=\"text-align: right;\">\n",
       "      <th></th>\n",
       "      <th>num_children_at_home</th>\n",
       "      <th>promotion_name</th>\n",
       "      <th>media_type</th>\n",
       "      <th>cost</th>\n",
       "      <th>total_acq_customers</th>\n",
       "      <th>total_units_sold</th>\n",
       "      <th>total_store_sales</th>\n",
       "      <th>total_store_cost</th>\n",
       "      <th>total_acq_cost</th>\n",
       "      <th>CAC</th>\n",
       "    </tr>\n",
       "  </thead>\n",
       "  <tbody>\n",
       "    <tr>\n",
       "      <th>0</th>\n",
       "      <td>0.0</td>\n",
       "      <td>Bag Stuffers</td>\n",
       "      <td>Daily Paper</td>\n",
       "      <td>70.32</td>\n",
       "      <td>139</td>\n",
       "      <td>453.0</td>\n",
       "      <td>993.55</td>\n",
       "      <td>401.5123</td>\n",
       "      <td>9774.48</td>\n",
       "      <td>2.888648</td>\n",
       "    </tr>\n",
       "    <tr>\n",
       "      <th>1</th>\n",
       "      <td>0.0</td>\n",
       "      <td>Bag Stuffers</td>\n",
       "      <td>Daily Paper, Radio</td>\n",
       "      <td>117.93</td>\n",
       "      <td>14</td>\n",
       "      <td>25.0</td>\n",
       "      <td>58.79</td>\n",
       "      <td>23.8811</td>\n",
       "      <td>1651.02</td>\n",
       "      <td>1.705911</td>\n",
       "    </tr>\n",
       "    <tr>\n",
       "      <th>2</th>\n",
       "      <td>0.0</td>\n",
       "      <td>Bag Stuffers</td>\n",
       "      <td>Daily Paper, Radio</td>\n",
       "      <td>126.62</td>\n",
       "      <td>383</td>\n",
       "      <td>1180.0</td>\n",
       "      <td>2499.40</td>\n",
       "      <td>991.2653</td>\n",
       "      <td>48495.46</td>\n",
       "      <td>2.588287</td>\n",
       "    </tr>\n",
       "    <tr>\n",
       "      <th>3</th>\n",
       "      <td>0.0</td>\n",
       "      <td>Bag Stuffers</td>\n",
       "      <td>Product Attachment</td>\n",
       "      <td>82.62</td>\n",
       "      <td>147</td>\n",
       "      <td>471.0</td>\n",
       "      <td>999.16</td>\n",
       "      <td>400.1774</td>\n",
       "      <td>12145.14</td>\n",
       "      <td>2.722378</td>\n",
       "    </tr>\n",
       "    <tr>\n",
       "      <th>4</th>\n",
       "      <td>0.0</td>\n",
       "      <td>Bag Stuffers</td>\n",
       "      <td>Street Handout</td>\n",
       "      <td>123.79</td>\n",
       "      <td>35</td>\n",
       "      <td>58.0</td>\n",
       "      <td>116.65</td>\n",
       "      <td>48.7756</td>\n",
       "      <td>4332.65</td>\n",
       "      <td>1.393712</td>\n",
       "    </tr>\n",
       "  </tbody>\n",
       "</table>\n",
       "</div>"
      ],
      "text/plain": [
       "   num_children_at_home promotion_name          media_type    cost  total_acq_customers  total_units_sold  total_store_sales  total_store_cost  total_acq_cost       CAC\n",
       "0                   0.0   Bag Stuffers         Daily Paper   70.32                  139             453.0             993.55          401.5123         9774.48  2.888648\n",
       "1                   0.0   Bag Stuffers  Daily Paper, Radio  117.93                   14              25.0              58.79           23.8811         1651.02  1.705911\n",
       "2                   0.0   Bag Stuffers  Daily Paper, Radio  126.62                  383            1180.0            2499.40          991.2653        48495.46  2.588287\n",
       "3                   0.0   Bag Stuffers  Product Attachment   82.62                  147             471.0             999.16          400.1774        12145.14  2.722378\n",
       "4                   0.0   Bag Stuffers      Street Handout  123.79                   35              58.0             116.65           48.7756         4332.65  1.393712"
      ]
     },
     "execution_count": 48,
     "metadata": {},
     "output_type": "execute_result"
    }
   ],
   "source": [
    "childrenathomelvl_promo_info.head()"
   ]
  },
  {
   "cell_type": "code",
   "execution_count": 49,
   "id": "a9a92f54",
   "metadata": {},
   "outputs": [],
   "source": [
    "#Product Level"
   ]
  },
  {
   "cell_type": "code",
   "execution_count": 50,
   "id": "f7f52eab",
   "metadata": {},
   "outputs": [],
   "source": [
    "productlvl_info = df.groupby(['sales_country',\n",
    "                            'brand_name',\n",
    "                            'SRP',\n",
    "                            'gross_weight',\n",
    "                            'net_weight',\n",
    "                            'recyclable_package',\n",
    "                            'low_fat',\n",
    "                            'units_per_case']).agg(\n",
    "                                            total_acq_customers = pd.NamedAgg('member_card', 'count'),\n",
    "                                            total_units_sold = pd.NamedAgg('unit_sales', 'sum'),\n",
    "                                            total_store_sales = pd.NamedAgg('store_sales','sum'),\n",
    "                                            total_store_cost = pd.NamedAgg('store_cost', 'sum'),\n",
    "                                            total_acq_cost = pd.NamedAgg('cost', 'sum')\n",
    "                                        ).reset_index().sort_values(\n",
    "                                                                    ['sales_country',\n",
    "                                                                     'brand_name',\n",
    "                                                                     'SRP',\n",
    "                                                                     'net_weight',\n",
    "                                                                     'recyclable_package',\n",
    "                                                                     'low_fat',\n",
    "                                                                     'units_per_case']\n",
    "                                                                    )\n",
    "\n",
    "productlvl_info['CAC'] = ( productlvl_info['total_store_cost'] + \\\n",
    "                             productlvl_info['total_acq_cost']/1000000 \\\n",
    "                           ) / productlvl_info['total_acq_customers']"
   ]
  },
  {
   "cell_type": "code",
   "execution_count": 51,
   "id": "d8f99269",
   "metadata": {},
   "outputs": [
    {
     "data": {
      "text/html": [
       "<div>\n",
       "<style scoped>\n",
       "    .dataframe tbody tr th:only-of-type {\n",
       "        vertical-align: middle;\n",
       "    }\n",
       "\n",
       "    .dataframe tbody tr th {\n",
       "        vertical-align: top;\n",
       "    }\n",
       "\n",
       "    .dataframe thead th {\n",
       "        text-align: right;\n",
       "    }\n",
       "</style>\n",
       "<table border=\"1\" class=\"dataframe\">\n",
       "  <thead>\n",
       "    <tr style=\"text-align: right;\">\n",
       "      <th></th>\n",
       "      <th>sales_country</th>\n",
       "      <th>brand_name</th>\n",
       "      <th>SRP</th>\n",
       "      <th>gross_weight</th>\n",
       "      <th>net_weight</th>\n",
       "      <th>recyclable_package</th>\n",
       "      <th>low_fat</th>\n",
       "      <th>units_per_case</th>\n",
       "      <th>total_acq_customers</th>\n",
       "      <th>total_units_sold</th>\n",
       "      <th>total_store_sales</th>\n",
       "      <th>total_store_cost</th>\n",
       "      <th>total_acq_cost</th>\n",
       "      <th>CAC</th>\n",
       "    </tr>\n",
       "  </thead>\n",
       "  <tbody>\n",
       "    <tr>\n",
       "      <th>0</th>\n",
       "      <td>Canada</td>\n",
       "      <td>ADJ</td>\n",
       "      <td>2.76</td>\n",
       "      <td>19.60</td>\n",
       "      <td>18.60</td>\n",
       "      <td>1.0</td>\n",
       "      <td>0.0</td>\n",
       "      <td>26.0</td>\n",
       "      <td>3</td>\n",
       "      <td>10.0</td>\n",
       "      <td>27.60</td>\n",
       "      <td>10.2948</td>\n",
       "      <td>323.78</td>\n",
       "      <td>3.431708</td>\n",
       "    </tr>\n",
       "    <tr>\n",
       "      <th>1</th>\n",
       "      <td>Canada</td>\n",
       "      <td>Akron</td>\n",
       "      <td>1.74</td>\n",
       "      <td>8.24</td>\n",
       "      <td>6.23</td>\n",
       "      <td>0.0</td>\n",
       "      <td>0.0</td>\n",
       "      <td>18.0</td>\n",
       "      <td>5</td>\n",
       "      <td>18.0</td>\n",
       "      <td>31.32</td>\n",
       "      <td>10.9272</td>\n",
       "      <td>497.18</td>\n",
       "      <td>2.185539</td>\n",
       "    </tr>\n",
       "    <tr>\n",
       "      <th>2</th>\n",
       "      <td>Canada</td>\n",
       "      <td>Akron</td>\n",
       "      <td>1.76</td>\n",
       "      <td>11.40</td>\n",
       "      <td>10.30</td>\n",
       "      <td>1.0</td>\n",
       "      <td>0.0</td>\n",
       "      <td>19.0</td>\n",
       "      <td>1</td>\n",
       "      <td>2.0</td>\n",
       "      <td>3.52</td>\n",
       "      <td>1.1616</td>\n",
       "      <td>122.77</td>\n",
       "      <td>1.161723</td>\n",
       "    </tr>\n",
       "    <tr>\n",
       "      <th>3</th>\n",
       "      <td>Canada</td>\n",
       "      <td>American</td>\n",
       "      <td>0.59</td>\n",
       "      <td>7.32</td>\n",
       "      <td>5.32</td>\n",
       "      <td>1.0</td>\n",
       "      <td>0.0</td>\n",
       "      <td>24.0</td>\n",
       "      <td>5</td>\n",
       "      <td>16.0</td>\n",
       "      <td>9.44</td>\n",
       "      <td>3.6816</td>\n",
       "      <td>558.01</td>\n",
       "      <td>0.736432</td>\n",
       "    </tr>\n",
       "    <tr>\n",
       "      <th>4</th>\n",
       "      <td>Canada</td>\n",
       "      <td>American</td>\n",
       "      <td>0.78</td>\n",
       "      <td>14.20</td>\n",
       "      <td>11.10</td>\n",
       "      <td>1.0</td>\n",
       "      <td>0.0</td>\n",
       "      <td>19.0</td>\n",
       "      <td>3</td>\n",
       "      <td>9.0</td>\n",
       "      <td>7.02</td>\n",
       "      <td>2.7846</td>\n",
       "      <td>201.34</td>\n",
       "      <td>0.928267</td>\n",
       "    </tr>\n",
       "  </tbody>\n",
       "</table>\n",
       "</div>"
      ],
      "text/plain": [
       "  sales_country brand_name   SRP  gross_weight  net_weight  recyclable_package  low_fat  units_per_case  total_acq_customers  total_units_sold  total_store_sales  total_store_cost  total_acq_cost       CAC\n",
       "0        Canada        ADJ  2.76         19.60       18.60                 1.0      0.0            26.0                    3              10.0              27.60           10.2948          323.78  3.431708\n",
       "1        Canada      Akron  1.74          8.24        6.23                 0.0      0.0            18.0                    5              18.0              31.32           10.9272          497.18  2.185539\n",
       "2        Canada      Akron  1.76         11.40       10.30                 1.0      0.0            19.0                    1               2.0               3.52            1.1616          122.77  1.161723\n",
       "3        Canada   American  0.59          7.32        5.32                 1.0      0.0            24.0                    5              16.0               9.44            3.6816          558.01  0.736432\n",
       "4        Canada   American  0.78         14.20       11.10                 1.0      0.0            19.0                    3               9.0               7.02            2.7846          201.34  0.928267"
      ]
     },
     "execution_count": 51,
     "metadata": {},
     "output_type": "execute_result"
    }
   ],
   "source": [
    "productlvl_info.head()"
   ]
  },
  {
   "cell_type": "code",
   "execution_count": null,
   "id": "afb377e9",
   "metadata": {},
   "outputs": [],
   "source": []
  },
  {
   "cell_type": "code",
   "execution_count": null,
   "id": "6a7c2dc2",
   "metadata": {},
   "outputs": [],
   "source": []
  }
 ],
 "metadata": {
  "kernelspec": {
   "display_name": "base",
   "language": "python",
   "name": "python3"
  },
  "language_info": {
   "codemirror_mode": {
    "name": "ipython",
    "version": 3
   },
   "file_extension": ".py",
   "mimetype": "text/x-python",
   "name": "python",
   "nbconvert_exporter": "python",
   "pygments_lexer": "ipython3",
   "version": "3.9.13"
  },
  "vscode": {
   "interpreter": {
    "hash": "ac837a0f760b54e650e84fd9fd7cf59f3e618d133bfdba64d4a3a5842684715c"
   }
  }
 },
 "nbformat": 4,
 "nbformat_minor": 5
}
